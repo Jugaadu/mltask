{
 "cells": [
  {
   "cell_type": "code",
   "execution_count": 1,
   "metadata": {},
   "outputs": [],
   "source": [
    "import pandas as pd\n",
    "import numpy as np\n",
    "import matplotlib as mpl\n",
    "import matplotlib.pyplot as plt"
   ]
  },
  {
   "cell_type": "code",
   "execution_count": 2,
   "metadata": {},
   "outputs": [],
   "source": [
    "df = pd.read_csv('letter-recognition.data',header = None)"
   ]
  },
  {
   "cell_type": "code",
   "execution_count": 3,
   "metadata": {},
   "outputs": [],
   "source": [
    "df.columns = ['lettr','x-box','y-box','width','high ','onpix','x-bar','y-bar','x2bar','y2bar',\n",
    "              'xybar','x2ybr','xy2br','x-ege','xegvy','y-ege','yegvx']"
   ]
  },
  {
   "cell_type": "code",
   "execution_count": 4,
   "metadata": {},
   "outputs": [
    {
     "data": {
      "text/html": [
       "<div>\n",
       "<style scoped>\n",
       "    .dataframe tbody tr th:only-of-type {\n",
       "        vertical-align: middle;\n",
       "    }\n",
       "\n",
       "    .dataframe tbody tr th {\n",
       "        vertical-align: top;\n",
       "    }\n",
       "\n",
       "    .dataframe thead th {\n",
       "        text-align: right;\n",
       "    }\n",
       "</style>\n",
       "<table border=\"1\" class=\"dataframe\">\n",
       "  <thead>\n",
       "    <tr style=\"text-align: right;\">\n",
       "      <th></th>\n",
       "      <th>lettr</th>\n",
       "      <th>x-box</th>\n",
       "      <th>y-box</th>\n",
       "      <th>width</th>\n",
       "      <th>high</th>\n",
       "      <th>onpix</th>\n",
       "      <th>x-bar</th>\n",
       "      <th>y-bar</th>\n",
       "      <th>x2bar</th>\n",
       "      <th>y2bar</th>\n",
       "      <th>xybar</th>\n",
       "      <th>x2ybr</th>\n",
       "      <th>xy2br</th>\n",
       "      <th>x-ege</th>\n",
       "      <th>xegvy</th>\n",
       "      <th>y-ege</th>\n",
       "      <th>yegvx</th>\n",
       "    </tr>\n",
       "  </thead>\n",
       "  <tbody>\n",
       "    <tr>\n",
       "      <th>0</th>\n",
       "      <td>T</td>\n",
       "      <td>2</td>\n",
       "      <td>8</td>\n",
       "      <td>3</td>\n",
       "      <td>5</td>\n",
       "      <td>1</td>\n",
       "      <td>8</td>\n",
       "      <td>13</td>\n",
       "      <td>0</td>\n",
       "      <td>6</td>\n",
       "      <td>6</td>\n",
       "      <td>10</td>\n",
       "      <td>8</td>\n",
       "      <td>0</td>\n",
       "      <td>8</td>\n",
       "      <td>0</td>\n",
       "      <td>8</td>\n",
       "    </tr>\n",
       "    <tr>\n",
       "      <th>1</th>\n",
       "      <td>I</td>\n",
       "      <td>5</td>\n",
       "      <td>12</td>\n",
       "      <td>3</td>\n",
       "      <td>7</td>\n",
       "      <td>2</td>\n",
       "      <td>10</td>\n",
       "      <td>5</td>\n",
       "      <td>5</td>\n",
       "      <td>4</td>\n",
       "      <td>13</td>\n",
       "      <td>3</td>\n",
       "      <td>9</td>\n",
       "      <td>2</td>\n",
       "      <td>8</td>\n",
       "      <td>4</td>\n",
       "      <td>10</td>\n",
       "    </tr>\n",
       "    <tr>\n",
       "      <th>2</th>\n",
       "      <td>D</td>\n",
       "      <td>4</td>\n",
       "      <td>11</td>\n",
       "      <td>6</td>\n",
       "      <td>8</td>\n",
       "      <td>6</td>\n",
       "      <td>10</td>\n",
       "      <td>6</td>\n",
       "      <td>2</td>\n",
       "      <td>6</td>\n",
       "      <td>10</td>\n",
       "      <td>3</td>\n",
       "      <td>7</td>\n",
       "      <td>3</td>\n",
       "      <td>7</td>\n",
       "      <td>3</td>\n",
       "      <td>9</td>\n",
       "    </tr>\n",
       "    <tr>\n",
       "      <th>3</th>\n",
       "      <td>N</td>\n",
       "      <td>7</td>\n",
       "      <td>11</td>\n",
       "      <td>6</td>\n",
       "      <td>6</td>\n",
       "      <td>3</td>\n",
       "      <td>5</td>\n",
       "      <td>9</td>\n",
       "      <td>4</td>\n",
       "      <td>6</td>\n",
       "      <td>4</td>\n",
       "      <td>4</td>\n",
       "      <td>10</td>\n",
       "      <td>6</td>\n",
       "      <td>10</td>\n",
       "      <td>2</td>\n",
       "      <td>8</td>\n",
       "    </tr>\n",
       "    <tr>\n",
       "      <th>4</th>\n",
       "      <td>G</td>\n",
       "      <td>2</td>\n",
       "      <td>1</td>\n",
       "      <td>3</td>\n",
       "      <td>1</td>\n",
       "      <td>1</td>\n",
       "      <td>8</td>\n",
       "      <td>6</td>\n",
       "      <td>6</td>\n",
       "      <td>6</td>\n",
       "      <td>6</td>\n",
       "      <td>5</td>\n",
       "      <td>9</td>\n",
       "      <td>1</td>\n",
       "      <td>7</td>\n",
       "      <td>5</td>\n",
       "      <td>10</td>\n",
       "    </tr>\n",
       "  </tbody>\n",
       "</table>\n",
       "</div>"
      ],
      "text/plain": [
       "  lettr  x-box  y-box  width  high   onpix  x-bar  y-bar  x2bar  y2bar  xybar  \\\n",
       "0     T      2      8      3      5      1      8     13      0      6      6   \n",
       "1     I      5     12      3      7      2     10      5      5      4     13   \n",
       "2     D      4     11      6      8      6     10      6      2      6     10   \n",
       "3     N      7     11      6      6      3      5      9      4      6      4   \n",
       "4     G      2      1      3      1      1      8      6      6      6      6   \n",
       "\n",
       "   x2ybr  xy2br  x-ege  xegvy  y-ege  yegvx  \n",
       "0     10      8      0      8      0      8  \n",
       "1      3      9      2      8      4     10  \n",
       "2      3      7      3      7      3      9  \n",
       "3      4     10      6     10      2      8  \n",
       "4      5      9      1      7      5     10  "
      ]
     },
     "execution_count": 4,
     "metadata": {},
     "output_type": "execute_result"
    }
   ],
   "source": [
    "df.head()"
   ]
  },
  {
   "cell_type": "code",
   "execution_count": 5,
   "metadata": {},
   "outputs": [
    {
     "data": {
      "text/plain": [
       "(20000, 17)"
      ]
     },
     "execution_count": 5,
     "metadata": {},
     "output_type": "execute_result"
    }
   ],
   "source": [
    "#check the shape of the data set (rows, columns)\n",
    "df.shape"
   ]
  },
  {
   "cell_type": "code",
   "execution_count": 6,
   "metadata": {},
   "outputs": [
    {
     "data": {
      "text/plain": [
       "0"
      ]
     },
     "execution_count": 6,
     "metadata": {},
     "output_type": "execute_result"
    }
   ],
   "source": [
    "df.isnull().values.ravel().sum()"
   ]
  },
  {
   "cell_type": "code",
   "execution_count": 7,
   "metadata": {},
   "outputs": [],
   "source": [
    "predictors = ['x-box','y-box','width','high ','onpix','x-bar','y-bar','x2bar','y2bar',\n",
    "              'xybar','x2ybr','xy2br','x-ege','xegvy','y-ege','yegvx']"
   ]
  },
  {
   "cell_type": "code",
   "execution_count": 8,
   "metadata": {},
   "outputs": [],
   "source": [
    "X = df[predictors]\n",
    "y = df[\"lettr\"]"
   ]
  },
  {
   "cell_type": "markdown",
   "metadata": {},
   "source": [
    "## Visualizing data using Seaborn\n",
    "\n",
    "**Seaborn :** Python library for statistical visualization library built on top of Matplotlib \n",
    "\n",
    "- Anaconda users run *conda install seaborn* from the command line"
   ]
  },
  {
   "cell_type": "code",
   "execution_count": 9,
   "metadata": {},
   "outputs": [],
   "source": [
    "#Conventional way to import Swaborn\n",
    "\n",
    "import seaborn as sns\n",
    "\n",
    "#allow plots to appear within notebook\n",
    "%matplotlib inline"
   ]
  },
  {
   "cell_type": "code",
   "execution_count": 10,
   "metadata": {},
   "outputs": [
    {
     "data": {
      "text/plain": [
       "<seaborn.axisgrid.PairGrid at 0x177bd0535c0>"
      ]
     },
     "execution_count": 10,
     "metadata": {},
     "output_type": "execute_result"
    },
    {
     "data": {
      "image/png": "[encoded data removed]",
      "text/plain": [
       "<Figure size 5760x360 with 16 Axes>"
      ]
     },
     "metadata": {
      "needs_background": "light"
     },
     "output_type": "display_data"
    }
   ],
   "source": [
    "#visualise the relationship between the features and the response using scatter plot\n",
    "\n",
    "sns.pairplot(df, x_vars =predictors, y_vars = 'lettr',height = 5)"
   ]
  },
  {
   "cell_type": "code",
   "execution_count": 11,
   "metadata": {},
   "outputs": [
    {
     "data": {
      "text/plain": [
       "<matplotlib.axes._subplots.AxesSubplot at 0x177bfade898>"
      ]
     },
     "execution_count": 11,
     "metadata": {},
     "output_type": "execute_result"
    },
    {
     "data": {
      "image/png": "[encoded data removed]",
      "text/plain": [
       "<Figure size 432x288 with 2 Axes>"
      ]
     },
     "metadata": {
      "needs_background": "light"
     },
     "output_type": "display_data"
    }
   ],
   "source": [
    "sns.heatmap(df.corr())"
   ]
  },
  {
   "cell_type": "markdown",
   "metadata": {},
   "source": [
    "## Splitting X and y in training and testing sets"
   ]
  },
  {
   "cell_type": "code",
   "execution_count": 12,
   "metadata": {},
   "outputs": [
    {
     "name": "stderr",
     "output_type": "stream",
     "text": [
      "C:\\ProgramData\\Anaconda3\\lib\\site-packages\\sklearn\\cross_validation.py:41: DeprecationWarning: This module was deprecated in version 0.18 in favor of the model_selection module into which all the refactored classes and functions are moved. Also note that the interface of the new CV iterators are different from that of this module. This module will be removed in 0.20.\n",
      "  \"This module will be removed in 0.20.\", DeprecationWarning)\n"
     ]
    }
   ],
   "source": [
    "from sklearn.cross_validation import train_test_split\n",
    "X_train,  X_test,y_train, y_test = train_test_split(X,y, random_state = 1)"
   ]
  },
  {
   "cell_type": "code",
   "execution_count": 13,
   "metadata": {},
   "outputs": [
    {
     "name": "stdout",
     "output_type": "stream",
     "text": [
      "X_train shape: (15000, 16)\n",
      "y_train shape: (15000,)\n",
      "X_test shape: (5000, 16)\n",
      "y_test shape: (5000,)\n"
     ]
    }
   ],
   "source": [
    "# default split is 75% to 25%\n",
    "print(\"X_train shape:\", X_train.shape)\n",
    "print(\"y_train shape:\", y_train.shape)\n",
    "print(\"X_test shape:\", X_test.shape)\n",
    "print(\"y_test shape:\", y_test.shape)"
   ]
  },
  {
   "cell_type": "code",
   "execution_count": 14,
   "metadata": {},
   "outputs": [
    {
     "data": {
      "text/plain": [
       "DecisionTreeClassifier(class_weight=None, criterion='gini', max_depth=None,\n",
       "            max_features=None, max_leaf_nodes=None,\n",
       "            min_impurity_decrease=0.0, min_impurity_split=None,\n",
       "            min_samples_leaf=1, min_samples_split=2,\n",
       "            min_weight_fraction_leaf=0.0, presort=False, random_state=None,\n",
       "            splitter='best')"
      ]
     },
     "execution_count": 14,
     "metadata": {},
     "output_type": "execute_result"
    }
   ],
   "source": [
    "# training a decision tree classifier on training dataset\n",
    "\n",
    "from sklearn.tree import DecisionTreeClassifier\n",
    "dtree=DecisionTreeClassifier()\n",
    "dtree.fit(X_train,y_train)"
   ]
  },
  {
   "cell_type": "code",
   "execution_count": 15,
   "metadata": {},
   "outputs": [],
   "source": [
    "# make class prediction for the testing data set\n",
    "y_pred_class = dtree.predict(X_test)\n"
   ]
  },
  {
   "cell_type": "code",
   "execution_count": 16,
   "metadata": {},
   "outputs": [
    {
     "name": "stdout",
     "output_type": "stream",
     "text": [
      "0.8702\n"
     ]
    }
   ],
   "source": [
    "#calculate accuracy\n",
    "from sklearn import metrics\n",
    "print(metrics.accuracy_score(y_test, y_pred_class))"
   ]
  },
  {
   "cell_type": "markdown",
   "metadata": {},
   "source": [
    "**Null accuracy:** Accuracy that could be achieved by predicting the most fequent class "
   ]
  },
  {
   "cell_type": "code",
   "execution_count": 17,
   "metadata": {},
   "outputs": [
    {
     "data": {
      "text/plain": [
       "O    0.0436\n",
       "P    0.0430\n",
       "T    0.0430\n",
       "S    0.0424\n",
       "U    0.0416\n",
       "X    0.0406\n",
       "A    0.0404\n",
       "B    0.0400\n",
       "N    0.0400\n",
       "Y    0.0400\n",
       "D    0.0394\n",
       "Z    0.0390\n",
       "R    0.0386\n",
       "W    0.0386\n",
       "Q    0.0380\n",
       "G    0.0376\n",
       "M    0.0376\n",
       "V    0.0366\n",
       "C    0.0364\n",
       "H    0.0362\n",
       "E    0.0356\n",
       "F    0.0354\n",
       "J    0.0348\n",
       "L    0.0348\n",
       "I    0.0340\n",
       "K    0.0328\n",
       "Name: lettr, dtype: float64"
      ]
     },
     "execution_count": 17,
     "metadata": {},
     "output_type": "execute_result"
    }
   ],
   "source": [
    "y_test.value_counts()/len(y_test)"
   ]
  },
  {
   "cell_type": "markdown",
   "metadata": {},
   "source": [
    "## Confusion Matrix \n",
    "\n",
    "Table that describes performance of the model"
   ]
  },
  {
   "cell_type": "code",
   "execution_count": 18,
   "metadata": {},
   "outputs": [
    {
     "data": {
      "text/plain": [
       "array([[189,   1,   1,   0,   0,   0,   2,   0,   0,   1,   0,   0,   1,\n",
       "          0,   2,   1,   2,   0,   1,   0,   0,   0,   0,   1,   0,   0],\n",
       "       [  0, 171,   0,   1,   0,   0,   2,   1,   2,   0,   0,   0,   0,\n",
       "          0,   5,   0,   3,   5,   6,   1,   0,   3,   0,   0,   0,   0],\n",
       "       [  0,   0, 158,   1,   5,   2,   4,   0,   0,   1,   0,   1,   0,\n",
       "          0,   5,   1,   0,   0,   2,   2,   0,   0,   0,   0,   0,   0],\n",
       "       [  0,   5,   0, 173,   0,   1,   0,   4,   0,   1,   1,   1,   1,\n",
       "          1,   3,   1,   1,   1,   0,   0,   0,   1,   0,   2,   0,   0],\n",
       "       [  0,   0,   3,   0, 160,   1,   5,   0,   0,   1,   0,   1,   0,\n",
       "          0,   0,   0,   0,   2,   1,   2,   0,   0,   0,   1,   0,   1],\n",
       "       [  1,   0,   0,   1,   0, 149,   1,   2,   1,   1,   0,   0,   0,\n",
       "          0,   0,   8,   1,   0,   1,   1,   0,   4,   0,   3,   3,   0],\n",
       "       [  0,   2,   2,   2,   4,   0, 155,   1,   2,   0,   0,   0,   1,\n",
       "          0,   7,   2,   3,   1,   4,   1,   0,   1,   0,   0,   0,   0],\n",
       "       [  0,   2,   1,   6,   3,   0,   2, 140,   0,   4,   2,   1,   3,\n",
       "          1,   1,   4,   0,   5,   4,   0,   0,   0,   1,   0,   1,   0],\n",
       "       [  0,   2,   2,   0,   0,   0,   1,   0, 151,   9,   0,   1,   0,\n",
       "          1,   0,   1,   0,   0,   0,   0,   0,   0,   0,   2,   0,   0],\n",
       "       [  0,   0,   0,   1,   2,   1,   3,   2,   3, 159,   0,   1,   0,\n",
       "          0,   0,   1,   0,   1,   0,   0,   0,   0,   0,   0,   0,   0],\n",
       "       [  0,   0,   1,   1,   1,   0,   0,   8,   0,   3, 139,   2,   0,\n",
       "          1,   0,   1,   1,   2,   1,   1,   0,   0,   0,   2,   0,   0],\n",
       "       [  1,   0,   1,   0,   2,   0,   1,   4,   1,   0,   4, 155,   0,\n",
       "          0,   0,   0,   0,   1,   0,   0,   0,   0,   0,   3,   0,   1],\n",
       "       [  2,   0,   0,   1,   0,   0,   0,   0,   0,   0,   0,   1, 167,\n",
       "          8,   2,   1,   2,   1,   0,   0,   1,   0,   1,   1,   0,   0],\n",
       "       [  1,   0,   0,   6,   0,   1,   0,   2,   0,   1,   2,   1,   7,\n",
       "        168,   0,   1,   0,   4,   0,   0,   2,   2,   2,   0,   0,   0],\n",
       "       [  1,   1,   1,  10,   0,   0,   6,   1,   0,   0,   0,   0,   1,\n",
       "          2, 166,   0,  18,   2,   0,   1,   4,   1,   1,   0,   2,   0],\n",
       "       [  0,   2,   0,   3,   0,  15,   0,   1,   2,   0,   1,   1,   0,\n",
       "          0,   2, 186,   0,   0,   0,   0,   0,   1,   0,   1,   0,   0],\n",
       "       [  0,   0,   2,   2,   3,   0,   0,   0,   2,   1,   0,   0,   0,\n",
       "          0,   4,   2, 169,   1,   1,   0,   0,   0,   0,   0,   2,   1],\n",
       "       [  0,   1,   1,   4,   1,   0,   0,   5,   2,   0,   4,   4,   0,\n",
       "          4,   2,   1,   4, 154,   3,   0,   1,   0,   0,   2,   0,   0],\n",
       "       [  1,   4,   0,   3,   1,   2,   4,   4,   2,   1,   0,   4,   0,\n",
       "          0,   0,   0,   1,   2, 175,   2,   0,   0,   0,   2,   0,   4],\n",
       "       [  0,   1,   2,   0,   1,   1,   1,   0,   2,   0,   2,   1,   0,\n",
       "          0,   0,   4,   1,   0,   1, 193,   0,   1,   0,   0,   3,   1],\n",
       "       [  2,   2,   0,   1,   0,   0,   1,   3,   0,   1,   0,   0,   3,\n",
       "          1,   4,   1,   1,   1,   0,   0, 185,   0,   1,   0,   1,   0],\n",
       "       [  0,   4,   0,   0,   0,   1,   0,   0,   0,   0,   0,   0,   0,\n",
       "          1,   1,   1,   1,   0,   0,   1,   1, 170,   0,   0,   2,   0],\n",
       "       [  1,   1,   0,   0,   0,   1,   0,   2,   0,   0,   1,   1,   2,\n",
       "          3,   3,   0,   3,   0,   0,   0,   0,   4, 171,   0,   0,   0],\n",
       "       [  1,   0,   0,   1,   2,   1,   0,   0,   1,   0,   3,   3,   0,\n",
       "          1,   0,   0,   0,   2,   1,   0,   0,   0,   0, 186,   1,   0],\n",
       "       [  1,   0,   0,   0,   0,   0,   0,   0,   0,   1,   0,   0,   0,\n",
       "          0,   1,   2,   0,   0,   3,   3,   2,   2,   0,   0, 185,   0],\n",
       "       [  1,   0,   0,   1,   5,   1,   1,   0,   3,   0,   0,   0,   0,\n",
       "          0,   0,   0,   2,   0,   2,   0,   0,   0,   0,   2,   0, 177]],\n",
       "      dtype=int64)"
      ]
     },
     "execution_count": 18,
     "metadata": {},
     "output_type": "execute_result"
    }
   ],
   "source": [
    "#IMPORTANT: first argument is true value, second argument is predicted values\n",
    "\n",
    "metrics.confusion_matrix(y_test,y_pred_class)"
   ]
  },
  {
   "cell_type": "code",
   "execution_count": 19,
   "metadata": {},
   "outputs": [],
   "source": [
    "conf_matrix = pd.DataFrame(metrics.confusion_matrix(y_test,y_pred_class), columns=[\"a\",\"b\",\"c\",\"d\",\"e\",\"f\",\"g\",\"h\",\"i\",\"j\",\n",
    "                                                                                  \"k\",\"l\",\"m\",\"n\", \"o\", \"p\" ,\"q\", \"r\", \"s\", \"t\",\n",
    "                                                                                   \"u\",\"v\",\"w\", \"x\", \"y\", \"z\"])"
   ]
  },
  {
   "cell_type": "code",
   "execution_count": 20,
   "metadata": {},
   "outputs": [
    {
     "data": {
      "text/plain": [
       "<matplotlib.axes._subplots.AxesSubplot at 0x177bfc4b940>"
      ]
     },
     "execution_count": 20,
     "metadata": {},
     "output_type": "execute_result"
    },
    {
     "data": {
      "image/png": "[encoded data removed]",
      "text/plain": [
       "<Figure size 432x288 with 2 Axes>"
      ]
     },
     "metadata": {
      "needs_background": "light"
     },
     "output_type": "display_data"
    }
   ],
   "source": [
    "# plot using a color palette\n",
    "sns.heatmap(conf_matrix, cmap=\"YlGnBu\")\n"
   ]
  },
  {
   "cell_type": "code",
   "execution_count": 21,
   "metadata": {},
   "outputs": [
    {
     "data": {
      "text/plain": [
       "0.8835922057980797"
      ]
     },
     "execution_count": 21,
     "metadata": {},
     "output_type": "execute_result"
    }
   ],
   "source": [
    "# calculate a cross-validated accuracy\n",
    "from sklearn.cross_validation import cross_val_score\n",
    "\n",
    "cross_val_score(dtree, X,y,cv = 10, scoring = \"accuracy\").mean()"
   ]
  },
  {
   "cell_type": "markdown",
   "metadata": {},
   "source": [
    "### Desicion tree is 88% accurate which is good as compared to the null accuracy of 4%"
   ]
  },
  {
   "cell_type": "markdown",
   "metadata": {},
   "source": [
    "Let's work on parameter tunning for decision trees"
   ]
  },
  {
   "cell_type": "markdown",
   "metadata": {},
   "source": [
    "#### max_depth\n",
    "The first parameter to tune is max_depth. This indicates how deep the tree can be. The deeper the tree, the more splits it has and it captures more information about the data. We fit a decision tree with depths ranging from 1 to 32 and check the accuracy scores"
   ]
  },
  {
   "cell_type": "code",
   "execution_count": 22,
   "metadata": {},
   "outputs": [
    {
     "data": {
      "image/png": "[encoded data removed]",
      "text/plain": [
       "<Figure size 432x288 with 1 Axes>"
      ]
     },
     "metadata": {
      "needs_background": "light"
     },
     "output_type": "display_data"
    }
   ],
   "source": [
    "max_depths = np.linspace(1, 32, 32, endpoint=True)\n",
    "train_results = []\n",
    "test_results = []\n",
    "for max_depth in max_depths:\n",
    "    dt = DecisionTreeClassifier(max_depth=max_depth)\n",
    "    dt.fit(X_train, y_train)\n",
    "    train_pred = dt.predict(X_train)\n",
    "    acc = metrics.accuracy_score(y_train, train_pred)\n",
    "    #false_positive_rate, true_positive_rate, thresholds = roc_curve(y_train, train_pred)\n",
    "    #roc_auc = auc(false_positive_rate, true_positive_rate)\n",
    "    # Add auc score to previous train results\n",
    "    train_results.append(acc)\n",
    "    y_pred = dt.predict(X_test)\n",
    "    test_pred = dt.predict(X_test)\n",
    "    acc = metrics.accuracy_score(y_test, test_pred)\n",
    "    # Add auc score to previous test results\n",
    "    test_results.append(acc)\n",
    "    \n",
    "    \n",
    "from matplotlib.legend_handler import HandlerLine2D\n",
    "\n",
    "line1, = plt.plot(max_depths, train_results, 'b', label=\"Train Accuracy\")\n",
    "line2, = plt.plot(max_depths, test_results, 'r', label=\"Test Accuracy\")\n",
    "plt.legend(handler_map={line1: HandlerLine2D(numpoints=2)})\n",
    "plt.ylabel(\"Accuracy Score\")\n",
    "plt.xlabel('Tree depth')\n",
    "plt.show()"
   ]
  },
  {
   "cell_type": "markdown",
   "metadata": {},
   "source": [
    "#### min_samples_split\n",
    "min_samples_split represents the minimum number of samples required to split an internal node. This can vary between considering at least one sample at each node to considering all of the samples at each node. When we increase this parameter, the tree becomes more constrained as it has to consider more samples at each node. Here we will vary the parameter from 1% to 10% of the samples"
   ]
  },
  {
   "cell_type": "code",
   "execution_count": 23,
   "metadata": {},
   "outputs": [
    {
     "data": {
      "image/png": "[encoded data removed]",
      "text/plain": [
       "<Figure size 432x288 with 1 Axes>"
      ]
     },
     "metadata": {
      "needs_background": "light"
     },
     "output_type": "display_data"
    }
   ],
   "source": [
    "min_samples_splits = np.linspace(0.0001, 1.0, 10, endpoint=True)\n",
    "\n",
    "train_results = []\n",
    "test_results = []\n",
    "for min_samples_split in min_samples_splits:\n",
    "    dt = DecisionTreeClassifier(min_samples_split=min_samples_split)\n",
    "    dt.fit(X_train, y_train)\n",
    "    train_pred = dt.predict(X_train)\n",
    "    acc = metrics.accuracy_score(y_train, train_pred)\n",
    "    #false_positive_rate, true_positive_rate, thresholds = roc_curve(y_train, train_pred)\n",
    "    #roc_auc = auc(false_positive_rate, true_positive_rate)\n",
    "    # Add auc score to previous train results\n",
    "    train_results.append(acc)\n",
    "    y_pred = dt.predict(X_test)\n",
    "    test_pred = dt.predict(X_test)\n",
    "    acc = metrics.accuracy_score(y_test, test_pred)\n",
    "    # Add auc score to previous test results\n",
    "    test_results.append(acc)\n",
    "    \n",
    "    \n",
    "line1, = plt.plot(min_samples_splits, train_results, 'b', label=\"Train Accuracy\")\n",
    "line2, = plt.plot(min_samples_splits, test_results, 'r', label=\"Test Accuracy\")\n",
    "plt.legend(handler_map={line1: HandlerLine2D(numpoints=2)})\n",
    "plt.ylabel(\"Accuracy Score\")\n",
    "plt.xlabel(\"min samples split\")\n",
    "plt.show()"
   ]
  },
  {
   "cell_type": "markdown",
   "metadata": {},
   "source": [
    "#### min_samples_leaf\n",
    "min_samples_leaf is The minimum number of samples required to be at a leaf node. This parameter is similar to min_samples_splits, however, this describe the minimum number of samples of samples at the leafs, the base of the tree."
   ]
  },
  {
   "cell_type": "code",
   "execution_count": 24,
   "metadata": {},
   "outputs": [
    {
     "data": {
      "image/png": "[encoded data removed]",
      "text/plain": [
       "<Figure size 432x288 with 1 Axes>"
      ]
     },
     "metadata": {
      "needs_background": "light"
     },
     "output_type": "display_data"
    }
   ],
   "source": [
    "min_samples_leafs = np.linspace(0.0001, 0.5, 5, endpoint=True)\n",
    "train_results = []\n",
    "test_results = []\n",
    "for min_samples_leaf in min_samples_leafs:\n",
    "    dt = DecisionTreeClassifier(min_samples_leaf=min_samples_leaf)\n",
    "    dt.fit(X_train, y_train)\n",
    "    train_pred = dt.predict(X_train)\n",
    "    acc = metrics.accuracy_score(y_train, train_pred)\n",
    "    #false_positive_rate, true_positive_rate, thresholds = roc_curve(y_train, train_pred)\n",
    "    #roc_auc = auc(false_positive_rate, true_positive_rate)\n",
    "    # Add auc score to previous train results\n",
    "    train_results.append(acc)\n",
    "    y_pred = dt.predict(X_test)\n",
    "    test_pred = dt.predict(X_test)\n",
    "    acc = metrics.accuracy_score(y_test, test_pred)\n",
    "    # Add auc score to previous test results\n",
    "    test_results.append(acc)\n",
    "    \n",
    "    \n",
    "from matplotlib.legend_handler import HandlerLine2D\n",
    "line1, = plt.plot(min_samples_leafs, train_results, 'b', label=\"Train Accuracy\")\n",
    "line2, = plt.plot(min_samples_leafs, test_results, 'r', label=\"Test Accuracy\")\n",
    "plt.legend(handler_map={line1: HandlerLine2D(numpoints=2)})\n",
    "plt.ylabel(\"Accuracy Score\")\n",
    "plt.xlabel(\"Min samples leafs\")\n",
    "plt.show()\n"
   ]
  },
  {
   "cell_type": "markdown",
   "metadata": {},
   "source": [
    "#### max_features\n",
    "max_features represents the number of features to consider when looking for the best split."
   ]
  },
  {
   "cell_type": "code",
   "execution_count": 25,
   "metadata": {},
   "outputs": [
    {
     "data": {
      "image/png": "[encoded data removed]",
      "text/plain": [
       "<Figure size 432x288 with 1 Axes>"
      ]
     },
     "metadata": {
      "needs_background": "light"
     },
     "output_type": "display_data"
    }
   ],
   "source": [
    "\n",
    "\n",
    "max_features = list(range(1,X_train.shape[1]))\n",
    "train_results = []\n",
    "test_results = []\n",
    "for max_feature in max_features:\n",
    "    dt = DecisionTreeClassifier(max_features=max_feature)\n",
    "    dt.fit(X_train, y_train)\n",
    "    train_pred = dt.predict(X_train)\n",
    "    acc = metrics.accuracy_score(y_train, train_pred)\n",
    "    #false_positive_rate, true_positive_rate, thresholds = roc_curve(y_train, train_pred)\n",
    "    #roc_auc = auc(false_positive_rate, true_positive_rate)\n",
    "    # Add auc score to previous train results\n",
    "    train_results.append(acc)\n",
    "    y_pred = dt.predict(X_test)\n",
    "    test_pred = dt.predict(X_test)\n",
    "    acc = metrics.accuracy_score(y_test, test_pred)\n",
    "    # Add auc score to previous test results\n",
    "    test_results.append(acc)\n",
    "    \n",
    "    \n",
    "from matplotlib.legend_handler import HandlerLine2D\n",
    "line1, = plt.plot(max_features, train_results, 'b', label=\"Train Accuracy\")\n",
    "line2, = plt.plot(max_features, test_results, 'r', label=\"Test Accuracy\")\n",
    "plt.legend(handler_map={line1: HandlerLine2D(numpoints=2)})\n",
    "plt.ylabel(\"Accuracy Score\")\n",
    "plt.xlabel(\"Max features\")\n",
    "plt.show()"
   ]
  },
  {
   "cell_type": "markdown",
   "metadata": {},
   "source": [
    "#### Tune all parameters together \n",
    "\n",
    "find the best combinations of parameters "
   ]
  },
  {
   "cell_type": "code",
   "execution_count": 26,
   "metadata": {},
   "outputs": [
    {
     "name": "stderr",
     "output_type": "stream",
     "text": [
      "C:\\ProgramData\\Anaconda3\\lib\\site-packages\\sklearn\\grid_search.py:42: DeprecationWarning: This module was deprecated in version 0.18 in favor of the model_selection module into which all the refactored classes and functions are moved. This module will be removed in 0.20.\n",
      "  DeprecationWarning)\n"
     ]
    }
   ],
   "source": [
    "from sklearn.grid_search import GridSearchCV"
   ]
  },
  {
   "cell_type": "code",
   "execution_count": 105,
   "metadata": {},
   "outputs": [],
   "source": [
    "#define the paraeters that should be searched\n",
    "\n",
    "max_features = [ 12,  14, 16]\n",
    "#min_samples_leafs = [1,2,3]\n",
    "min_samples_splits = [2,3,4]\n",
    "max_depths = [34,35, 36,37]"
   ]
  },
  {
   "cell_type": "code",
   "execution_count": 106,
   "metadata": {},
   "outputs": [],
   "source": [
    "param_grid = dict(max_features = max_features,\n",
    "                  min_samples_leaf = min_samples_leafs, \n",
    "                  min_samples_split = min_samples_splits,\n",
    "                 max_depth = max_depths )"
   ]
  },
  {
   "cell_type": "code",
   "execution_count": 107,
   "metadata": {},
   "outputs": [
    {
     "name": "stdout",
     "output_type": "stream",
     "text": [
      "{'max_features': [12, 14, 16], 'min_samples_leaf': [1, 2, 3], 'min_samples_split': [2, 3, 4], 'max_depth': [34, 35, 36, 37]}\n"
     ]
    }
   ],
   "source": [
    "print(param_grid)"
   ]
  },
  {
   "cell_type": "code",
   "execution_count": 108,
   "metadata": {},
   "outputs": [],
   "source": [
    "dtree=DecisionTreeClassifier()"
   ]
  },
  {
   "cell_type": "code",
   "execution_count": 109,
   "metadata": {},
   "outputs": [],
   "source": [
    "grid = GridSearchCV(dtree, param_grid, cv = 10, scoring = 'accuracy', n_jobs=-1)"
   ]
  },
  {
   "cell_type": "code",
   "execution_count": 110,
   "metadata": {},
   "outputs": [
    {
     "data": {
      "text/plain": [
       "GridSearchCV(cv=10, error_score='raise',\n",
       "       estimator=DecisionTreeClassifier(class_weight=None, criterion='gini', max_depth=None,\n",
       "            max_features=None, max_leaf_nodes=None,\n",
       "            min_impurity_decrease=0.0, min_impurity_split=None,\n",
       "            min_samples_leaf=1, min_samples_split=2,\n",
       "            min_weight_fraction_leaf=0.0, presort=False, random_state=None,\n",
       "            splitter='best'),\n",
       "       fit_params={}, iid=True, n_jobs=-1,\n",
       "       param_grid={'max_features': [12, 14, 16], 'min_samples_leaf': [1, 2, 3], 'min_samples_split': [2, 3, 4], 'max_depth': [34, 35, 36, 37]},\n",
       "       pre_dispatch='2*n_jobs', refit=True, scoring='accuracy', verbose=0)"
      ]
     },
     "execution_count": 110,
     "metadata": {},
     "output_type": "execute_result"
    }
   ],
   "source": [
    "#fit the grid with data\n",
    "grid.fit(X,y)"
   ]
  },
  {
   "cell_type": "code",
   "execution_count": 111,
   "metadata": {},
   "outputs": [
    {
     "data": {
      "text/plain": [
       "[mean: 0.87525, std: 0.00969, params: {'max_depth': 34, 'max_features': 12, 'min_samples_leaf': 1, 'min_samples_split': 2},\n",
       " mean: 0.87540, std: 0.01099, params: {'max_depth': 34, 'max_features': 12, 'min_samples_leaf': 1, 'min_samples_split': 3},\n",
       " mean: 0.87380, std: 0.01140, params: {'max_depth': 34, 'max_features': 12, 'min_samples_leaf': 1, 'min_samples_split': 4},\n",
       " mean: 0.86825, std: 0.00802, params: {'max_depth': 34, 'max_features': 12, 'min_samples_leaf': 2, 'min_samples_split': 2},\n",
       " mean: 0.86490, std: 0.00843, params: {'max_depth': 34, 'max_features': 12, 'min_samples_leaf': 2, 'min_samples_split': 3},\n",
       " mean: 0.86605, std: 0.00790, params: {'max_depth': 34, 'max_features': 12, 'min_samples_leaf': 2, 'min_samples_split': 4},\n",
       " mean: 0.86220, std: 0.01095, params: {'max_depth': 34, 'max_features': 12, 'min_samples_leaf': 3, 'min_samples_split': 2},\n",
       " mean: 0.85945, std: 0.01112, params: {'max_depth': 34, 'max_features': 12, 'min_samples_leaf': 3, 'min_samples_split': 3},\n",
       " mean: 0.86095, std: 0.01010, params: {'max_depth': 34, 'max_features': 12, 'min_samples_leaf': 3, 'min_samples_split': 4},\n",
       " mean: 0.88090, std: 0.00812, params: {'max_depth': 34, 'max_features': 14, 'min_samples_leaf': 1, 'min_samples_split': 2},\n",
       " mean: 0.87650, std: 0.00734, params: {'max_depth': 34, 'max_features': 14, 'min_samples_leaf': 1, 'min_samples_split': 3},\n",
       " mean: 0.87590, std: 0.00987, params: {'max_depth': 34, 'max_features': 14, 'min_samples_leaf': 1, 'min_samples_split': 4},\n",
       " mean: 0.86790, std: 0.01221, params: {'max_depth': 34, 'max_features': 14, 'min_samples_leaf': 2, 'min_samples_split': 2},\n",
       " mean: 0.87030, std: 0.01075, params: {'max_depth': 34, 'max_features': 14, 'min_samples_leaf': 2, 'min_samples_split': 3},\n",
       " mean: 0.86670, std: 0.01242, params: {'max_depth': 34, 'max_features': 14, 'min_samples_leaf': 2, 'min_samples_split': 4},\n",
       " mean: 0.86465, std: 0.01139, params: {'max_depth': 34, 'max_features': 14, 'min_samples_leaf': 3, 'min_samples_split': 2},\n",
       " mean: 0.86380, std: 0.01209, params: {'max_depth': 34, 'max_features': 14, 'min_samples_leaf': 3, 'min_samples_split': 3},\n",
       " mean: 0.86905, std: 0.00853, params: {'max_depth': 34, 'max_features': 14, 'min_samples_leaf': 3, 'min_samples_split': 4},\n",
       " mean: 0.88350, std: 0.01036, params: {'max_depth': 34, 'max_features': 16, 'min_samples_leaf': 1, 'min_samples_split': 2},\n",
       " mean: 0.88080, std: 0.01035, params: {'max_depth': 34, 'max_features': 16, 'min_samples_leaf': 1, 'min_samples_split': 3},\n",
       " mean: 0.87980, std: 0.00976, params: {'max_depth': 34, 'max_features': 16, 'min_samples_leaf': 1, 'min_samples_split': 4},\n",
       " mean: 0.87265, std: 0.01123, params: {'max_depth': 34, 'max_features': 16, 'min_samples_leaf': 2, 'min_samples_split': 2},\n",
       " mean: 0.87175, std: 0.01022, params: {'max_depth': 34, 'max_features': 16, 'min_samples_leaf': 2, 'min_samples_split': 3},\n",
       " mean: 0.87245, std: 0.01016, params: {'max_depth': 34, 'max_features': 16, 'min_samples_leaf': 2, 'min_samples_split': 4},\n",
       " mean: 0.87170, std: 0.00809, params: {'max_depth': 34, 'max_features': 16, 'min_samples_leaf': 3, 'min_samples_split': 2},\n",
       " mean: 0.87260, std: 0.00836, params: {'max_depth': 34, 'max_features': 16, 'min_samples_leaf': 3, 'min_samples_split': 3},\n",
       " mean: 0.87230, std: 0.00811, params: {'max_depth': 34, 'max_features': 16, 'min_samples_leaf': 3, 'min_samples_split': 4},\n",
       " mean: 0.87765, std: 0.00914, params: {'max_depth': 35, 'max_features': 12, 'min_samples_leaf': 1, 'min_samples_split': 2},\n",
       " mean: 0.87365, std: 0.01109, params: {'max_depth': 35, 'max_features': 12, 'min_samples_leaf': 1, 'min_samples_split': 3},\n",
       " mean: 0.87210, std: 0.01094, params: {'max_depth': 35, 'max_features': 12, 'min_samples_leaf': 1, 'min_samples_split': 4},\n",
       " mean: 0.86640, std: 0.00884, params: {'max_depth': 35, 'max_features': 12, 'min_samples_leaf': 2, 'min_samples_split': 2},\n",
       " mean: 0.86710, std: 0.00955, params: {'max_depth': 35, 'max_features': 12, 'min_samples_leaf': 2, 'min_samples_split': 3},\n",
       " mean: 0.86625, std: 0.00946, params: {'max_depth': 35, 'max_features': 12, 'min_samples_leaf': 2, 'min_samples_split': 4},\n",
       " mean: 0.85865, std: 0.01033, params: {'max_depth': 35, 'max_features': 12, 'min_samples_leaf': 3, 'min_samples_split': 2},\n",
       " mean: 0.85935, std: 0.00891, params: {'max_depth': 35, 'max_features': 12, 'min_samples_leaf': 3, 'min_samples_split': 3},\n",
       " mean: 0.86110, std: 0.00702, params: {'max_depth': 35, 'max_features': 12, 'min_samples_leaf': 3, 'min_samples_split': 4},\n",
       " mean: 0.87960, std: 0.01029, params: {'max_depth': 35, 'max_features': 14, 'min_samples_leaf': 1, 'min_samples_split': 2},\n",
       " mean: 0.87790, std: 0.00946, params: {'max_depth': 35, 'max_features': 14, 'min_samples_leaf': 1, 'min_samples_split': 3},\n",
       " mean: 0.87825, std: 0.01175, params: {'max_depth': 35, 'max_features': 14, 'min_samples_leaf': 1, 'min_samples_split': 4},\n",
       " mean: 0.86825, std: 0.00880, params: {'max_depth': 35, 'max_features': 14, 'min_samples_leaf': 2, 'min_samples_split': 2},\n",
       " mean: 0.86550, std: 0.00987, params: {'max_depth': 35, 'max_features': 14, 'min_samples_leaf': 2, 'min_samples_split': 3},\n",
       " mean: 0.86765, std: 0.00875, params: {'max_depth': 35, 'max_features': 14, 'min_samples_leaf': 2, 'min_samples_split': 4},\n",
       " mean: 0.86555, std: 0.01074, params: {'max_depth': 35, 'max_features': 14, 'min_samples_leaf': 3, 'min_samples_split': 2},\n",
       " mean: 0.86710, std: 0.00937, params: {'max_depth': 35, 'max_features': 14, 'min_samples_leaf': 3, 'min_samples_split': 3},\n",
       " mean: 0.86270, std: 0.01035, params: {'max_depth': 35, 'max_features': 14, 'min_samples_leaf': 3, 'min_samples_split': 4},\n",
       " mean: 0.88555, std: 0.00888, params: {'max_depth': 35, 'max_features': 16, 'min_samples_leaf': 1, 'min_samples_split': 2},\n",
       " mean: 0.88125, std: 0.00970, params: {'max_depth': 35, 'max_features': 16, 'min_samples_leaf': 1, 'min_samples_split': 3},\n",
       " mean: 0.87915, std: 0.00992, params: {'max_depth': 35, 'max_features': 16, 'min_samples_leaf': 1, 'min_samples_split': 4},\n",
       " mean: 0.87340, std: 0.01170, params: {'max_depth': 35, 'max_features': 16, 'min_samples_leaf': 2, 'min_samples_split': 2},\n",
       " mean: 0.87260, std: 0.01108, params: {'max_depth': 35, 'max_features': 16, 'min_samples_leaf': 2, 'min_samples_split': 3},\n",
       " mean: 0.87295, std: 0.01051, params: {'max_depth': 35, 'max_features': 16, 'min_samples_leaf': 2, 'min_samples_split': 4},\n",
       " mean: 0.87325, std: 0.00878, params: {'max_depth': 35, 'max_features': 16, 'min_samples_leaf': 3, 'min_samples_split': 2},\n",
       " mean: 0.87305, std: 0.00832, params: {'max_depth': 35, 'max_features': 16, 'min_samples_leaf': 3, 'min_samples_split': 3},\n",
       " mean: 0.87275, std: 0.00845, params: {'max_depth': 35, 'max_features': 16, 'min_samples_leaf': 3, 'min_samples_split': 4},\n",
       " mean: 0.87575, std: 0.01088, params: {'max_depth': 36, 'max_features': 12, 'min_samples_leaf': 1, 'min_samples_split': 2},\n",
       " mean: 0.87690, std: 0.00751, params: {'max_depth': 36, 'max_features': 12, 'min_samples_leaf': 1, 'min_samples_split': 3},\n",
       " mean: 0.87235, std: 0.00964, params: {'max_depth': 36, 'max_features': 12, 'min_samples_leaf': 1, 'min_samples_split': 4},\n",
       " mean: 0.86530, std: 0.01116, params: {'max_depth': 36, 'max_features': 12, 'min_samples_leaf': 2, 'min_samples_split': 2},\n",
       " mean: 0.86280, std: 0.01046, params: {'max_depth': 36, 'max_features': 12, 'min_samples_leaf': 2, 'min_samples_split': 3},\n",
       " mean: 0.86550, std: 0.01032, params: {'max_depth': 36, 'max_features': 12, 'min_samples_leaf': 2, 'min_samples_split': 4},\n",
       " mean: 0.85865, std: 0.01436, params: {'max_depth': 36, 'max_features': 12, 'min_samples_leaf': 3, 'min_samples_split': 2},\n",
       " mean: 0.86000, std: 0.00987, params: {'max_depth': 36, 'max_features': 12, 'min_samples_leaf': 3, 'min_samples_split': 3},\n",
       " mean: 0.85815, std: 0.01069, params: {'max_depth': 36, 'max_features': 12, 'min_samples_leaf': 3, 'min_samples_split': 4},\n",
       " mean: 0.88120, std: 0.01003, params: {'max_depth': 36, 'max_features': 14, 'min_samples_leaf': 1, 'min_samples_split': 2},\n",
       " mean: 0.87650, std: 0.01040, params: {'max_depth': 36, 'max_features': 14, 'min_samples_leaf': 1, 'min_samples_split': 3},\n",
       " mean: 0.87510, std: 0.01219, params: {'max_depth': 36, 'max_features': 14, 'min_samples_leaf': 1, 'min_samples_split': 4},\n",
       " mean: 0.86805, std: 0.01152, params: {'max_depth': 36, 'max_features': 14, 'min_samples_leaf': 2, 'min_samples_split': 2},\n",
       " mean: 0.87030, std: 0.01063, params: {'max_depth': 36, 'max_features': 14, 'min_samples_leaf': 2, 'min_samples_split': 3},\n",
       " mean: 0.86935, std: 0.01054, params: {'max_depth': 36, 'max_features': 14, 'min_samples_leaf': 2, 'min_samples_split': 4},\n",
       " mean: 0.86690, std: 0.00988, params: {'max_depth': 36, 'max_features': 14, 'min_samples_leaf': 3, 'min_samples_split': 2},\n",
       " mean: 0.86670, std: 0.00936, params: {'max_depth': 36, 'max_features': 14, 'min_samples_leaf': 3, 'min_samples_split': 3},\n",
       " mean: 0.86265, std: 0.01131, params: {'max_depth': 36, 'max_features': 14, 'min_samples_leaf': 3, 'min_samples_split': 4},\n",
       " mean: 0.88435, std: 0.00877, params: {'max_depth': 36, 'max_features': 16, 'min_samples_leaf': 1, 'min_samples_split': 2},\n",
       " mean: 0.88080, std: 0.00964, params: {'max_depth': 36, 'max_features': 16, 'min_samples_leaf': 1, 'min_samples_split': 3},\n",
       " mean: 0.87945, std: 0.01065, params: {'max_depth': 36, 'max_features': 16, 'min_samples_leaf': 1, 'min_samples_split': 4},\n",
       " mean: 0.87310, std: 0.01071, params: {'max_depth': 36, 'max_features': 16, 'min_samples_leaf': 2, 'min_samples_split': 2},\n",
       " mean: 0.87375, std: 0.01103, params: {'max_depth': 36, 'max_features': 16, 'min_samples_leaf': 2, 'min_samples_split': 3},\n",
       " mean: 0.87310, std: 0.00967, params: {'max_depth': 36, 'max_features': 16, 'min_samples_leaf': 2, 'min_samples_split': 4},\n",
       " mean: 0.87205, std: 0.00739, params: {'max_depth': 36, 'max_features': 16, 'min_samples_leaf': 3, 'min_samples_split': 2},\n",
       " mean: 0.87165, std: 0.00879, params: {'max_depth': 36, 'max_features': 16, 'min_samples_leaf': 3, 'min_samples_split': 3},\n",
       " mean: 0.87185, std: 0.00855, params: {'max_depth': 36, 'max_features': 16, 'min_samples_leaf': 3, 'min_samples_split': 4},\n",
       " mean: 0.88045, std: 0.00893, params: {'max_depth': 37, 'max_features': 12, 'min_samples_leaf': 1, 'min_samples_split': 2},\n",
       " mean: 0.87780, std: 0.01131, params: {'max_depth': 37, 'max_features': 12, 'min_samples_leaf': 1, 'min_samples_split': 3},\n",
       " mean: 0.87230, std: 0.00622, params: {'max_depth': 37, 'max_features': 12, 'min_samples_leaf': 1, 'min_samples_split': 4},\n",
       " mean: 0.86390, std: 0.00803, params: {'max_depth': 37, 'max_features': 12, 'min_samples_leaf': 2, 'min_samples_split': 2},\n",
       " mean: 0.86345, std: 0.01185, params: {'max_depth': 37, 'max_features': 12, 'min_samples_leaf': 2, 'min_samples_split': 3},\n",
       " mean: 0.86490, std: 0.01066, params: {'max_depth': 37, 'max_features': 12, 'min_samples_leaf': 2, 'min_samples_split': 4},\n",
       " mean: 0.85845, std: 0.01205, params: {'max_depth': 37, 'max_features': 12, 'min_samples_leaf': 3, 'min_samples_split': 2},\n",
       " mean: 0.86045, std: 0.01151, params: {'max_depth': 37, 'max_features': 12, 'min_samples_leaf': 3, 'min_samples_split': 3},\n",
       " mean: 0.85960, std: 0.00802, params: {'max_depth': 37, 'max_features': 12, 'min_samples_leaf': 3, 'min_samples_split': 4},\n",
       " mean: 0.87890, std: 0.00742, params: {'max_depth': 37, 'max_features': 14, 'min_samples_leaf': 1, 'min_samples_split': 2},\n",
       " mean: 0.88165, std: 0.00970, params: {'max_depth': 37, 'max_features': 14, 'min_samples_leaf': 1, 'min_samples_split': 3},\n",
       " mean: 0.87635, std: 0.00842, params: {'max_depth': 37, 'max_features': 14, 'min_samples_leaf': 1, 'min_samples_split': 4},\n",
       " mean: 0.87015, std: 0.01224, params: {'max_depth': 37, 'max_features': 14, 'min_samples_leaf': 2, 'min_samples_split': 2},\n",
       " mean: 0.87095, std: 0.00699, params: {'max_depth': 37, 'max_features': 14, 'min_samples_leaf': 2, 'min_samples_split': 3},\n",
       " mean: 0.86685, std: 0.01192, params: {'max_depth': 37, 'max_features': 14, 'min_samples_leaf': 2, 'min_samples_split': 4},\n",
       " mean: 0.86530, std: 0.01074, params: {'max_depth': 37, 'max_features': 14, 'min_samples_leaf': 3, 'min_samples_split': 2},\n",
       " mean: 0.86405, std: 0.01187, params: {'max_depth': 37, 'max_features': 14, 'min_samples_leaf': 3, 'min_samples_split': 3},\n",
       " mean: 0.86415, std: 0.00988, params: {'max_depth': 37, 'max_features': 14, 'min_samples_leaf': 3, 'min_samples_split': 4},\n",
       " mean: 0.88450, std: 0.00950, params: {'max_depth': 37, 'max_features': 16, 'min_samples_leaf': 1, 'min_samples_split': 2},\n",
       " mean: 0.88070, std: 0.00875, params: {'max_depth': 37, 'max_features': 16, 'min_samples_leaf': 1, 'min_samples_split': 3},\n",
       " mean: 0.88260, std: 0.00939, params: {'max_depth': 37, 'max_features': 16, 'min_samples_leaf': 1, 'min_samples_split': 4},\n",
       " mean: 0.87160, std: 0.01158, params: {'max_depth': 37, 'max_features': 16, 'min_samples_leaf': 2, 'min_samples_split': 2},\n",
       " mean: 0.87395, std: 0.01072, params: {'max_depth': 37, 'max_features': 16, 'min_samples_leaf': 2, 'min_samples_split': 3},\n",
       " mean: 0.87290, std: 0.00962, params: {'max_depth': 37, 'max_features': 16, 'min_samples_leaf': 2, 'min_samples_split': 4},\n",
       " mean: 0.87150, std: 0.00882, params: {'max_depth': 37, 'max_features': 16, 'min_samples_leaf': 3, 'min_samples_split': 2},\n",
       " mean: 0.87165, std: 0.00891, params: {'max_depth': 37, 'max_features': 16, 'min_samples_leaf': 3, 'min_samples_split': 3},\n",
       " mean: 0.87255, std: 0.00810, params: {'max_depth': 37, 'max_features': 16, 'min_samples_leaf': 3, 'min_samples_split': 4}]"
      ]
     },
     "execution_count": 111,
     "metadata": {},
     "output_type": "execute_result"
    }
   ],
   "source": [
    "grid.grid_scores_"
   ]
  },
  {
   "cell_type": "code",
   "execution_count": 112,
   "metadata": {},
   "outputs": [
    {
     "data": {
      "text/plain": [
       "DecisionTreeClassifier(class_weight=None, criterion='gini', max_depth=35,\n",
       "            max_features=16, max_leaf_nodes=None,\n",
       "            min_impurity_decrease=0.0, min_impurity_split=None,\n",
       "            min_samples_leaf=1, min_samples_split=2,\n",
       "            min_weight_fraction_leaf=0.0, presort=False, random_state=None,\n",
       "            splitter='best')"
      ]
     },
     "execution_count": 112,
     "metadata": {},
     "output_type": "execute_result"
    }
   ],
   "source": [
    "grid.best_estimator_"
   ]
  },
  {
   "cell_type": "code",
   "execution_count": 113,
   "metadata": {},
   "outputs": [
    {
     "data": {
      "text/plain": [
       "0.88555"
      ]
     },
     "execution_count": 113,
     "metadata": {},
     "output_type": "execute_result"
    }
   ],
   "source": [
    "grid.best_score_"
   ]
  },
  {
   "cell_type": "code",
   "execution_count": null,
   "metadata": {},
   "outputs": [],
   "source": []
  }
 ],
 "metadata": {
  "kernelspec": {
   "display_name": "Python 3",
   "language": "python",
   "name": "python3"
  },
  "language_info": {
   "codemirror_mode": {
    "name": "ipython",
    "version": 3
   },
   "file_extension": ".py",
   "mimetype": "text/x-python",
   "name": "python",
   "nbconvert_exporter": "python",
   "pygments_lexer": "ipython3",
   "version": "3.7.0"
  }
 },
 "nbformat": 4,
 "nbformat_minor": 2
}
