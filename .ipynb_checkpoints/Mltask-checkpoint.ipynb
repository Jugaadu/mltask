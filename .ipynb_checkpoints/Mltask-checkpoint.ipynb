{
 "cells": [
  {
   "cell_type": "code",
   "execution_count": 1,
   "metadata": {
    "collapsed": true
   },
   "outputs": [],
   "source": [
    "import pandas as pd\n",
    "import numpy as np\n",
    "import matplotlib as mpl\n",
    "import matplotlib.pyplot as plt"
   ]
  },
  {
   "cell_type": "code",
   "execution_count": 2,
   "metadata": {
    "collapsed": true
   },
   "outputs": [],
   "source": [
    "df = pd.read_csv('letter-recognition.data',header = None)"
   ]
  },
  {
   "cell_type": "code",
   "execution_count": 3,
   "metadata": {
    "collapsed": true
   },
   "outputs": [],
   "source": [
    "df.columns = ['lettr','x-box','y-box','width','high ','onpix','x-bar','y-bar','x2bar','y2bar',\n",
    "              'xybar','x2ybr','xy2br','x-ege','xegvy','y-ege','yegvx']"
   ]
  },
  {
   "cell_type": "code",
   "execution_count": 28,
   "metadata": {},
   "outputs": [
    {
     "data": {
      "text/html": [
       "<div>\n",
       "<style>\n",
       "    .dataframe thead tr:only-child th {\n",
       "        text-align: right;\n",
       "    }\n",
       "\n",
       "    .dataframe thead th {\n",
       "        text-align: left;\n",
       "    }\n",
       "\n",
       "    .dataframe tbody tr th {\n",
       "        vertical-align: top;\n",
       "    }\n",
       "</style>\n",
       "<table border=\"1\" class=\"dataframe\">\n",
       "  <thead>\n",
       "    <tr style=\"text-align: right;\">\n",
       "      <th></th>\n",
       "      <th>lettr</th>\n",
       "      <th>x-box</th>\n",
       "      <th>y-box</th>\n",
       "      <th>width</th>\n",
       "      <th>high</th>\n",
       "      <th>onpix</th>\n",
       "      <th>x-bar</th>\n",
       "      <th>y-bar</th>\n",
       "      <th>x2bar</th>\n",
       "      <th>y2bar</th>\n",
       "      <th>xybar</th>\n",
       "      <th>x2ybr</th>\n",
       "      <th>xy2br</th>\n",
       "      <th>x-ege</th>\n",
       "      <th>xegvy</th>\n",
       "      <th>y-ege</th>\n",
       "      <th>yegvx</th>\n",
       "    </tr>\n",
       "  </thead>\n",
       "  <tbody>\n",
       "    <tr>\n",
       "      <th>0</th>\n",
       "      <td>T</td>\n",
       "      <td>2</td>\n",
       "      <td>8</td>\n",
       "      <td>3</td>\n",
       "      <td>5</td>\n",
       "      <td>1</td>\n",
       "      <td>8</td>\n",
       "      <td>13</td>\n",
       "      <td>0</td>\n",
       "      <td>6</td>\n",
       "      <td>6</td>\n",
       "      <td>10</td>\n",
       "      <td>8</td>\n",
       "      <td>0</td>\n",
       "      <td>8</td>\n",
       "      <td>0</td>\n",
       "      <td>8</td>\n",
       "    </tr>\n",
       "    <tr>\n",
       "      <th>1</th>\n",
       "      <td>I</td>\n",
       "      <td>5</td>\n",
       "      <td>12</td>\n",
       "      <td>3</td>\n",
       "      <td>7</td>\n",
       "      <td>2</td>\n",
       "      <td>10</td>\n",
       "      <td>5</td>\n",
       "      <td>5</td>\n",
       "      <td>4</td>\n",
       "      <td>13</td>\n",
       "      <td>3</td>\n",
       "      <td>9</td>\n",
       "      <td>2</td>\n",
       "      <td>8</td>\n",
       "      <td>4</td>\n",
       "      <td>10</td>\n",
       "    </tr>\n",
       "    <tr>\n",
       "      <th>2</th>\n",
       "      <td>D</td>\n",
       "      <td>4</td>\n",
       "      <td>11</td>\n",
       "      <td>6</td>\n",
       "      <td>8</td>\n",
       "      <td>6</td>\n",
       "      <td>10</td>\n",
       "      <td>6</td>\n",
       "      <td>2</td>\n",
       "      <td>6</td>\n",
       "      <td>10</td>\n",
       "      <td>3</td>\n",
       "      <td>7</td>\n",
       "      <td>3</td>\n",
       "      <td>7</td>\n",
       "      <td>3</td>\n",
       "      <td>9</td>\n",
       "    </tr>\n",
       "    <tr>\n",
       "      <th>3</th>\n",
       "      <td>N</td>\n",
       "      <td>7</td>\n",
       "      <td>11</td>\n",
       "      <td>6</td>\n",
       "      <td>6</td>\n",
       "      <td>3</td>\n",
       "      <td>5</td>\n",
       "      <td>9</td>\n",
       "      <td>4</td>\n",
       "      <td>6</td>\n",
       "      <td>4</td>\n",
       "      <td>4</td>\n",
       "      <td>10</td>\n",
       "      <td>6</td>\n",
       "      <td>10</td>\n",
       "      <td>2</td>\n",
       "      <td>8</td>\n",
       "    </tr>\n",
       "    <tr>\n",
       "      <th>4</th>\n",
       "      <td>G</td>\n",
       "      <td>2</td>\n",
       "      <td>1</td>\n",
       "      <td>3</td>\n",
       "      <td>1</td>\n",
       "      <td>1</td>\n",
       "      <td>8</td>\n",
       "      <td>6</td>\n",
       "      <td>6</td>\n",
       "      <td>6</td>\n",
       "      <td>6</td>\n",
       "      <td>5</td>\n",
       "      <td>9</td>\n",
       "      <td>1</td>\n",
       "      <td>7</td>\n",
       "      <td>5</td>\n",
       "      <td>10</td>\n",
       "    </tr>\n",
       "  </tbody>\n",
       "</table>\n",
       "</div>"
      ],
      "text/plain": [
       "  lettr  x-box  y-box  width  high   onpix  x-bar  y-bar  x2bar  y2bar  xybar  \\\n",
       "0     T      2      8      3      5      1      8     13      0      6      6   \n",
       "1     I      5     12      3      7      2     10      5      5      4     13   \n",
       "2     D      4     11      6      8      6     10      6      2      6     10   \n",
       "3     N      7     11      6      6      3      5      9      4      6      4   \n",
       "4     G      2      1      3      1      1      8      6      6      6      6   \n",
       "\n",
       "   x2ybr  xy2br  x-ege  xegvy  y-ege  yegvx  \n",
       "0     10      8      0      8      0      8  \n",
       "1      3      9      2      8      4     10  \n",
       "2      3      7      3      7      3      9  \n",
       "3      4     10      6     10      2      8  \n",
       "4      5      9      1      7      5     10  "
      ]
     },
     "execution_count": 28,
     "metadata": {},
     "output_type": "execute_result"
    }
   ],
   "source": [
    "df.head()"
   ]
  },
  {
   "cell_type": "code",
   "execution_count": 29,
   "metadata": {},
   "outputs": [
    {
     "data": {
      "text/plain": [
       "(20000, 17)"
      ]
     },
     "execution_count": 29,
     "metadata": {},
     "output_type": "execute_result"
    }
   ],
   "source": [
    "#check the shape of the data set (rows, columns)\n",
    "df.shape"
   ]
  },
  {
   "cell_type": "code",
   "execution_count": 6,
   "metadata": {},
   "outputs": [
    {
     "data": {
      "text/plain": [
       "0"
      ]
     },
     "execution_count": 6,
     "metadata": {},
     "output_type": "execute_result"
    }
   ],
   "source": [
    "df.isnull().values.ravel().sum()"
   ]
  },
  {
   "cell_type": "code",
   "execution_count": 7,
   "metadata": {
    "collapsed": true
   },
   "outputs": [],
   "source": [
    "predictors = ['x-box','y-box','width','high ','onpix','x-bar','y-bar','x2bar','y2bar',\n",
    "              'xybar','x2ybr','xy2br','x-ege','xegvy','y-ege','yegvx']"
   ]
  },
  {
   "cell_type": "code",
   "execution_count": 8,
   "metadata": {
    "collapsed": true
   },
   "outputs": [],
   "source": [
    "X = df[predictors]\n",
    "y = df[\"lettr\"]"
   ]
  },
  {
   "cell_type": "markdown",
   "metadata": {},
   "source": [
    "## Visualizing data using Seaborn\n",
    "\n",
    "**Seaborn :** Python library for statistical visualization library built on top of Matplotlib \n",
    "\n",
    "- Anaconda users run *conda install seaborn* from the command line"
   ]
  },
  {
   "cell_type": "code",
   "execution_count": 9,
   "metadata": {
    "collapsed": true
   },
   "outputs": [],
   "source": [
    "#Conventional way to import Swaborn\n",
    "\n",
    "import seaborn as sns\n",
    "\n",
    "#allow plots to appear within notebook\n",
    "%matplotlib inline"
   ]
  },
  {
   "cell_type": "code",
   "execution_count": 30,
   "metadata": {},
   "outputs": [
    {
     "ename": "ValueError",
     "evalue": "could not convert string to float: 'A'",
     "output_type": "error",
     "traceback": [
      "\u001b[1;31m---------------------------------------------------------------------------\u001b[0m",
      "\u001b[1;31mValueError\u001b[0m                                Traceback (most recent call last)",
      "\u001b[1;32m<ipython-input-30-4cff3eafa3c7>\u001b[0m in \u001b[0;36m<module>\u001b[1;34m()\u001b[0m\n\u001b[0;32m      1\u001b[0m \u001b[1;31m#visualise the relationship between the features and the response using scatter plot\u001b[0m\u001b[1;33m\u001b[0m\u001b[1;33m\u001b[0m\u001b[0m\n\u001b[0;32m      2\u001b[0m \u001b[1;33m\u001b[0m\u001b[0m\n\u001b[1;32m----> 3\u001b[1;33m \u001b[0msns\u001b[0m\u001b[1;33m.\u001b[0m\u001b[0mpairplot\u001b[0m\u001b[1;33m(\u001b[0m\u001b[0mdf\u001b[0m\u001b[1;33m,\u001b[0m \u001b[0mx_vars\u001b[0m \u001b[1;33m=\u001b[0m \u001b[0mpredictors\u001b[0m\u001b[1;33m,\u001b[0m \u001b[0my_vars\u001b[0m \u001b[1;33m=\u001b[0m \u001b[1;34m'lettr'\u001b[0m\u001b[1;33m)\u001b[0m\u001b[1;33m\u001b[0m\u001b[0m\n\u001b[0m",
      "\u001b[1;32mC:\\ProgramData\\Anaconda3\\lib\\site-packages\\seaborn\\linearmodels.py\u001b[0m in \u001b[0;36mpairplot\u001b[1;34m(data, hue, hue_order, palette, vars, x_vars, y_vars, kind, diag_kind, markers, size, aspect, dropna, plot_kws, diag_kws, grid_kws)\u001b[0m\n\u001b[0;32m   1620\u001b[0m     \u001b[1;32mif\u001b[0m \u001b[0mkind\u001b[0m \u001b[1;33m==\u001b[0m \u001b[1;34m\"scatter\"\u001b[0m\u001b[1;33m:\u001b[0m\u001b[1;33m\u001b[0m\u001b[0m\n\u001b[0;32m   1621\u001b[0m         \u001b[0mplot_kws\u001b[0m\u001b[1;33m.\u001b[0m\u001b[0msetdefault\u001b[0m\u001b[1;33m(\u001b[0m\u001b[1;34m\"edgecolor\"\u001b[0m\u001b[1;33m,\u001b[0m \u001b[1;34m\"white\"\u001b[0m\u001b[1;33m)\u001b[0m\u001b[1;33m\u001b[0m\u001b[0m\n\u001b[1;32m-> 1622\u001b[1;33m         \u001b[0mplotter\u001b[0m\u001b[1;33m(\u001b[0m\u001b[0mplt\u001b[0m\u001b[1;33m.\u001b[0m\u001b[0mscatter\u001b[0m\u001b[1;33m,\u001b[0m \u001b[1;33m**\u001b[0m\u001b[0mplot_kws\u001b[0m\u001b[1;33m)\u001b[0m\u001b[1;33m\u001b[0m\u001b[0m\n\u001b[0m\u001b[0;32m   1623\u001b[0m     \u001b[1;32melif\u001b[0m \u001b[0mkind\u001b[0m \u001b[1;33m==\u001b[0m \u001b[1;34m\"reg\"\u001b[0m\u001b[1;33m:\u001b[0m\u001b[1;33m\u001b[0m\u001b[0m\n\u001b[0;32m   1624\u001b[0m         \u001b[0mplotter\u001b[0m\u001b[1;33m(\u001b[0m\u001b[0mregplot\u001b[0m\u001b[1;33m,\u001b[0m \u001b[1;33m**\u001b[0m\u001b[0mplot_kws\u001b[0m\u001b[1;33m)\u001b[0m\u001b[1;33m\u001b[0m\u001b[0m\n",
      "\u001b[1;32mC:\\ProgramData\\Anaconda3\\lib\\site-packages\\seaborn\\axisgrid.py\u001b[0m in \u001b[0;36mmap\u001b[1;34m(self, func, **kwargs)\u001b[0m\n\u001b[0;32m   1287\u001b[0m                     \u001b[0mcolor\u001b[0m \u001b[1;33m=\u001b[0m \u001b[0mself\u001b[0m\u001b[1;33m.\u001b[0m\u001b[0mpalette\u001b[0m\u001b[1;33m[\u001b[0m\u001b[0mk\u001b[0m\u001b[1;33m]\u001b[0m \u001b[1;32mif\u001b[0m \u001b[0mkw_color\u001b[0m \u001b[1;32mis\u001b[0m \u001b[1;32mNone\u001b[0m \u001b[1;32melse\u001b[0m \u001b[0mkw_color\u001b[0m\u001b[1;33m\u001b[0m\u001b[0m\n\u001b[0;32m   1288\u001b[0m                     func(data_k[x_var], data_k[y_var],\n\u001b[1;32m-> 1289\u001b[1;33m                          label=label_k, color=color, **kwargs)\n\u001b[0m\u001b[0;32m   1290\u001b[0m \u001b[1;33m\u001b[0m\u001b[0m\n\u001b[0;32m   1291\u001b[0m                 \u001b[0mself\u001b[0m\u001b[1;33m.\u001b[0m\u001b[0m_clean_axis\u001b[0m\u001b[1;33m(\u001b[0m\u001b[0max\u001b[0m\u001b[1;33m)\u001b[0m\u001b[1;33m\u001b[0m\u001b[0m\n",
      "\u001b[1;32mC:\\ProgramData\\Anaconda3\\lib\\site-packages\\matplotlib\\pyplot.py\u001b[0m in \u001b[0;36mscatter\u001b[1;34m(x, y, s, c, marker, cmap, norm, vmin, vmax, alpha, linewidths, verts, edgecolors, hold, data, **kwargs)\u001b[0m\n\u001b[0;32m   3432\u001b[0m                          \u001b[0mvmin\u001b[0m\u001b[1;33m=\u001b[0m\u001b[0mvmin\u001b[0m\u001b[1;33m,\u001b[0m \u001b[0mvmax\u001b[0m\u001b[1;33m=\u001b[0m\u001b[0mvmax\u001b[0m\u001b[1;33m,\u001b[0m \u001b[0malpha\u001b[0m\u001b[1;33m=\u001b[0m\u001b[0malpha\u001b[0m\u001b[1;33m,\u001b[0m\u001b[1;33m\u001b[0m\u001b[0m\n\u001b[0;32m   3433\u001b[0m                          \u001b[0mlinewidths\u001b[0m\u001b[1;33m=\u001b[0m\u001b[0mlinewidths\u001b[0m\u001b[1;33m,\u001b[0m \u001b[0mverts\u001b[0m\u001b[1;33m=\u001b[0m\u001b[0mverts\u001b[0m\u001b[1;33m,\u001b[0m\u001b[1;33m\u001b[0m\u001b[0m\n\u001b[1;32m-> 3434\u001b[1;33m                          edgecolors=edgecolors, data=data, **kwargs)\n\u001b[0m\u001b[0;32m   3435\u001b[0m     \u001b[1;32mfinally\u001b[0m\u001b[1;33m:\u001b[0m\u001b[1;33m\u001b[0m\u001b[0m\n\u001b[0;32m   3436\u001b[0m         \u001b[0max\u001b[0m\u001b[1;33m.\u001b[0m\u001b[0m_hold\u001b[0m \u001b[1;33m=\u001b[0m \u001b[0mwashold\u001b[0m\u001b[1;33m\u001b[0m\u001b[0m\n",
      "\u001b[1;32mC:\\ProgramData\\Anaconda3\\lib\\site-packages\\matplotlib\\__init__.py\u001b[0m in \u001b[0;36minner\u001b[1;34m(ax, *args, **kwargs)\u001b[0m\n\u001b[0;32m   1895\u001b[0m                     warnings.warn(msg % (label_namer, func.__name__),\n\u001b[0;32m   1896\u001b[0m                                   RuntimeWarning, stacklevel=2)\n\u001b[1;32m-> 1897\u001b[1;33m             \u001b[1;32mreturn\u001b[0m \u001b[0mfunc\u001b[0m\u001b[1;33m(\u001b[0m\u001b[0max\u001b[0m\u001b[1;33m,\u001b[0m \u001b[1;33m*\u001b[0m\u001b[0margs\u001b[0m\u001b[1;33m,\u001b[0m \u001b[1;33m**\u001b[0m\u001b[0mkwargs\u001b[0m\u001b[1;33m)\u001b[0m\u001b[1;33m\u001b[0m\u001b[0m\n\u001b[0m\u001b[0;32m   1898\u001b[0m         \u001b[0mpre_doc\u001b[0m \u001b[1;33m=\u001b[0m \u001b[0minner\u001b[0m\u001b[1;33m.\u001b[0m\u001b[0m__doc__\u001b[0m\u001b[1;33m\u001b[0m\u001b[0m\n\u001b[0;32m   1899\u001b[0m         \u001b[1;32mif\u001b[0m \u001b[0mpre_doc\u001b[0m \u001b[1;32mis\u001b[0m \u001b[1;32mNone\u001b[0m\u001b[1;33m:\u001b[0m\u001b[1;33m\u001b[0m\u001b[0m\n",
      "\u001b[1;32mC:\\ProgramData\\Anaconda3\\lib\\site-packages\\matplotlib\\axes\\_axes.py\u001b[0m in \u001b[0;36mscatter\u001b[1;34m(self, x, y, s, c, marker, cmap, norm, vmin, vmax, alpha, linewidths, verts, edgecolors, **kwargs)\u001b[0m\n\u001b[0;32m   4061\u001b[0m                 \u001b[0mself\u001b[0m\u001b[1;33m.\u001b[0m\u001b[0mset_ymargin\u001b[0m\u001b[1;33m(\u001b[0m\u001b[1;36m0.05\u001b[0m\u001b[1;33m)\u001b[0m\u001b[1;33m\u001b[0m\u001b[0m\n\u001b[0;32m   4062\u001b[0m \u001b[1;33m\u001b[0m\u001b[0m\n\u001b[1;32m-> 4063\u001b[1;33m         \u001b[0mself\u001b[0m\u001b[1;33m.\u001b[0m\u001b[0madd_collection\u001b[0m\u001b[1;33m(\u001b[0m\u001b[0mcollection\u001b[0m\u001b[1;33m)\u001b[0m\u001b[1;33m\u001b[0m\u001b[0m\n\u001b[0m\u001b[0;32m   4064\u001b[0m         \u001b[0mself\u001b[0m\u001b[1;33m.\u001b[0m\u001b[0mautoscale_view\u001b[0m\u001b[1;33m(\u001b[0m\u001b[1;33m)\u001b[0m\u001b[1;33m\u001b[0m\u001b[0m\n\u001b[0;32m   4065\u001b[0m \u001b[1;33m\u001b[0m\u001b[0m\n",
      "\u001b[1;32mC:\\ProgramData\\Anaconda3\\lib\\site-packages\\matplotlib\\axes\\_base.py\u001b[0m in \u001b[0;36madd_collection\u001b[1;34m(self, collection, autolim)\u001b[0m\n\u001b[0;32m   1760\u001b[0m \u001b[1;33m\u001b[0m\u001b[0m\n\u001b[0;32m   1761\u001b[0m         \u001b[1;32mif\u001b[0m \u001b[0mautolim\u001b[0m\u001b[1;33m:\u001b[0m\u001b[1;33m\u001b[0m\u001b[0m\n\u001b[1;32m-> 1762\u001b[1;33m             \u001b[0mself\u001b[0m\u001b[1;33m.\u001b[0m\u001b[0mupdate_datalim\u001b[0m\u001b[1;33m(\u001b[0m\u001b[0mcollection\u001b[0m\u001b[1;33m.\u001b[0m\u001b[0mget_datalim\u001b[0m\u001b[1;33m(\u001b[0m\u001b[0mself\u001b[0m\u001b[1;33m.\u001b[0m\u001b[0mtransData\u001b[0m\u001b[1;33m)\u001b[0m\u001b[1;33m)\u001b[0m\u001b[1;33m\u001b[0m\u001b[0m\n\u001b[0m\u001b[0;32m   1763\u001b[0m \u001b[1;33m\u001b[0m\u001b[0m\n\u001b[0;32m   1764\u001b[0m         \u001b[0mcollection\u001b[0m\u001b[1;33m.\u001b[0m\u001b[0m_remove_method\u001b[0m \u001b[1;33m=\u001b[0m \u001b[1;32mlambda\u001b[0m \u001b[0mh\u001b[0m\u001b[1;33m:\u001b[0m \u001b[0mself\u001b[0m\u001b[1;33m.\u001b[0m\u001b[0mcollections\u001b[0m\u001b[1;33m.\u001b[0m\u001b[0mremove\u001b[0m\u001b[1;33m(\u001b[0m\u001b[0mh\u001b[0m\u001b[1;33m)\u001b[0m\u001b[1;33m\u001b[0m\u001b[0m\n",
      "\u001b[1;32mC:\\ProgramData\\Anaconda3\\lib\\site-packages\\matplotlib\\collections.py\u001b[0m in \u001b[0;36mget_datalim\u001b[1;34m(self, transData)\u001b[0m\n\u001b[0;32m    218\u001b[0m             \u001b[0mtransOffset\u001b[0m \u001b[1;33m=\u001b[0m \u001b[0mtransOffset\u001b[0m\u001b[1;33m.\u001b[0m\u001b[0mget_affine\u001b[0m\u001b[1;33m(\u001b[0m\u001b[1;33m)\u001b[0m\u001b[1;33m\u001b[0m\u001b[0m\n\u001b[0;32m    219\u001b[0m \u001b[1;33m\u001b[0m\u001b[0m\n\u001b[1;32m--> 220\u001b[1;33m         \u001b[0moffsets\u001b[0m \u001b[1;33m=\u001b[0m \u001b[0mnp\u001b[0m\u001b[1;33m.\u001b[0m\u001b[0masanyarray\u001b[0m\u001b[1;33m(\u001b[0m\u001b[0moffsets\u001b[0m\u001b[1;33m,\u001b[0m \u001b[0mnp\u001b[0m\u001b[1;33m.\u001b[0m\u001b[0mfloat_\u001b[0m\u001b[1;33m)\u001b[0m\u001b[1;33m\u001b[0m\u001b[0m\n\u001b[0m\u001b[0;32m    221\u001b[0m         \u001b[1;32mif\u001b[0m \u001b[0mnp\u001b[0m\u001b[1;33m.\u001b[0m\u001b[0mma\u001b[0m\u001b[1;33m.\u001b[0m\u001b[0misMaskedArray\u001b[0m\u001b[1;33m(\u001b[0m\u001b[0moffsets\u001b[0m\u001b[1;33m)\u001b[0m\u001b[1;33m:\u001b[0m\u001b[1;33m\u001b[0m\u001b[0m\n\u001b[0;32m    222\u001b[0m             \u001b[0moffsets\u001b[0m \u001b[1;33m=\u001b[0m \u001b[0moffsets\u001b[0m\u001b[1;33m.\u001b[0m\u001b[0mfilled\u001b[0m\u001b[1;33m(\u001b[0m\u001b[0mnp\u001b[0m\u001b[1;33m.\u001b[0m\u001b[0mnan\u001b[0m\u001b[1;33m)\u001b[0m\u001b[1;33m\u001b[0m\u001b[0m\n",
      "\u001b[1;32mC:\\ProgramData\\Anaconda3\\lib\\site-packages\\numpy\\core\\numeric.py\u001b[0m in \u001b[0;36masanyarray\u001b[1;34m(a, dtype, order)\u001b[0m\n\u001b[0;32m    581\u001b[0m \u001b[1;33m\u001b[0m\u001b[0m\n\u001b[0;32m    582\u001b[0m     \"\"\"\n\u001b[1;32m--> 583\u001b[1;33m     \u001b[1;32mreturn\u001b[0m \u001b[0marray\u001b[0m\u001b[1;33m(\u001b[0m\u001b[0ma\u001b[0m\u001b[1;33m,\u001b[0m \u001b[0mdtype\u001b[0m\u001b[1;33m,\u001b[0m \u001b[0mcopy\u001b[0m\u001b[1;33m=\u001b[0m\u001b[1;32mFalse\u001b[0m\u001b[1;33m,\u001b[0m \u001b[0morder\u001b[0m\u001b[1;33m=\u001b[0m\u001b[0morder\u001b[0m\u001b[1;33m,\u001b[0m \u001b[0msubok\u001b[0m\u001b[1;33m=\u001b[0m\u001b[1;32mTrue\u001b[0m\u001b[1;33m)\u001b[0m\u001b[1;33m\u001b[0m\u001b[0m\n\u001b[0m\u001b[0;32m    584\u001b[0m \u001b[1;33m\u001b[0m\u001b[0m\n\u001b[0;32m    585\u001b[0m \u001b[1;33m\u001b[0m\u001b[0m\n",
      "\u001b[1;31mValueError\u001b[0m: could not convert string to float: 'A'"
     ]
    },
    {
     "ename": "ValueError",
     "evalue": "could not convert string to float: 'A'",
     "output_type": "error",
     "traceback": [
      "\u001b[1;31m---------------------------------------------------------------------------\u001b[0m",
      "\u001b[1;31mValueError\u001b[0m                                Traceback (most recent call last)",
      "\u001b[1;32mC:\\ProgramData\\Anaconda3\\lib\\site-packages\\IPython\\core\\formatters.py\u001b[0m in \u001b[0;36m__call__\u001b[1;34m(self, obj)\u001b[0m\n\u001b[0;32m    305\u001b[0m                 \u001b[1;32mpass\u001b[0m\u001b[1;33m\u001b[0m\u001b[0m\n\u001b[0;32m    306\u001b[0m             \u001b[1;32melse\u001b[0m\u001b[1;33m:\u001b[0m\u001b[1;33m\u001b[0m\u001b[0m\n\u001b[1;32m--> 307\u001b[1;33m                 \u001b[1;32mreturn\u001b[0m \u001b[0mprinter\u001b[0m\u001b[1;33m(\u001b[0m\u001b[0mobj\u001b[0m\u001b[1;33m)\u001b[0m\u001b[1;33m\u001b[0m\u001b[0m\n\u001b[0m\u001b[0;32m    308\u001b[0m             \u001b[1;31m# Finally look for special method names\u001b[0m\u001b[1;33m\u001b[0m\u001b[1;33m\u001b[0m\u001b[0m\n\u001b[0;32m    309\u001b[0m             \u001b[0mmethod\u001b[0m \u001b[1;33m=\u001b[0m \u001b[0mget_real_method\u001b[0m\u001b[1;33m(\u001b[0m\u001b[0mobj\u001b[0m\u001b[1;33m,\u001b[0m \u001b[0mself\u001b[0m\u001b[1;33m.\u001b[0m\u001b[0mprint_method\u001b[0m\u001b[1;33m)\u001b[0m\u001b[1;33m\u001b[0m\u001b[0m\n",
      "\u001b[1;32mC:\\ProgramData\\Anaconda3\\lib\\site-packages\\IPython\\core\\pylabtools.py\u001b[0m in \u001b[0;36m<lambda>\u001b[1;34m(fig)\u001b[0m\n\u001b[0;32m    238\u001b[0m \u001b[1;33m\u001b[0m\u001b[0m\n\u001b[0;32m    239\u001b[0m     \u001b[1;32mif\u001b[0m \u001b[1;34m'png'\u001b[0m \u001b[1;32min\u001b[0m \u001b[0mformats\u001b[0m\u001b[1;33m:\u001b[0m\u001b[1;33m\u001b[0m\u001b[0m\n\u001b[1;32m--> 240\u001b[1;33m         \u001b[0mpng_formatter\u001b[0m\u001b[1;33m.\u001b[0m\u001b[0mfor_type\u001b[0m\u001b[1;33m(\u001b[0m\u001b[0mFigure\u001b[0m\u001b[1;33m,\u001b[0m \u001b[1;32mlambda\u001b[0m \u001b[0mfig\u001b[0m\u001b[1;33m:\u001b[0m \u001b[0mprint_figure\u001b[0m\u001b[1;33m(\u001b[0m\u001b[0mfig\u001b[0m\u001b[1;33m,\u001b[0m \u001b[1;34m'png'\u001b[0m\u001b[1;33m,\u001b[0m \u001b[1;33m**\u001b[0m\u001b[0mkwargs\u001b[0m\u001b[1;33m)\u001b[0m\u001b[1;33m)\u001b[0m\u001b[1;33m\u001b[0m\u001b[0m\n\u001b[0m\u001b[0;32m    241\u001b[0m     \u001b[1;32mif\u001b[0m \u001b[1;34m'retina'\u001b[0m \u001b[1;32min\u001b[0m \u001b[0mformats\u001b[0m \u001b[1;32mor\u001b[0m \u001b[1;34m'png2x'\u001b[0m \u001b[1;32min\u001b[0m \u001b[0mformats\u001b[0m\u001b[1;33m:\u001b[0m\u001b[1;33m\u001b[0m\u001b[0m\n\u001b[0;32m    242\u001b[0m         \u001b[0mpng_formatter\u001b[0m\u001b[1;33m.\u001b[0m\u001b[0mfor_type\u001b[0m\u001b[1;33m(\u001b[0m\u001b[0mFigure\u001b[0m\u001b[1;33m,\u001b[0m \u001b[1;32mlambda\u001b[0m \u001b[0mfig\u001b[0m\u001b[1;33m:\u001b[0m \u001b[0mretina_figure\u001b[0m\u001b[1;33m(\u001b[0m\u001b[0mfig\u001b[0m\u001b[1;33m,\u001b[0m \u001b[1;33m**\u001b[0m\u001b[0mkwargs\u001b[0m\u001b[1;33m)\u001b[0m\u001b[1;33m)\u001b[0m\u001b[1;33m\u001b[0m\u001b[0m\n",
      "\u001b[1;32mC:\\ProgramData\\Anaconda3\\lib\\site-packages\\IPython\\core\\pylabtools.py\u001b[0m in \u001b[0;36mprint_figure\u001b[1;34m(fig, fmt, bbox_inches, **kwargs)\u001b[0m\n\u001b[0;32m    122\u001b[0m \u001b[1;33m\u001b[0m\u001b[0m\n\u001b[0;32m    123\u001b[0m     \u001b[0mbytes_io\u001b[0m \u001b[1;33m=\u001b[0m \u001b[0mBytesIO\u001b[0m\u001b[1;33m(\u001b[0m\u001b[1;33m)\u001b[0m\u001b[1;33m\u001b[0m\u001b[0m\n\u001b[1;32m--> 124\u001b[1;33m     \u001b[0mfig\u001b[0m\u001b[1;33m.\u001b[0m\u001b[0mcanvas\u001b[0m\u001b[1;33m.\u001b[0m\u001b[0mprint_figure\u001b[0m\u001b[1;33m(\u001b[0m\u001b[0mbytes_io\u001b[0m\u001b[1;33m,\u001b[0m \u001b[1;33m**\u001b[0m\u001b[0mkw\u001b[0m\u001b[1;33m)\u001b[0m\u001b[1;33m\u001b[0m\u001b[0m\n\u001b[0m\u001b[0;32m    125\u001b[0m     \u001b[0mdata\u001b[0m \u001b[1;33m=\u001b[0m \u001b[0mbytes_io\u001b[0m\u001b[1;33m.\u001b[0m\u001b[0mgetvalue\u001b[0m\u001b[1;33m(\u001b[0m\u001b[1;33m)\u001b[0m\u001b[1;33m\u001b[0m\u001b[0m\n\u001b[0;32m    126\u001b[0m     \u001b[1;32mif\u001b[0m \u001b[0mfmt\u001b[0m \u001b[1;33m==\u001b[0m \u001b[1;34m'svg'\u001b[0m\u001b[1;33m:\u001b[0m\u001b[1;33m\u001b[0m\u001b[0m\n",
      "\u001b[1;32mC:\\ProgramData\\Anaconda3\\lib\\site-packages\\matplotlib\\backend_bases.py\u001b[0m in \u001b[0;36mprint_figure\u001b[1;34m(self, filename, dpi, facecolor, edgecolor, orientation, format, **kwargs)\u001b[0m\n\u001b[0;32m   2198\u001b[0m                     \u001b[0morientation\u001b[0m\u001b[1;33m=\u001b[0m\u001b[0morientation\u001b[0m\u001b[1;33m,\u001b[0m\u001b[1;33m\u001b[0m\u001b[0m\n\u001b[0;32m   2199\u001b[0m                     \u001b[0mdryrun\u001b[0m\u001b[1;33m=\u001b[0m\u001b[1;32mTrue\u001b[0m\u001b[1;33m,\u001b[0m\u001b[1;33m\u001b[0m\u001b[0m\n\u001b[1;32m-> 2200\u001b[1;33m                     **kwargs)\n\u001b[0m\u001b[0;32m   2201\u001b[0m                 \u001b[0mrenderer\u001b[0m \u001b[1;33m=\u001b[0m \u001b[0mself\u001b[0m\u001b[1;33m.\u001b[0m\u001b[0mfigure\u001b[0m\u001b[1;33m.\u001b[0m\u001b[0m_cachedRenderer\u001b[0m\u001b[1;33m\u001b[0m\u001b[0m\n\u001b[0;32m   2202\u001b[0m                 \u001b[0mbbox_inches\u001b[0m \u001b[1;33m=\u001b[0m \u001b[0mself\u001b[0m\u001b[1;33m.\u001b[0m\u001b[0mfigure\u001b[0m\u001b[1;33m.\u001b[0m\u001b[0mget_tightbbox\u001b[0m\u001b[1;33m(\u001b[0m\u001b[0mrenderer\u001b[0m\u001b[1;33m)\u001b[0m\u001b[1;33m\u001b[0m\u001b[0m\n",
      "\u001b[1;32mC:\\ProgramData\\Anaconda3\\lib\\site-packages\\matplotlib\\backends\\backend_agg.py\u001b[0m in \u001b[0;36mprint_png\u001b[1;34m(self, filename_or_obj, *args, **kwargs)\u001b[0m\n\u001b[0;32m    543\u001b[0m \u001b[1;33m\u001b[0m\u001b[0m\n\u001b[0;32m    544\u001b[0m     \u001b[1;32mdef\u001b[0m \u001b[0mprint_png\u001b[0m\u001b[1;33m(\u001b[0m\u001b[0mself\u001b[0m\u001b[1;33m,\u001b[0m \u001b[0mfilename_or_obj\u001b[0m\u001b[1;33m,\u001b[0m \u001b[1;33m*\u001b[0m\u001b[0margs\u001b[0m\u001b[1;33m,\u001b[0m \u001b[1;33m**\u001b[0m\u001b[0mkwargs\u001b[0m\u001b[1;33m)\u001b[0m\u001b[1;33m:\u001b[0m\u001b[1;33m\u001b[0m\u001b[0m\n\u001b[1;32m--> 545\u001b[1;33m         \u001b[0mFigureCanvasAgg\u001b[0m\u001b[1;33m.\u001b[0m\u001b[0mdraw\u001b[0m\u001b[1;33m(\u001b[0m\u001b[0mself\u001b[0m\u001b[1;33m)\u001b[0m\u001b[1;33m\u001b[0m\u001b[0m\n\u001b[0m\u001b[0;32m    546\u001b[0m         \u001b[0mrenderer\u001b[0m \u001b[1;33m=\u001b[0m \u001b[0mself\u001b[0m\u001b[1;33m.\u001b[0m\u001b[0mget_renderer\u001b[0m\u001b[1;33m(\u001b[0m\u001b[1;33m)\u001b[0m\u001b[1;33m\u001b[0m\u001b[0m\n\u001b[0;32m    547\u001b[0m         \u001b[0moriginal_dpi\u001b[0m \u001b[1;33m=\u001b[0m \u001b[0mrenderer\u001b[0m\u001b[1;33m.\u001b[0m\u001b[0mdpi\u001b[0m\u001b[1;33m\u001b[0m\u001b[0m\n",
      "\u001b[1;32mC:\\ProgramData\\Anaconda3\\lib\\site-packages\\matplotlib\\backends\\backend_agg.py\u001b[0m in \u001b[0;36mdraw\u001b[1;34m(self)\u001b[0m\n\u001b[0;32m    462\u001b[0m \u001b[1;33m\u001b[0m\u001b[0m\n\u001b[0;32m    463\u001b[0m         \u001b[1;32mtry\u001b[0m\u001b[1;33m:\u001b[0m\u001b[1;33m\u001b[0m\u001b[0m\n\u001b[1;32m--> 464\u001b[1;33m             \u001b[0mself\u001b[0m\u001b[1;33m.\u001b[0m\u001b[0mfigure\u001b[0m\u001b[1;33m.\u001b[0m\u001b[0mdraw\u001b[0m\u001b[1;33m(\u001b[0m\u001b[0mself\u001b[0m\u001b[1;33m.\u001b[0m\u001b[0mrenderer\u001b[0m\u001b[1;33m)\u001b[0m\u001b[1;33m\u001b[0m\u001b[0m\n\u001b[0m\u001b[0;32m    465\u001b[0m         \u001b[1;32mfinally\u001b[0m\u001b[1;33m:\u001b[0m\u001b[1;33m\u001b[0m\u001b[0m\n\u001b[0;32m    466\u001b[0m             \u001b[0mRendererAgg\u001b[0m\u001b[1;33m.\u001b[0m\u001b[0mlock\u001b[0m\u001b[1;33m.\u001b[0m\u001b[0mrelease\u001b[0m\u001b[1;33m(\u001b[0m\u001b[1;33m)\u001b[0m\u001b[1;33m\u001b[0m\u001b[0m\n",
      "\u001b[1;32mC:\\ProgramData\\Anaconda3\\lib\\site-packages\\matplotlib\\artist.py\u001b[0m in \u001b[0;36mdraw_wrapper\u001b[1;34m(artist, renderer, *args, **kwargs)\u001b[0m\n\u001b[0;32m     61\u001b[0m     \u001b[1;32mdef\u001b[0m \u001b[0mdraw_wrapper\u001b[0m\u001b[1;33m(\u001b[0m\u001b[0martist\u001b[0m\u001b[1;33m,\u001b[0m \u001b[0mrenderer\u001b[0m\u001b[1;33m,\u001b[0m \u001b[1;33m*\u001b[0m\u001b[0margs\u001b[0m\u001b[1;33m,\u001b[0m \u001b[1;33m**\u001b[0m\u001b[0mkwargs\u001b[0m\u001b[1;33m)\u001b[0m\u001b[1;33m:\u001b[0m\u001b[1;33m\u001b[0m\u001b[0m\n\u001b[0;32m     62\u001b[0m         \u001b[0mbefore\u001b[0m\u001b[1;33m(\u001b[0m\u001b[0martist\u001b[0m\u001b[1;33m,\u001b[0m \u001b[0mrenderer\u001b[0m\u001b[1;33m)\u001b[0m\u001b[1;33m\u001b[0m\u001b[0m\n\u001b[1;32m---> 63\u001b[1;33m         \u001b[0mdraw\u001b[0m\u001b[1;33m(\u001b[0m\u001b[0martist\u001b[0m\u001b[1;33m,\u001b[0m \u001b[0mrenderer\u001b[0m\u001b[1;33m,\u001b[0m \u001b[1;33m*\u001b[0m\u001b[0margs\u001b[0m\u001b[1;33m,\u001b[0m \u001b[1;33m**\u001b[0m\u001b[0mkwargs\u001b[0m\u001b[1;33m)\u001b[0m\u001b[1;33m\u001b[0m\u001b[0m\n\u001b[0m\u001b[0;32m     64\u001b[0m         \u001b[0mafter\u001b[0m\u001b[1;33m(\u001b[0m\u001b[0martist\u001b[0m\u001b[1;33m,\u001b[0m \u001b[0mrenderer\u001b[0m\u001b[1;33m)\u001b[0m\u001b[1;33m\u001b[0m\u001b[0m\n\u001b[0;32m     65\u001b[0m \u001b[1;33m\u001b[0m\u001b[0m\n",
      "\u001b[1;32mC:\\ProgramData\\Anaconda3\\lib\\site-packages\\matplotlib\\figure.py\u001b[0m in \u001b[0;36mdraw\u001b[1;34m(self, renderer)\u001b[0m\n\u001b[0;32m   1142\u001b[0m \u001b[1;33m\u001b[0m\u001b[0m\n\u001b[0;32m   1143\u001b[0m             mimage._draw_list_compositing_images(\n\u001b[1;32m-> 1144\u001b[1;33m                 renderer, self, dsu, self.suppressComposite)\n\u001b[0m\u001b[0;32m   1145\u001b[0m \u001b[1;33m\u001b[0m\u001b[0m\n\u001b[0;32m   1146\u001b[0m             \u001b[0mrenderer\u001b[0m\u001b[1;33m.\u001b[0m\u001b[0mclose_group\u001b[0m\u001b[1;33m(\u001b[0m\u001b[1;34m'figure'\u001b[0m\u001b[1;33m)\u001b[0m\u001b[1;33m\u001b[0m\u001b[0m\n",
      "\u001b[1;32mC:\\ProgramData\\Anaconda3\\lib\\site-packages\\matplotlib\\image.py\u001b[0m in \u001b[0;36m_draw_list_compositing_images\u001b[1;34m(renderer, parent, dsu, suppress_composite)\u001b[0m\n\u001b[0;32m    137\u001b[0m     \u001b[1;32mif\u001b[0m \u001b[0mnot_composite\u001b[0m \u001b[1;32mor\u001b[0m \u001b[1;32mnot\u001b[0m \u001b[0mhas_images\u001b[0m\u001b[1;33m:\u001b[0m\u001b[1;33m\u001b[0m\u001b[0m\n\u001b[0;32m    138\u001b[0m         \u001b[1;32mfor\u001b[0m \u001b[0mzorder\u001b[0m\u001b[1;33m,\u001b[0m \u001b[0ma\u001b[0m \u001b[1;32min\u001b[0m \u001b[0mdsu\u001b[0m\u001b[1;33m:\u001b[0m\u001b[1;33m\u001b[0m\u001b[0m\n\u001b[1;32m--> 139\u001b[1;33m             \u001b[0ma\u001b[0m\u001b[1;33m.\u001b[0m\u001b[0mdraw\u001b[0m\u001b[1;33m(\u001b[0m\u001b[0mrenderer\u001b[0m\u001b[1;33m)\u001b[0m\u001b[1;33m\u001b[0m\u001b[0m\n\u001b[0m\u001b[0;32m    140\u001b[0m     \u001b[1;32melse\u001b[0m\u001b[1;33m:\u001b[0m\u001b[1;33m\u001b[0m\u001b[0m\n\u001b[0;32m    141\u001b[0m         \u001b[1;31m# Composite any adjacent images together\u001b[0m\u001b[1;33m\u001b[0m\u001b[1;33m\u001b[0m\u001b[0m\n",
      "\u001b[1;32mC:\\ProgramData\\Anaconda3\\lib\\site-packages\\matplotlib\\artist.py\u001b[0m in \u001b[0;36mdraw_wrapper\u001b[1;34m(artist, renderer, *args, **kwargs)\u001b[0m\n\u001b[0;32m     61\u001b[0m     \u001b[1;32mdef\u001b[0m \u001b[0mdraw_wrapper\u001b[0m\u001b[1;33m(\u001b[0m\u001b[0martist\u001b[0m\u001b[1;33m,\u001b[0m \u001b[0mrenderer\u001b[0m\u001b[1;33m,\u001b[0m \u001b[1;33m*\u001b[0m\u001b[0margs\u001b[0m\u001b[1;33m,\u001b[0m \u001b[1;33m**\u001b[0m\u001b[0mkwargs\u001b[0m\u001b[1;33m)\u001b[0m\u001b[1;33m:\u001b[0m\u001b[1;33m\u001b[0m\u001b[0m\n\u001b[0;32m     62\u001b[0m         \u001b[0mbefore\u001b[0m\u001b[1;33m(\u001b[0m\u001b[0martist\u001b[0m\u001b[1;33m,\u001b[0m \u001b[0mrenderer\u001b[0m\u001b[1;33m)\u001b[0m\u001b[1;33m\u001b[0m\u001b[0m\n\u001b[1;32m---> 63\u001b[1;33m         \u001b[0mdraw\u001b[0m\u001b[1;33m(\u001b[0m\u001b[0martist\u001b[0m\u001b[1;33m,\u001b[0m \u001b[0mrenderer\u001b[0m\u001b[1;33m,\u001b[0m \u001b[1;33m*\u001b[0m\u001b[0margs\u001b[0m\u001b[1;33m,\u001b[0m \u001b[1;33m**\u001b[0m\u001b[0mkwargs\u001b[0m\u001b[1;33m)\u001b[0m\u001b[1;33m\u001b[0m\u001b[0m\n\u001b[0m\u001b[0;32m     64\u001b[0m         \u001b[0mafter\u001b[0m\u001b[1;33m(\u001b[0m\u001b[0martist\u001b[0m\u001b[1;33m,\u001b[0m \u001b[0mrenderer\u001b[0m\u001b[1;33m)\u001b[0m\u001b[1;33m\u001b[0m\u001b[0m\n\u001b[0;32m     65\u001b[0m \u001b[1;33m\u001b[0m\u001b[0m\n",
      "\u001b[1;32mC:\\ProgramData\\Anaconda3\\lib\\site-packages\\matplotlib\\axes\\_base.py\u001b[0m in \u001b[0;36mdraw\u001b[1;34m(self, renderer, inframe)\u001b[0m\n\u001b[0;32m   2424\u001b[0m             \u001b[0mrenderer\u001b[0m\u001b[1;33m.\u001b[0m\u001b[0mstop_rasterizing\u001b[0m\u001b[1;33m(\u001b[0m\u001b[1;33m)\u001b[0m\u001b[1;33m\u001b[0m\u001b[0m\n\u001b[0;32m   2425\u001b[0m \u001b[1;33m\u001b[0m\u001b[0m\n\u001b[1;32m-> 2426\u001b[1;33m         \u001b[0mmimage\u001b[0m\u001b[1;33m.\u001b[0m\u001b[0m_draw_list_compositing_images\u001b[0m\u001b[1;33m(\u001b[0m\u001b[0mrenderer\u001b[0m\u001b[1;33m,\u001b[0m \u001b[0mself\u001b[0m\u001b[1;33m,\u001b[0m \u001b[0mdsu\u001b[0m\u001b[1;33m)\u001b[0m\u001b[1;33m\u001b[0m\u001b[0m\n\u001b[0m\u001b[0;32m   2427\u001b[0m \u001b[1;33m\u001b[0m\u001b[0m\n\u001b[0;32m   2428\u001b[0m         \u001b[0mrenderer\u001b[0m\u001b[1;33m.\u001b[0m\u001b[0mclose_group\u001b[0m\u001b[1;33m(\u001b[0m\u001b[1;34m'axes'\u001b[0m\u001b[1;33m)\u001b[0m\u001b[1;33m\u001b[0m\u001b[0m\n",
      "\u001b[1;32mC:\\ProgramData\\Anaconda3\\lib\\site-packages\\matplotlib\\image.py\u001b[0m in \u001b[0;36m_draw_list_compositing_images\u001b[1;34m(renderer, parent, dsu, suppress_composite)\u001b[0m\n\u001b[0;32m    137\u001b[0m     \u001b[1;32mif\u001b[0m \u001b[0mnot_composite\u001b[0m \u001b[1;32mor\u001b[0m \u001b[1;32mnot\u001b[0m \u001b[0mhas_images\u001b[0m\u001b[1;33m:\u001b[0m\u001b[1;33m\u001b[0m\u001b[0m\n\u001b[0;32m    138\u001b[0m         \u001b[1;32mfor\u001b[0m \u001b[0mzorder\u001b[0m\u001b[1;33m,\u001b[0m \u001b[0ma\u001b[0m \u001b[1;32min\u001b[0m \u001b[0mdsu\u001b[0m\u001b[1;33m:\u001b[0m\u001b[1;33m\u001b[0m\u001b[0m\n\u001b[1;32m--> 139\u001b[1;33m             \u001b[0ma\u001b[0m\u001b[1;33m.\u001b[0m\u001b[0mdraw\u001b[0m\u001b[1;33m(\u001b[0m\u001b[0mrenderer\u001b[0m\u001b[1;33m)\u001b[0m\u001b[1;33m\u001b[0m\u001b[0m\n\u001b[0m\u001b[0;32m    140\u001b[0m     \u001b[1;32melse\u001b[0m\u001b[1;33m:\u001b[0m\u001b[1;33m\u001b[0m\u001b[0m\n\u001b[0;32m    141\u001b[0m         \u001b[1;31m# Composite any adjacent images together\u001b[0m\u001b[1;33m\u001b[0m\u001b[1;33m\u001b[0m\u001b[0m\n",
      "\u001b[1;32mC:\\ProgramData\\Anaconda3\\lib\\site-packages\\matplotlib\\artist.py\u001b[0m in \u001b[0;36mdraw_wrapper\u001b[1;34m(artist, renderer, *args, **kwargs)\u001b[0m\n\u001b[0;32m     61\u001b[0m     \u001b[1;32mdef\u001b[0m \u001b[0mdraw_wrapper\u001b[0m\u001b[1;33m(\u001b[0m\u001b[0martist\u001b[0m\u001b[1;33m,\u001b[0m \u001b[0mrenderer\u001b[0m\u001b[1;33m,\u001b[0m \u001b[1;33m*\u001b[0m\u001b[0margs\u001b[0m\u001b[1;33m,\u001b[0m \u001b[1;33m**\u001b[0m\u001b[0mkwargs\u001b[0m\u001b[1;33m)\u001b[0m\u001b[1;33m:\u001b[0m\u001b[1;33m\u001b[0m\u001b[0m\n\u001b[0;32m     62\u001b[0m         \u001b[0mbefore\u001b[0m\u001b[1;33m(\u001b[0m\u001b[0martist\u001b[0m\u001b[1;33m,\u001b[0m \u001b[0mrenderer\u001b[0m\u001b[1;33m)\u001b[0m\u001b[1;33m\u001b[0m\u001b[0m\n\u001b[1;32m---> 63\u001b[1;33m         \u001b[0mdraw\u001b[0m\u001b[1;33m(\u001b[0m\u001b[0martist\u001b[0m\u001b[1;33m,\u001b[0m \u001b[0mrenderer\u001b[0m\u001b[1;33m,\u001b[0m \u001b[1;33m*\u001b[0m\u001b[0margs\u001b[0m\u001b[1;33m,\u001b[0m \u001b[1;33m**\u001b[0m\u001b[0mkwargs\u001b[0m\u001b[1;33m)\u001b[0m\u001b[1;33m\u001b[0m\u001b[0m\n\u001b[0m\u001b[0;32m     64\u001b[0m         \u001b[0mafter\u001b[0m\u001b[1;33m(\u001b[0m\u001b[0martist\u001b[0m\u001b[1;33m,\u001b[0m \u001b[0mrenderer\u001b[0m\u001b[1;33m)\u001b[0m\u001b[1;33m\u001b[0m\u001b[0m\n\u001b[0;32m     65\u001b[0m \u001b[1;33m\u001b[0m\u001b[0m\n",
      "\u001b[1;32mC:\\ProgramData\\Anaconda3\\lib\\site-packages\\matplotlib\\collections.py\u001b[0m in \u001b[0;36mdraw\u001b[1;34m(self, renderer)\u001b[0m\n\u001b[0;32m    884\u001b[0m     \u001b[1;32mdef\u001b[0m \u001b[0mdraw\u001b[0m\u001b[1;33m(\u001b[0m\u001b[0mself\u001b[0m\u001b[1;33m,\u001b[0m \u001b[0mrenderer\u001b[0m\u001b[1;33m)\u001b[0m\u001b[1;33m:\u001b[0m\u001b[1;33m\u001b[0m\u001b[0m\n\u001b[0;32m    885\u001b[0m         \u001b[0mself\u001b[0m\u001b[1;33m.\u001b[0m\u001b[0mset_sizes\u001b[0m\u001b[1;33m(\u001b[0m\u001b[0mself\u001b[0m\u001b[1;33m.\u001b[0m\u001b[0m_sizes\u001b[0m\u001b[1;33m,\u001b[0m \u001b[0mself\u001b[0m\u001b[1;33m.\u001b[0m\u001b[0mfigure\u001b[0m\u001b[1;33m.\u001b[0m\u001b[0mdpi\u001b[0m\u001b[1;33m)\u001b[0m\u001b[1;33m\u001b[0m\u001b[0m\n\u001b[1;32m--> 886\u001b[1;33m         \u001b[0mCollection\u001b[0m\u001b[1;33m.\u001b[0m\u001b[0mdraw\u001b[0m\u001b[1;33m(\u001b[0m\u001b[0mself\u001b[0m\u001b[1;33m,\u001b[0m \u001b[0mrenderer\u001b[0m\u001b[1;33m)\u001b[0m\u001b[1;33m\u001b[0m\u001b[0m\n\u001b[0m\u001b[0;32m    887\u001b[0m \u001b[1;33m\u001b[0m\u001b[0m\n\u001b[0;32m    888\u001b[0m \u001b[1;33m\u001b[0m\u001b[0m\n",
      "\u001b[1;32mC:\\ProgramData\\Anaconda3\\lib\\site-packages\\matplotlib\\artist.py\u001b[0m in \u001b[0;36mdraw_wrapper\u001b[1;34m(artist, renderer, *args, **kwargs)\u001b[0m\n\u001b[0;32m     61\u001b[0m     \u001b[1;32mdef\u001b[0m \u001b[0mdraw_wrapper\u001b[0m\u001b[1;33m(\u001b[0m\u001b[0martist\u001b[0m\u001b[1;33m,\u001b[0m \u001b[0mrenderer\u001b[0m\u001b[1;33m,\u001b[0m \u001b[1;33m*\u001b[0m\u001b[0margs\u001b[0m\u001b[1;33m,\u001b[0m \u001b[1;33m**\u001b[0m\u001b[0mkwargs\u001b[0m\u001b[1;33m)\u001b[0m\u001b[1;33m:\u001b[0m\u001b[1;33m\u001b[0m\u001b[0m\n\u001b[0;32m     62\u001b[0m         \u001b[0mbefore\u001b[0m\u001b[1;33m(\u001b[0m\u001b[0martist\u001b[0m\u001b[1;33m,\u001b[0m \u001b[0mrenderer\u001b[0m\u001b[1;33m)\u001b[0m\u001b[1;33m\u001b[0m\u001b[0m\n\u001b[1;32m---> 63\u001b[1;33m         \u001b[0mdraw\u001b[0m\u001b[1;33m(\u001b[0m\u001b[0martist\u001b[0m\u001b[1;33m,\u001b[0m \u001b[0mrenderer\u001b[0m\u001b[1;33m,\u001b[0m \u001b[1;33m*\u001b[0m\u001b[0margs\u001b[0m\u001b[1;33m,\u001b[0m \u001b[1;33m**\u001b[0m\u001b[0mkwargs\u001b[0m\u001b[1;33m)\u001b[0m\u001b[1;33m\u001b[0m\u001b[0m\n\u001b[0m\u001b[0;32m     64\u001b[0m         \u001b[0mafter\u001b[0m\u001b[1;33m(\u001b[0m\u001b[0martist\u001b[0m\u001b[1;33m,\u001b[0m \u001b[0mrenderer\u001b[0m\u001b[1;33m)\u001b[0m\u001b[1;33m\u001b[0m\u001b[0m\n\u001b[0;32m     65\u001b[0m \u001b[1;33m\u001b[0m\u001b[0m\n",
      "\u001b[1;32mC:\\ProgramData\\Anaconda3\\lib\\site-packages\\matplotlib\\collections.py\u001b[0m in \u001b[0;36mdraw\u001b[1;34m(self, renderer)\u001b[0m\n\u001b[0;32m    287\u001b[0m         \u001b[0mself\u001b[0m\u001b[1;33m.\u001b[0m\u001b[0mupdate_scalarmappable\u001b[0m\u001b[1;33m(\u001b[0m\u001b[1;33m)\u001b[0m\u001b[1;33m\u001b[0m\u001b[0m\n\u001b[0;32m    288\u001b[0m \u001b[1;33m\u001b[0m\u001b[0m\n\u001b[1;32m--> 289\u001b[1;33m         \u001b[0mtransform\u001b[0m\u001b[1;33m,\u001b[0m \u001b[0mtransOffset\u001b[0m\u001b[1;33m,\u001b[0m \u001b[0moffsets\u001b[0m\u001b[1;33m,\u001b[0m \u001b[0mpaths\u001b[0m \u001b[1;33m=\u001b[0m \u001b[0mself\u001b[0m\u001b[1;33m.\u001b[0m\u001b[0m_prepare_points\u001b[0m\u001b[1;33m(\u001b[0m\u001b[1;33m)\u001b[0m\u001b[1;33m\u001b[0m\u001b[0m\n\u001b[0m\u001b[0;32m    290\u001b[0m \u001b[1;33m\u001b[0m\u001b[0m\n\u001b[0;32m    291\u001b[0m         \u001b[0mgc\u001b[0m \u001b[1;33m=\u001b[0m \u001b[0mrenderer\u001b[0m\u001b[1;33m.\u001b[0m\u001b[0mnew_gc\u001b[0m\u001b[1;33m(\u001b[0m\u001b[1;33m)\u001b[0m\u001b[1;33m\u001b[0m\u001b[0m\n",
      "\u001b[1;32mC:\\ProgramData\\Anaconda3\\lib\\site-packages\\matplotlib\\collections.py\u001b[0m in \u001b[0;36m_prepare_points\u001b[1;34m(self)\u001b[0m\n\u001b[0;32m    260\u001b[0m                 \u001b[0moffsets\u001b[0m \u001b[1;33m=\u001b[0m \u001b[0mlist\u001b[0m\u001b[1;33m(\u001b[0m\u001b[0mzip\u001b[0m\u001b[1;33m(\u001b[0m\u001b[0mxs\u001b[0m\u001b[1;33m,\u001b[0m \u001b[0mys\u001b[0m\u001b[1;33m)\u001b[0m\u001b[1;33m)\u001b[0m\u001b[1;33m\u001b[0m\u001b[0m\n\u001b[0;32m    261\u001b[0m \u001b[1;33m\u001b[0m\u001b[0m\n\u001b[1;32m--> 262\u001b[1;33m         \u001b[0moffsets\u001b[0m \u001b[1;33m=\u001b[0m \u001b[0mnp\u001b[0m\u001b[1;33m.\u001b[0m\u001b[0masanyarray\u001b[0m\u001b[1;33m(\u001b[0m\u001b[0moffsets\u001b[0m\u001b[1;33m,\u001b[0m \u001b[0mnp\u001b[0m\u001b[1;33m.\u001b[0m\u001b[0mfloat_\u001b[0m\u001b[1;33m)\u001b[0m\u001b[1;33m\u001b[0m\u001b[0m\n\u001b[0m\u001b[0;32m    263\u001b[0m         \u001b[0moffsets\u001b[0m\u001b[1;33m.\u001b[0m\u001b[0mshape\u001b[0m \u001b[1;33m=\u001b[0m \u001b[1;33m(\u001b[0m\u001b[1;33m-\u001b[0m\u001b[1;36m1\u001b[0m\u001b[1;33m,\u001b[0m \u001b[1;36m2\u001b[0m\u001b[1;33m)\u001b[0m             \u001b[1;31m# Make it Nx2\u001b[0m\u001b[1;33m\u001b[0m\u001b[0m\n\u001b[0;32m    264\u001b[0m \u001b[1;33m\u001b[0m\u001b[0m\n",
      "\u001b[1;32mC:\\ProgramData\\Anaconda3\\lib\\site-packages\\numpy\\core\\numeric.py\u001b[0m in \u001b[0;36masanyarray\u001b[1;34m(a, dtype, order)\u001b[0m\n\u001b[0;32m    581\u001b[0m \u001b[1;33m\u001b[0m\u001b[0m\n\u001b[0;32m    582\u001b[0m     \"\"\"\n\u001b[1;32m--> 583\u001b[1;33m     \u001b[1;32mreturn\u001b[0m \u001b[0marray\u001b[0m\u001b[1;33m(\u001b[0m\u001b[0ma\u001b[0m\u001b[1;33m,\u001b[0m \u001b[0mdtype\u001b[0m\u001b[1;33m,\u001b[0m \u001b[0mcopy\u001b[0m\u001b[1;33m=\u001b[0m\u001b[1;32mFalse\u001b[0m\u001b[1;33m,\u001b[0m \u001b[0morder\u001b[0m\u001b[1;33m=\u001b[0m\u001b[0morder\u001b[0m\u001b[1;33m,\u001b[0m \u001b[0msubok\u001b[0m\u001b[1;33m=\u001b[0m\u001b[1;32mTrue\u001b[0m\u001b[1;33m)\u001b[0m\u001b[1;33m\u001b[0m\u001b[0m\n\u001b[0m\u001b[0;32m    584\u001b[0m \u001b[1;33m\u001b[0m\u001b[0m\n\u001b[0;32m    585\u001b[0m \u001b[1;33m\u001b[0m\u001b[0m\n",
      "\u001b[1;31mValueError\u001b[0m: could not convert string to float: 'A'"
     ]
    },
    {
     "data": {
      "text/plain": [
       "<matplotlib.figure.Figure at 0x10468898>"
      ]
     },
     "metadata": {},
     "output_type": "display_data"
    }
   ],
   "source": [
    "#visualise the relationship between the features and the response using scatter plot\n",
    "\n",
    "sns.pairplot(df, x_vars = predictors, y_vars = 'lettr')"
   ]
  },
  {
   "cell_type": "code",
   "execution_count": 13,
   "metadata": {},
   "outputs": [
    {
     "data": {
      "image/png": "[encoded data removed]",
      "text/plain": [
       "<matplotlib.figure.Figure at 0xaf8de80>"
      ]
     },
     "metadata": {},
     "output_type": "display_data"
    }
   ],
   "source": [
    "ax = sns.boxplot(x='lettr', y='x-box', data=df)"
   ]
  },
  {
   "cell_type": "code",
   "execution_count": 14,
   "metadata": {},
   "outputs": [
    {
     "data": {
      "image/png": "[encoded data removed]",
      "text/plain": [
       "<matplotlib.figure.Figure at 0x1041fe80>"
      ]
     },
     "metadata": {},
     "output_type": "display_data"
    }
   ],
   "source": [
    "ax = sns.boxplot(x='lettr', y='y-box', data=df)"
   ]
  },
  {
   "cell_type": "code",
   "execution_count": 15,
   "metadata": {},
   "outputs": [
    {
     "data": {
      "image/png": "[encoded data removed]",
      "text/plain": [
       "<matplotlib.figure.Figure at 0xf6cc4e0>"
      ]
     },
     "metadata": {},
     "output_type": "display_data"
    }
   ],
   "source": [
    "ax = sns.boxplot(x='lettr', y='width', data=df)"
   ]
  },
  {
   "cell_type": "code",
   "execution_count": 16,
   "metadata": {},
   "outputs": [
    {
     "data": {
      "image/png": "[encoded data removed]",
      "text/plain": [
       "<matplotlib.figure.Figure at 0x107a9240>"
      ]
     },
     "metadata": {},
     "output_type": "display_data"
    }
   ],
   "source": [
    "ax = sns.boxplot(x='lettr', y='high ', data=df)"
   ]
  },
  {
   "cell_type": "code",
   "execution_count": 17,
   "metadata": {},
   "outputs": [
    {
     "data": {
      "image/png": "[encoded data removed]",
      "text/plain": [
       "<matplotlib.figure.Figure at 0x10c90c88>"
      ]
     },
     "metadata": {},
     "output_type": "display_data"
    }
   ],
   "source": [
    "ax = sns.boxplot(x='lettr', y='onpix', data=df)"
   ]
  },
  {
   "cell_type": "code",
   "execution_count": 18,
   "metadata": {},
   "outputs": [
    {
     "data": {
      "image/png": "[encoded data removed]",
      "text/plain": [
       "<matplotlib.figure.Figure at 0xee07198>"
      ]
     },
     "metadata": {},
     "output_type": "display_data"
    }
   ],
   "source": [
    "ax = sns.boxplot(x='lettr', y='x-bar', data=df)"
   ]
  },
  {
   "cell_type": "code",
   "execution_count": 19,
   "metadata": {},
   "outputs": [
    {
     "data": {
      "image/png": "[encoded data removed]",
      "text/plain": [
       "<matplotlib.figure.Figure at 0xc238f60>"
      ]
     },
     "metadata": {},
     "output_type": "display_data"
    }
   ],
   "source": [
    "ax = sns.boxplot(x='lettr', y='y-bar', data=df)"
   ]
  },
  {
   "cell_type": "code",
   "execution_count": 20,
   "metadata": {},
   "outputs": [
    {
     "data": {
      "image/png": "[encoded data removed]",
      "text/plain": [
       "<matplotlib.figure.Figure at 0xc235390>"
      ]
     },
     "metadata": {},
     "output_type": "display_data"
    }
   ],
   "source": [
    "ax = sns.boxplot(x='lettr', y='x2bar', data=df)"
   ]
  },
  {
   "cell_type": "code",
   "execution_count": 21,
   "metadata": {},
   "outputs": [
    {
     "data": {
      "image/png": "[encoded data removed]",
      "text/plain": [
       "<matplotlib.figure.Figure at 0xee07940>"
      ]
     },
     "metadata": {},
     "output_type": "display_data"
    }
   ],
   "source": [
    "ax = sns.boxplot(x='lettr', y='y2bar', data=df)"
   ]
  },
  {
   "cell_type": "code",
   "execution_count": 22,
   "metadata": {},
   "outputs": [
    {
     "data": {
      "image/png": "[encoded data removed]",
      "text/plain": [
       "<matplotlib.figure.Figure at 0xed25278>"
      ]
     },
     "metadata": {},
     "output_type": "display_data"
    }
   ],
   "source": [
    "ax = sns.boxplot(x='lettr', y='xybar', data=df)"
   ]
  },
  {
   "cell_type": "code",
   "execution_count": 23,
   "metadata": {},
   "outputs": [
    {
     "data": {
      "image/png": "[encoded data removed]",
      "text/plain": [
       "<matplotlib.figure.Figure at 0xc0f9470>"
      ]
     },
     "metadata": {},
     "output_type": "display_data"
    }
   ],
   "source": [
    "ax = sns.boxplot(x='lettr', y='x2ybr', data=df)"
   ]
  },
  {
   "cell_type": "code",
   "execution_count": 24,
   "metadata": {},
   "outputs": [
    {
     "data": {
      "image/png": "[encoded data removed]",
      "text/plain": [
       "<matplotlib.figure.Figure at 0xc2224a8>"
      ]
     },
     "metadata": {},
     "output_type": "display_data"
    }
   ],
   "source": [
    "ax = sns.boxplot(x='lettr', y='xy2br', data=df)"
   ]
  },
  {
   "cell_type": "code",
   "execution_count": 25,
   "metadata": {},
   "outputs": [
    {
     "data": {
      "image/png": "[encoded data removed]",
      "text/plain": [
       "<matplotlib.figure.Figure at 0xc01cf28>"
      ]
     },
     "metadata": {},
     "output_type": "display_data"
    }
   ],
   "source": [
    "ax = sns.boxplot(x='lettr', y='x-ege', data=df)"
   ]
  },
  {
   "cell_type": "code",
   "execution_count": 40,
   "metadata": {},
   "outputs": [
    {
     "data": {
      "image/png": "[encoded data removed]",
      "text/plain": [
       "<Figure size 432x288 with 1 Axes>"
      ]
     },
     "metadata": {
      "needs_background": "light"
     },
     "output_type": "display_data"
    }
   ],
   "source": [
    "ax = sns.boxplot(x='lettr', y='xegvy', data=df)"
   ]
  },
  {
   "cell_type": "code",
   "execution_count": 41,
   "metadata": {},
   "outputs": [
    {
     "data": {
      "image/png": "[encoded data removed]",
      "text/plain": [
       "<Figure size 432x288 with 1 Axes>"
      ]
     },
     "metadata": {
      "needs_background": "light"
     },
     "output_type": "display_data"
    }
   ],
   "source": [
    "ax = sns.boxplot(x='lettr', y='y-ege', data=df)"
   ]
  },
  {
   "cell_type": "code",
   "execution_count": 42,
   "metadata": {},
   "outputs": [
    {
     "data": {
      "image/png": "[encoded data removed]",
      "text/plain": [
       "<Figure size 432x288 with 1 Axes>"
      ]
     },
     "metadata": {
      "needs_background": "light"
     },
     "output_type": "display_data"
    }
   ],
   "source": [
    "ax = sns.boxplot(x='lettr', y='yegvx', data=df)"
   ]
  },
  {
   "cell_type": "code",
   "execution_count": 11,
   "metadata": {},
   "outputs": [
    {
     "data": {
      "text/plain": [
       "<matplotlib.axes._subplots.AxesSubplot at 0x1ea1a410240>"
      ]
     },
     "execution_count": 11,
     "metadata": {},
     "output_type": "execute_result"
    },
    {
     "data": {
      "image/png": "[encoded data removed]",
      "text/plain": [
       "<Figure size 432x288 with 2 Axes>"
      ]
     },
     "metadata": {
      "needs_background": "light"
     },
     "output_type": "display_data"
    }
   ],
   "source": [
    "sns.heatmap(df.corr())"
   ]
  },
  {
   "cell_type": "markdown",
   "metadata": {},
   "source": [
    "## Splitting X and y in training and testing sets"
   ]
  },
  {
   "cell_type": "code",
   "execution_count": 31,
   "metadata": {
    "collapsed": true
   },
   "outputs": [],
   "source": [
    "from sklearn.model_selection import train_test_split\n",
    "X_train,  X_test,y_train, y_test = train_test_split(X,y, random_state = 1)"
   ]
  },
  {
   "cell_type": "code",
   "execution_count": 32,
   "metadata": {},
   "outputs": [
    {
     "name": "stdout",
     "output_type": "stream",
     "text": [
      "X_train shape: (15000, 16)\n",
      "y_train shape: (15000,)\n",
      "X_test shape: (5000, 16)\n",
      "y_test shape: (5000,)\n"
     ]
    }
   ],
   "source": [
    "# default split is 75% to 25%\n",
    "print(\"X_train shape:\", X_train.shape)\n",
    "print(\"y_train shape:\", y_train.shape)\n",
    "print(\"X_test shape:\", X_test.shape)\n",
    "print(\"y_test shape:\", y_test.shape)"
   ]
  },
  {
   "cell_type": "code",
   "execution_count": 70,
   "metadata": {},
   "outputs": [
    {
     "data": {
      "text/plain": [
       "DecisionTreeClassifier(class_weight=None, criterion='gini', max_depth=None,\n",
       "            max_features=None, max_leaf_nodes=None,\n",
       "            min_impurity_split=1e-07, min_samples_leaf=1,\n",
       "            min_samples_split=2, min_weight_fraction_leaf=0.0,\n",
       "            presort=False, random_state=None, splitter='best')"
      ]
     },
     "execution_count": 70,
     "metadata": {},
     "output_type": "execute_result"
    }
   ],
   "source": [
    "# training a decision tree classifier on training dataset\n",
    "\n",
    "from sklearn.tree import DecisionTreeClassifier\n",
    "dtree=DecisionTreeClassifier()\n",
    "dtree.fit(X_train,y_train)"
   ]
  },
  {
   "cell_type": "code",
   "execution_count": 15,
   "metadata": {
    "collapsed": true
   },
   "outputs": [],
   "source": [
    "# make class prediction for the testing data set\n",
    "y_pred_class = dtree.predict(X_test)\n"
   ]
  },
  {
   "cell_type": "code",
   "execution_count": 16,
   "metadata": {},
   "outputs": [
    {
     "name": "stdout",
     "output_type": "stream",
     "text": [
      "0.8702\n"
     ]
    }
   ],
   "source": [
    "#calculate accuracy\n",
    "from sklearn import metrics\n",
    "print(metrics.accuracy_score(y_test, y_pred_class))"
   ]
  },
  {
   "cell_type": "markdown",
   "metadata": {},
   "source": [
    "**Null accuracy:** Accuracy that could be achieved by predicting the most fequent class "
   ]
  },
  {
   "cell_type": "code",
   "execution_count": 17,
   "metadata": {},
   "outputs": [
    {
     "data": {
      "text/plain": [
       "O    0.0436\n",
       "P    0.0430\n",
       "T    0.0430\n",
       "S    0.0424\n",
       "U    0.0416\n",
       "X    0.0406\n",
       "A    0.0404\n",
       "B    0.0400\n",
       "N    0.0400\n",
       "Y    0.0400\n",
       "D    0.0394\n",
       "Z    0.0390\n",
       "R    0.0386\n",
       "W    0.0386\n",
       "Q    0.0380\n",
       "G    0.0376\n",
       "M    0.0376\n",
       "V    0.0366\n",
       "C    0.0364\n",
       "H    0.0362\n",
       "E    0.0356\n",
       "F    0.0354\n",
       "J    0.0348\n",
       "L    0.0348\n",
       "I    0.0340\n",
       "K    0.0328\n",
       "Name: lettr, dtype: float64"
      ]
     },
     "execution_count": 17,
     "metadata": {},
     "output_type": "execute_result"
    }
   ],
   "source": [
    "y_test.value_counts()/len(y_test)"
   ]
  },
  {
   "cell_type": "markdown",
   "metadata": {},
   "source": [
    "## Confusion Matrix \n",
    "\n",
    "Table that describes performance of the model"
   ]
  },
  {
   "cell_type": "code",
   "execution_count": 18,
   "metadata": {},
   "outputs": [
    {
     "data": {
      "text/plain": [
       "array([[189,   1,   1,   0,   0,   0,   2,   0,   0,   1,   0,   0,   1,\n",
       "          0,   2,   1,   2,   0,   1,   0,   0,   0,   0,   1,   0,   0],\n",
       "       [  0, 171,   0,   1,   0,   0,   2,   1,   2,   0,   0,   0,   0,\n",
       "          0,   5,   0,   3,   5,   6,   1,   0,   3,   0,   0,   0,   0],\n",
       "       [  0,   0, 158,   1,   5,   2,   4,   0,   0,   1,   0,   1,   0,\n",
       "          0,   5,   1,   0,   0,   2,   2,   0,   0,   0,   0,   0,   0],\n",
       "       [  0,   5,   0, 173,   0,   1,   0,   4,   0,   1,   1,   1,   1,\n",
       "          1,   3,   1,   1,   1,   0,   0,   0,   1,   0,   2,   0,   0],\n",
       "       [  0,   0,   3,   0, 160,   1,   5,   0,   0,   1,   0,   1,   0,\n",
       "          0,   0,   0,   0,   2,   1,   2,   0,   0,   0,   1,   0,   1],\n",
       "       [  1,   0,   0,   1,   0, 149,   1,   2,   1,   1,   0,   0,   0,\n",
       "          0,   0,   8,   1,   0,   1,   1,   0,   4,   0,   3,   3,   0],\n",
       "       [  0,   2,   2,   2,   4,   0, 155,   1,   2,   0,   0,   0,   1,\n",
       "          0,   7,   2,   3,   1,   4,   1,   0,   1,   0,   0,   0,   0],\n",
       "       [  0,   2,   1,   6,   3,   0,   2, 140,   0,   4,   2,   1,   3,\n",
       "          1,   1,   4,   0,   5,   4,   0,   0,   0,   1,   0,   1,   0],\n",
       "       [  0,   2,   2,   0,   0,   0,   1,   0, 151,   9,   0,   1,   0,\n",
       "          1,   0,   1,   0,   0,   0,   0,   0,   0,   0,   2,   0,   0],\n",
       "       [  0,   0,   0,   1,   2,   1,   3,   2,   3, 159,   0,   1,   0,\n",
       "          0,   0,   1,   0,   1,   0,   0,   0,   0,   0,   0,   0,   0],\n",
       "       [  0,   0,   1,   1,   1,   0,   0,   8,   0,   3, 139,   2,   0,\n",
       "          1,   0,   1,   1,   2,   1,   1,   0,   0,   0,   2,   0,   0],\n",
       "       [  1,   0,   1,   0,   2,   0,   1,   4,   1,   0,   4, 155,   0,\n",
       "          0,   0,   0,   0,   1,   0,   0,   0,   0,   0,   3,   0,   1],\n",
       "       [  2,   0,   0,   1,   0,   0,   0,   0,   0,   0,   0,   1, 167,\n",
       "          8,   2,   1,   2,   1,   0,   0,   1,   0,   1,   1,   0,   0],\n",
       "       [  1,   0,   0,   6,   0,   1,   0,   2,   0,   1,   2,   1,   7,\n",
       "        168,   0,   1,   0,   4,   0,   0,   2,   2,   2,   0,   0,   0],\n",
       "       [  1,   1,   1,  10,   0,   0,   6,   1,   0,   0,   0,   0,   1,\n",
       "          2, 166,   0,  18,   2,   0,   1,   4,   1,   1,   0,   2,   0],\n",
       "       [  0,   2,   0,   3,   0,  15,   0,   1,   2,   0,   1,   1,   0,\n",
       "          0,   2, 186,   0,   0,   0,   0,   0,   1,   0,   1,   0,   0],\n",
       "       [  0,   0,   2,   2,   3,   0,   0,   0,   2,   1,   0,   0,   0,\n",
       "          0,   4,   2, 169,   1,   1,   0,   0,   0,   0,   0,   2,   1],\n",
       "       [  0,   1,   1,   4,   1,   0,   0,   5,   2,   0,   4,   4,   0,\n",
       "          4,   2,   1,   4, 154,   3,   0,   1,   0,   0,   2,   0,   0],\n",
       "       [  1,   4,   0,   3,   1,   2,   4,   4,   2,   1,   0,   4,   0,\n",
       "          0,   0,   0,   1,   2, 175,   2,   0,   0,   0,   2,   0,   4],\n",
       "       [  0,   1,   2,   0,   1,   1,   1,   0,   2,   0,   2,   1,   0,\n",
       "          0,   0,   4,   1,   0,   1, 193,   0,   1,   0,   0,   3,   1],\n",
       "       [  2,   2,   0,   1,   0,   0,   1,   3,   0,   1,   0,   0,   3,\n",
       "          1,   4,   1,   1,   1,   0,   0, 185,   0,   1,   0,   1,   0],\n",
       "       [  0,   4,   0,   0,   0,   1,   0,   0,   0,   0,   0,   0,   0,\n",
       "          1,   1,   1,   1,   0,   0,   1,   1, 170,   0,   0,   2,   0],\n",
       "       [  1,   1,   0,   0,   0,   1,   0,   2,   0,   0,   1,   1,   2,\n",
       "          3,   3,   0,   3,   0,   0,   0,   0,   4, 171,   0,   0,   0],\n",
       "       [  1,   0,   0,   1,   2,   1,   0,   0,   1,   0,   3,   3,   0,\n",
       "          1,   0,   0,   0,   2,   1,   0,   0,   0,   0, 186,   1,   0],\n",
       "       [  1,   0,   0,   0,   0,   0,   0,   0,   0,   1,   0,   0,   0,\n",
       "          0,   1,   2,   0,   0,   3,   3,   2,   2,   0,   0, 185,   0],\n",
       "       [  1,   0,   0,   1,   5,   1,   1,   0,   3,   0,   0,   0,   0,\n",
       "          0,   0,   0,   2,   0,   2,   0,   0,   0,   0,   2,   0, 177]],\n",
       "      dtype=int64)"
      ]
     },
     "execution_count": 18,
     "metadata": {},
     "output_type": "execute_result"
    }
   ],
   "source": [
    "#IMPORTANT: first argument is true value, second argument is predicted values\n",
    "\n",
    "metrics.confusion_matrix(y_test,y_pred_class)"
   ]
  },
  {
   "cell_type": "code",
   "execution_count": 19,
   "metadata": {
    "collapsed": true
   },
   "outputs": [],
   "source": [
    "conf_matrix = pd.DataFrame(metrics.confusion_matrix(y_test,y_pred_class), columns=[\"a\",\"b\",\"c\",\"d\",\"e\",\"f\",\"g\",\"h\",\"i\",\"j\",\n",
    "                                                                                  \"k\",\"l\",\"m\",\"n\", \"o\", \"p\" ,\"q\", \"r\", \"s\", \"t\",\n",
    "                                                                                   \"u\",\"v\",\"w\", \"x\", \"y\", \"z\"])"
   ]
  },
  {
   "cell_type": "code",
   "execution_count": 20,
   "metadata": {},
   "outputs": [
    {
     "data": {
      "text/plain": [
       "<matplotlib.axes._subplots.AxesSubplot at 0x177bfc4b940>"
      ]
     },
     "execution_count": 20,
     "metadata": {},
     "output_type": "execute_result"
    },
    {
     "data": {
      "image/png": "[encoded data removed]",
      "text/plain": [
       "<Figure size 432x288 with 2 Axes>"
      ]
     },
     "metadata": {
      "needs_background": "light"
     },
     "output_type": "display_data"
    }
   ],
   "source": [
    "# plot using a color palette\n",
    "sns.heatmap(conf_matrix, cmap=\"YlGnBu\")\n"
   ]
  },
  {
   "cell_type": "code",
   "execution_count": 21,
   "metadata": {},
   "outputs": [
    {
     "data": {
      "text/plain": [
       "0.8835922057980797"
      ]
     },
     "execution_count": 21,
     "metadata": {},
     "output_type": "execute_result"
    }
   ],
   "source": [
    "# calculate a cross-validated accuracy\n",
    "from sklearn.cross_validation import cross_val_score\n",
    "\n",
    "cross_val_score(dtree, X,y,cv = 10, scoring = \"accuracy\").mean()"
   ]
  },
  {
   "cell_type": "markdown",
   "metadata": {},
   "source": [
    "### Desicion tree is 88% accurate which is good as compared to the null accuracy of 4%"
   ]
  },
  {
   "cell_type": "markdown",
   "metadata": {},
   "source": [
    "Let's work on parameter tunning for decision trees"
   ]
  },
  {
   "cell_type": "markdown",
   "metadata": {},
   "source": [
    "#### max_depth\n",
    "The first parameter to tune is max_depth. This indicates how deep the tree can be. The deeper the tree, the more splits it has and it captures more information about the data. We fit a decision tree with depths ranging from 1 to 32 and check the accuracy scores"
   ]
  },
  {
   "cell_type": "code",
   "execution_count": 22,
   "metadata": {},
   "outputs": [
    {
     "data": {
      "image/png": "[encoded data removed]",
      "text/plain": [
       "<Figure size 432x288 with 1 Axes>"
      ]
     },
     "metadata": {
      "needs_background": "light"
     },
     "output_type": "display_data"
    }
   ],
   "source": [
    "max_depths = np.linspace(1, 32, 32, endpoint=True)\n",
    "train_results = []\n",
    "test_results = []\n",
    "for max_depth in max_depths:\n",
    "    dt = DecisionTreeClassifier(max_depth=max_depth)\n",
    "    dt.fit(X_train, y_train)\n",
    "    train_pred = dt.predict(X_train)\n",
    "    acc = metrics.accuracy_score(y_train, train_pred)\n",
    "    #false_positive_rate, true_positive_rate, thresholds = roc_curve(y_train, train_pred)\n",
    "    #roc_auc = auc(false_positive_rate, true_positive_rate)\n",
    "    # Add auc score to previous train results\n",
    "    train_results.append(acc)\n",
    "    y_pred = dt.predict(X_test)\n",
    "    test_pred = dt.predict(X_test)\n",
    "    acc = metrics.accuracy_score(y_test, test_pred)\n",
    "    # Add auc score to previous test results\n",
    "    test_results.append(acc)\n",
    "    \n",
    "    \n",
    "from matplotlib.legend_handler import HandlerLine2D\n",
    "\n",
    "line1, = plt.plot(max_depths, train_results, 'b', label=\"Train Accuracy\")\n",
    "line2, = plt.plot(max_depths, test_results, 'r', label=\"Test Accuracy\")\n",
    "plt.legend(handler_map={line1: HandlerLine2D(numpoints=2)})\n",
    "plt.ylabel(\"Accuracy Score\")\n",
    "plt.xlabel('Tree depth')\n",
    "plt.show()"
   ]
  },
  {
   "cell_type": "markdown",
   "metadata": {},
   "source": [
    "#### min_samples_split\n",
    "min_samples_split represents the minimum number of samples required to split an internal node. This can vary between considering at least one sample at each node to considering all of the samples at each node. When we increase this parameter, the tree becomes more constrained as it has to consider more samples at each node. Here we will vary the parameter from 1% to 10% of the samples"
   ]
  },
  {
   "cell_type": "code",
   "execution_count": 23,
   "metadata": {},
   "outputs": [
    {
     "data": {
      "image/png": "[encoded data removed]",
      "text/plain": [
       "<Figure size 432x288 with 1 Axes>"
      ]
     },
     "metadata": {
      "needs_background": "light"
     },
     "output_type": "display_data"
    }
   ],
   "source": [
    "min_samples_splits = np.linspace(0.0001, 1.0, 10, endpoint=True)\n",
    "\n",
    "train_results = []\n",
    "test_results = []\n",
    "for min_samples_split in min_samples_splits:\n",
    "    dt = DecisionTreeClassifier(min_samples_split=min_samples_split)\n",
    "    dt.fit(X_train, y_train)\n",
    "    train_pred = dt.predict(X_train)\n",
    "    acc = metrics.accuracy_score(y_train, train_pred)\n",
    "    #false_positive_rate, true_positive_rate, thresholds = roc_curve(y_train, train_pred)\n",
    "    #roc_auc = auc(false_positive_rate, true_positive_rate)\n",
    "    # Add auc score to previous train results\n",
    "    train_results.append(acc)\n",
    "    y_pred = dt.predict(X_test)\n",
    "    test_pred = dt.predict(X_test)\n",
    "    acc = metrics.accuracy_score(y_test, test_pred)\n",
    "    # Add auc score to previous test results\n",
    "    test_results.append(acc)\n",
    "    \n",
    "    \n",
    "line1, = plt.plot(min_samples_splits, train_results, 'b', label=\"Train Accuracy\")\n",
    "line2, = plt.plot(min_samples_splits, test_results, 'r', label=\"Test Accuracy\")\n",
    "plt.legend(handler_map={line1: HandlerLine2D(numpoints=2)})\n",
    "plt.ylabel(\"Accuracy Score\")\n",
    "plt.xlabel(\"min samples split\")\n",
    "plt.show()"
   ]
  },
  {
   "cell_type": "markdown",
   "metadata": {},
   "source": [
    "#### min_samples_leaf\n",
    "min_samples_leaf is The minimum number of samples required to be at a leaf node. This parameter is similar to min_samples_splits, however, this describe the minimum number of samples of samples at the leafs, the base of the tree."
   ]
  },
  {
   "cell_type": "code",
   "execution_count": 24,
   "metadata": {},
   "outputs": [
    {
     "data": {
      "image/png": "[encoded data removed]",
      "text/plain": [
       "<Figure size 432x288 with 1 Axes>"
      ]
     },
     "metadata": {
      "needs_background": "light"
     },
     "output_type": "display_data"
    }
   ],
   "source": [
    "min_samples_leafs = np.linspace(0.0001, 0.5, 5, endpoint=True)\n",
    "train_results = []\n",
    "test_results = []\n",
    "for min_samples_leaf in min_samples_leafs:\n",
    "    dt = DecisionTreeClassifier(min_samples_leaf=min_samples_leaf)\n",
    "    dt.fit(X_train, y_train)\n",
    "    train_pred = dt.predict(X_train)\n",
    "    acc = metrics.accuracy_score(y_train, train_pred)\n",
    "    #false_positive_rate, true_positive_rate, thresholds = roc_curve(y_train, train_pred)\n",
    "    #roc_auc = auc(false_positive_rate, true_positive_rate)\n",
    "    # Add auc score to previous train results\n",
    "    train_results.append(acc)\n",
    "    y_pred = dt.predict(X_test)\n",
    "    test_pred = dt.predict(X_test)\n",
    "    acc = metrics.accuracy_score(y_test, test_pred)\n",
    "    # Add auc score to previous test results\n",
    "    test_results.append(acc)\n",
    "    \n",
    "    \n",
    "from matplotlib.legend_handler import HandlerLine2D\n",
    "line1, = plt.plot(min_samples_leafs, train_results, 'b', label=\"Train Accuracy\")\n",
    "line2, = plt.plot(min_samples_leafs, test_results, 'r', label=\"Test Accuracy\")\n",
    "plt.legend(handler_map={line1: HandlerLine2D(numpoints=2)})\n",
    "plt.ylabel(\"Accuracy Score\")\n",
    "plt.xlabel(\"Min samples leafs\")\n",
    "plt.show()\n"
   ]
  },
  {
   "cell_type": "markdown",
   "metadata": {},
   "source": [
    "#### max_features\n",
    "max_features represents the number of features to consider when looking for the best split."
   ]
  },
  {
   "cell_type": "code",
   "execution_count": 25,
   "metadata": {},
   "outputs": [
    {
     "data": {
      "image/png": "[encoded data removed]",
      "text/plain": [
       "<Figure size 432x288 with 1 Axes>"
      ]
     },
     "metadata": {
      "needs_background": "light"
     },
     "output_type": "display_data"
    }
   ],
   "source": [
    "\n",
    "\n",
    "max_features = list(range(1,X_train.shape[1]))\n",
    "train_results = []\n",
    "test_results = []\n",
    "for max_feature in max_features:\n",
    "    dt = DecisionTreeClassifier(max_features=max_feature)\n",
    "    dt.fit(X_train, y_train)\n",
    "    train_pred = dt.predict(X_train)\n",
    "    acc = metrics.accuracy_score(y_train, train_pred)\n",
    "    #false_positive_rate, true_positive_rate, thresholds = roc_curve(y_train, train_pred)\n",
    "    #roc_auc = auc(false_positive_rate, true_positive_rate)\n",
    "    # Add auc score to previous train results\n",
    "    train_results.append(acc)\n",
    "    y_pred = dt.predict(X_test)\n",
    "    test_pred = dt.predict(X_test)\n",
    "    acc = metrics.accuracy_score(y_test, test_pred)\n",
    "    # Add auc score to previous test results\n",
    "    test_results.append(acc)\n",
    "    \n",
    "    \n",
    "from matplotlib.legend_handler import HandlerLine2D\n",
    "line1, = plt.plot(max_features, train_results, 'b', label=\"Train Accuracy\")\n",
    "line2, = plt.plot(max_features, test_results, 'r', label=\"Test Accuracy\")\n",
    "plt.legend(handler_map={line1: HandlerLine2D(numpoints=2)})\n",
    "plt.ylabel(\"Accuracy Score\")\n",
    "plt.xlabel(\"Max features\")\n",
    "plt.show()"
   ]
  },
  {
   "cell_type": "markdown",
   "metadata": {},
   "source": [
    "#### Tune all parameters together \n",
    "\n",
    "find the best combinations of parameters "
   ]
  },
  {
   "cell_type": "code",
   "execution_count": 26,
   "metadata": {},
   "outputs": [
    {
     "name": "stderr",
     "output_type": "stream",
     "text": [
      "C:\\ProgramData\\Anaconda3\\lib\\site-packages\\sklearn\\grid_search.py:42: DeprecationWarning: This module was deprecated in version 0.18 in favor of the model_selection module into which all the refactored classes and functions are moved. This module will be removed in 0.20.\n",
      "  DeprecationWarning)\n"
     ]
    }
   ],
   "source": [
    "from sklearn.grid_search import GridSearchCV"
   ]
  },
  {
   "cell_type": "code",
   "execution_count": 105,
   "metadata": {
    "collapsed": true
   },
   "outputs": [],
   "source": [
    "#define the paraeters that should be searched\n",
    "\n",
    "max_features = [ 12,  14, 16]\n",
    "#min_samples_leafs = [1,2,3]\n",
    "min_samples_splits = [2,3,4]\n",
    "max_depths = [34,35, 36,37]"
   ]
  },
  {
   "cell_type": "code",
   "execution_count": 106,
   "metadata": {
    "collapsed": true
   },
   "outputs": [],
   "source": [
    "param_grid = dict(max_features = max_features,\n",
    "                  min_samples_leaf = min_samples_leafs, \n",
    "                  min_samples_split = min_samples_splits,\n",
    "                 max_depth = max_depths )"
   ]
  },
  {
   "cell_type": "code",
   "execution_count": 107,
   "metadata": {},
   "outputs": [
    {
     "name": "stdout",
     "output_type": "stream",
     "text": [
      "{'max_features': [12, 14, 16], 'min_samples_leaf': [1, 2, 3], 'min_samples_split': [2, 3, 4], 'max_depth': [34, 35, 36, 37]}\n"
     ]
    }
   ],
   "source": [
    "print(param_grid)"
   ]
  },
  {
   "cell_type": "code",
   "execution_count": 108,
   "metadata": {
    "collapsed": true
   },
   "outputs": [],
   "source": [
    "dtree=DecisionTreeClassifier()"
   ]
  },
  {
   "cell_type": "code",
   "execution_count": 109,
   "metadata": {
    "collapsed": true
   },
   "outputs": [],
   "source": [
    "grid = GridSearchCV(dtree, param_grid, cv = 10, scoring = 'accuracy', n_jobs=-1)"
   ]
  },
  {
   "cell_type": "code",
   "execution_count": 110,
   "metadata": {},
   "outputs": [
    {
     "data": {
      "text/plain": [
       "GridSearchCV(cv=10, error_score='raise',\n",
       "       estimator=DecisionTreeClassifier(class_weight=None, criterion='gini', max_depth=None,\n",
       "            max_features=None, max_leaf_nodes=None,\n",
       "            min_impurity_decrease=0.0, min_impurity_split=None,\n",
       "            min_samples_leaf=1, min_samples_split=2,\n",
       "            min_weight_fraction_leaf=0.0, presort=False, random_state=None,\n",
       "            splitter='best'),\n",
       "       fit_params={}, iid=True, n_jobs=-1,\n",
       "       param_grid={'max_features': [12, 14, 16], 'min_samples_leaf': [1, 2, 3], 'min_samples_split': [2, 3, 4], 'max_depth': [34, 35, 36, 37]},\n",
       "       pre_dispatch='2*n_jobs', refit=True, scoring='accuracy', verbose=0)"
      ]
     },
     "execution_count": 110,
     "metadata": {},
     "output_type": "execute_result"
    }
   ],
   "source": [
    "#fit the grid with data\n",
    "grid.fit(X,y)"
   ]
  },
  {
   "cell_type": "code",
   "execution_count": 111,
   "metadata": {},
   "outputs": [
    {
     "data": {
      "text/plain": [
       "[mean: 0.87525, std: 0.00969, params: {'max_depth': 34, 'max_features': 12, 'min_samples_leaf': 1, 'min_samples_split': 2},\n",
       " mean: 0.87540, std: 0.01099, params: {'max_depth': 34, 'max_features': 12, 'min_samples_leaf': 1, 'min_samples_split': 3},\n",
       " mean: 0.87380, std: 0.01140, params: {'max_depth': 34, 'max_features': 12, 'min_samples_leaf': 1, 'min_samples_split': 4},\n",
       " mean: 0.86825, std: 0.00802, params: {'max_depth': 34, 'max_features': 12, 'min_samples_leaf': 2, 'min_samples_split': 2},\n",
       " mean: 0.86490, std: 0.00843, params: {'max_depth': 34, 'max_features': 12, 'min_samples_leaf': 2, 'min_samples_split': 3},\n",
       " mean: 0.86605, std: 0.00790, params: {'max_depth': 34, 'max_features': 12, 'min_samples_leaf': 2, 'min_samples_split': 4},\n",
       " mean: 0.86220, std: 0.01095, params: {'max_depth': 34, 'max_features': 12, 'min_samples_leaf': 3, 'min_samples_split': 2},\n",
       " mean: 0.85945, std: 0.01112, params: {'max_depth': 34, 'max_features': 12, 'min_samples_leaf': 3, 'min_samples_split': 3},\n",
       " mean: 0.86095, std: 0.01010, params: {'max_depth': 34, 'max_features': 12, 'min_samples_leaf': 3, 'min_samples_split': 4},\n",
       " mean: 0.88090, std: 0.00812, params: {'max_depth': 34, 'max_features': 14, 'min_samples_leaf': 1, 'min_samples_split': 2},\n",
       " mean: 0.87650, std: 0.00734, params: {'max_depth': 34, 'max_features': 14, 'min_samples_leaf': 1, 'min_samples_split': 3},\n",
       " mean: 0.87590, std: 0.00987, params: {'max_depth': 34, 'max_features': 14, 'min_samples_leaf': 1, 'min_samples_split': 4},\n",
       " mean: 0.86790, std: 0.01221, params: {'max_depth': 34, 'max_features': 14, 'min_samples_leaf': 2, 'min_samples_split': 2},\n",
       " mean: 0.87030, std: 0.01075, params: {'max_depth': 34, 'max_features': 14, 'min_samples_leaf': 2, 'min_samples_split': 3},\n",
       " mean: 0.86670, std: 0.01242, params: {'max_depth': 34, 'max_features': 14, 'min_samples_leaf': 2, 'min_samples_split': 4},\n",
       " mean: 0.86465, std: 0.01139, params: {'max_depth': 34, 'max_features': 14, 'min_samples_leaf': 3, 'min_samples_split': 2},\n",
       " mean: 0.86380, std: 0.01209, params: {'max_depth': 34, 'max_features': 14, 'min_samples_leaf': 3, 'min_samples_split': 3},\n",
       " mean: 0.86905, std: 0.00853, params: {'max_depth': 34, 'max_features': 14, 'min_samples_leaf': 3, 'min_samples_split': 4},\n",
       " mean: 0.88350, std: 0.01036, params: {'max_depth': 34, 'max_features': 16, 'min_samples_leaf': 1, 'min_samples_split': 2},\n",
       " mean: 0.88080, std: 0.01035, params: {'max_depth': 34, 'max_features': 16, 'min_samples_leaf': 1, 'min_samples_split': 3},\n",
       " mean: 0.87980, std: 0.00976, params: {'max_depth': 34, 'max_features': 16, 'min_samples_leaf': 1, 'min_samples_split': 4},\n",
       " mean: 0.87265, std: 0.01123, params: {'max_depth': 34, 'max_features': 16, 'min_samples_leaf': 2, 'min_samples_split': 2},\n",
       " mean: 0.87175, std: 0.01022, params: {'max_depth': 34, 'max_features': 16, 'min_samples_leaf': 2, 'min_samples_split': 3},\n",
       " mean: 0.87245, std: 0.01016, params: {'max_depth': 34, 'max_features': 16, 'min_samples_leaf': 2, 'min_samples_split': 4},\n",
       " mean: 0.87170, std: 0.00809, params: {'max_depth': 34, 'max_features': 16, 'min_samples_leaf': 3, 'min_samples_split': 2},\n",
       " mean: 0.87260, std: 0.00836, params: {'max_depth': 34, 'max_features': 16, 'min_samples_leaf': 3, 'min_samples_split': 3},\n",
       " mean: 0.87230, std: 0.00811, params: {'max_depth': 34, 'max_features': 16, 'min_samples_leaf': 3, 'min_samples_split': 4},\n",
       " mean: 0.87765, std: 0.00914, params: {'max_depth': 35, 'max_features': 12, 'min_samples_leaf': 1, 'min_samples_split': 2},\n",
       " mean: 0.87365, std: 0.01109, params: {'max_depth': 35, 'max_features': 12, 'min_samples_leaf': 1, 'min_samples_split': 3},\n",
       " mean: 0.87210, std: 0.01094, params: {'max_depth': 35, 'max_features': 12, 'min_samples_leaf': 1, 'min_samples_split': 4},\n",
       " mean: 0.86640, std: 0.00884, params: {'max_depth': 35, 'max_features': 12, 'min_samples_leaf': 2, 'min_samples_split': 2},\n",
       " mean: 0.86710, std: 0.00955, params: {'max_depth': 35, 'max_features': 12, 'min_samples_leaf': 2, 'min_samples_split': 3},\n",
       " mean: 0.86625, std: 0.00946, params: {'max_depth': 35, 'max_features': 12, 'min_samples_leaf': 2, 'min_samples_split': 4},\n",
       " mean: 0.85865, std: 0.01033, params: {'max_depth': 35, 'max_features': 12, 'min_samples_leaf': 3, 'min_samples_split': 2},\n",
       " mean: 0.85935, std: 0.00891, params: {'max_depth': 35, 'max_features': 12, 'min_samples_leaf': 3, 'min_samples_split': 3},\n",
       " mean: 0.86110, std: 0.00702, params: {'max_depth': 35, 'max_features': 12, 'min_samples_leaf': 3, 'min_samples_split': 4},\n",
       " mean: 0.87960, std: 0.01029, params: {'max_depth': 35, 'max_features': 14, 'min_samples_leaf': 1, 'min_samples_split': 2},\n",
       " mean: 0.87790, std: 0.00946, params: {'max_depth': 35, 'max_features': 14, 'min_samples_leaf': 1, 'min_samples_split': 3},\n",
       " mean: 0.87825, std: 0.01175, params: {'max_depth': 35, 'max_features': 14, 'min_samples_leaf': 1, 'min_samples_split': 4},\n",
       " mean: 0.86825, std: 0.00880, params: {'max_depth': 35, 'max_features': 14, 'min_samples_leaf': 2, 'min_samples_split': 2},\n",
       " mean: 0.86550, std: 0.00987, params: {'max_depth': 35, 'max_features': 14, 'min_samples_leaf': 2, 'min_samples_split': 3},\n",
       " mean: 0.86765, std: 0.00875, params: {'max_depth': 35, 'max_features': 14, 'min_samples_leaf': 2, 'min_samples_split': 4},\n",
       " mean: 0.86555, std: 0.01074, params: {'max_depth': 35, 'max_features': 14, 'min_samples_leaf': 3, 'min_samples_split': 2},\n",
       " mean: 0.86710, std: 0.00937, params: {'max_depth': 35, 'max_features': 14, 'min_samples_leaf': 3, 'min_samples_split': 3},\n",
       " mean: 0.86270, std: 0.01035, params: {'max_depth': 35, 'max_features': 14, 'min_samples_leaf': 3, 'min_samples_split': 4},\n",
       " mean: 0.88555, std: 0.00888, params: {'max_depth': 35, 'max_features': 16, 'min_samples_leaf': 1, 'min_samples_split': 2},\n",
       " mean: 0.88125, std: 0.00970, params: {'max_depth': 35, 'max_features': 16, 'min_samples_leaf': 1, 'min_samples_split': 3},\n",
       " mean: 0.87915, std: 0.00992, params: {'max_depth': 35, 'max_features': 16, 'min_samples_leaf': 1, 'min_samples_split': 4},\n",
       " mean: 0.87340, std: 0.01170, params: {'max_depth': 35, 'max_features': 16, 'min_samples_leaf': 2, 'min_samples_split': 2},\n",
       " mean: 0.87260, std: 0.01108, params: {'max_depth': 35, 'max_features': 16, 'min_samples_leaf': 2, 'min_samples_split': 3},\n",
       " mean: 0.87295, std: 0.01051, params: {'max_depth': 35, 'max_features': 16, 'min_samples_leaf': 2, 'min_samples_split': 4},\n",
       " mean: 0.87325, std: 0.00878, params: {'max_depth': 35, 'max_features': 16, 'min_samples_leaf': 3, 'min_samples_split': 2},\n",
       " mean: 0.87305, std: 0.00832, params: {'max_depth': 35, 'max_features': 16, 'min_samples_leaf': 3, 'min_samples_split': 3},\n",
       " mean: 0.87275, std: 0.00845, params: {'max_depth': 35, 'max_features': 16, 'min_samples_leaf': 3, 'min_samples_split': 4},\n",
       " mean: 0.87575, std: 0.01088, params: {'max_depth': 36, 'max_features': 12, 'min_samples_leaf': 1, 'min_samples_split': 2},\n",
       " mean: 0.87690, std: 0.00751, params: {'max_depth': 36, 'max_features': 12, 'min_samples_leaf': 1, 'min_samples_split': 3},\n",
       " mean: 0.87235, std: 0.00964, params: {'max_depth': 36, 'max_features': 12, 'min_samples_leaf': 1, 'min_samples_split': 4},\n",
       " mean: 0.86530, std: 0.01116, params: {'max_depth': 36, 'max_features': 12, 'min_samples_leaf': 2, 'min_samples_split': 2},\n",
       " mean: 0.86280, std: 0.01046, params: {'max_depth': 36, 'max_features': 12, 'min_samples_leaf': 2, 'min_samples_split': 3},\n",
       " mean: 0.86550, std: 0.01032, params: {'max_depth': 36, 'max_features': 12, 'min_samples_leaf': 2, 'min_samples_split': 4},\n",
       " mean: 0.85865, std: 0.01436, params: {'max_depth': 36, 'max_features': 12, 'min_samples_leaf': 3, 'min_samples_split': 2},\n",
       " mean: 0.86000, std: 0.00987, params: {'max_depth': 36, 'max_features': 12, 'min_samples_leaf': 3, 'min_samples_split': 3},\n",
       " mean: 0.85815, std: 0.01069, params: {'max_depth': 36, 'max_features': 12, 'min_samples_leaf': 3, 'min_samples_split': 4},\n",
       " mean: 0.88120, std: 0.01003, params: {'max_depth': 36, 'max_features': 14, 'min_samples_leaf': 1, 'min_samples_split': 2},\n",
       " mean: 0.87650, std: 0.01040, params: {'max_depth': 36, 'max_features': 14, 'min_samples_leaf': 1, 'min_samples_split': 3},\n",
       " mean: 0.87510, std: 0.01219, params: {'max_depth': 36, 'max_features': 14, 'min_samples_leaf': 1, 'min_samples_split': 4},\n",
       " mean: 0.86805, std: 0.01152, params: {'max_depth': 36, 'max_features': 14, 'min_samples_leaf': 2, 'min_samples_split': 2},\n",
       " mean: 0.87030, std: 0.01063, params: {'max_depth': 36, 'max_features': 14, 'min_samples_leaf': 2, 'min_samples_split': 3},\n",
       " mean: 0.86935, std: 0.01054, params: {'max_depth': 36, 'max_features': 14, 'min_samples_leaf': 2, 'min_samples_split': 4},\n",
       " mean: 0.86690, std: 0.00988, params: {'max_depth': 36, 'max_features': 14, 'min_samples_leaf': 3, 'min_samples_split': 2},\n",
       " mean: 0.86670, std: 0.00936, params: {'max_depth': 36, 'max_features': 14, 'min_samples_leaf': 3, 'min_samples_split': 3},\n",
       " mean: 0.86265, std: 0.01131, params: {'max_depth': 36, 'max_features': 14, 'min_samples_leaf': 3, 'min_samples_split': 4},\n",
       " mean: 0.88435, std: 0.00877, params: {'max_depth': 36, 'max_features': 16, 'min_samples_leaf': 1, 'min_samples_split': 2},\n",
       " mean: 0.88080, std: 0.00964, params: {'max_depth': 36, 'max_features': 16, 'min_samples_leaf': 1, 'min_samples_split': 3},\n",
       " mean: 0.87945, std: 0.01065, params: {'max_depth': 36, 'max_features': 16, 'min_samples_leaf': 1, 'min_samples_split': 4},\n",
       " mean: 0.87310, std: 0.01071, params: {'max_depth': 36, 'max_features': 16, 'min_samples_leaf': 2, 'min_samples_split': 2},\n",
       " mean: 0.87375, std: 0.01103, params: {'max_depth': 36, 'max_features': 16, 'min_samples_leaf': 2, 'min_samples_split': 3},\n",
       " mean: 0.87310, std: 0.00967, params: {'max_depth': 36, 'max_features': 16, 'min_samples_leaf': 2, 'min_samples_split': 4},\n",
       " mean: 0.87205, std: 0.00739, params: {'max_depth': 36, 'max_features': 16, 'min_samples_leaf': 3, 'min_samples_split': 2},\n",
       " mean: 0.87165, std: 0.00879, params: {'max_depth': 36, 'max_features': 16, 'min_samples_leaf': 3, 'min_samples_split': 3},\n",
       " mean: 0.87185, std: 0.00855, params: {'max_depth': 36, 'max_features': 16, 'min_samples_leaf': 3, 'min_samples_split': 4},\n",
       " mean: 0.88045, std: 0.00893, params: {'max_depth': 37, 'max_features': 12, 'min_samples_leaf': 1, 'min_samples_split': 2},\n",
       " mean: 0.87780, std: 0.01131, params: {'max_depth': 37, 'max_features': 12, 'min_samples_leaf': 1, 'min_samples_split': 3},\n",
       " mean: 0.87230, std: 0.00622, params: {'max_depth': 37, 'max_features': 12, 'min_samples_leaf': 1, 'min_samples_split': 4},\n",
       " mean: 0.86390, std: 0.00803, params: {'max_depth': 37, 'max_features': 12, 'min_samples_leaf': 2, 'min_samples_split': 2},\n",
       " mean: 0.86345, std: 0.01185, params: {'max_depth': 37, 'max_features': 12, 'min_samples_leaf': 2, 'min_samples_split': 3},\n",
       " mean: 0.86490, std: 0.01066, params: {'max_depth': 37, 'max_features': 12, 'min_samples_leaf': 2, 'min_samples_split': 4},\n",
       " mean: 0.85845, std: 0.01205, params: {'max_depth': 37, 'max_features': 12, 'min_samples_leaf': 3, 'min_samples_split': 2},\n",
       " mean: 0.86045, std: 0.01151, params: {'max_depth': 37, 'max_features': 12, 'min_samples_leaf': 3, 'min_samples_split': 3},\n",
       " mean: 0.85960, std: 0.00802, params: {'max_depth': 37, 'max_features': 12, 'min_samples_leaf': 3, 'min_samples_split': 4},\n",
       " mean: 0.87890, std: 0.00742, params: {'max_depth': 37, 'max_features': 14, 'min_samples_leaf': 1, 'min_samples_split': 2},\n",
       " mean: 0.88165, std: 0.00970, params: {'max_depth': 37, 'max_features': 14, 'min_samples_leaf': 1, 'min_samples_split': 3},\n",
       " mean: 0.87635, std: 0.00842, params: {'max_depth': 37, 'max_features': 14, 'min_samples_leaf': 1, 'min_samples_split': 4},\n",
       " mean: 0.87015, std: 0.01224, params: {'max_depth': 37, 'max_features': 14, 'min_samples_leaf': 2, 'min_samples_split': 2},\n",
       " mean: 0.87095, std: 0.00699, params: {'max_depth': 37, 'max_features': 14, 'min_samples_leaf': 2, 'min_samples_split': 3},\n",
       " mean: 0.86685, std: 0.01192, params: {'max_depth': 37, 'max_features': 14, 'min_samples_leaf': 2, 'min_samples_split': 4},\n",
       " mean: 0.86530, std: 0.01074, params: {'max_depth': 37, 'max_features': 14, 'min_samples_leaf': 3, 'min_samples_split': 2},\n",
       " mean: 0.86405, std: 0.01187, params: {'max_depth': 37, 'max_features': 14, 'min_samples_leaf': 3, 'min_samples_split': 3},\n",
       " mean: 0.86415, std: 0.00988, params: {'max_depth': 37, 'max_features': 14, 'min_samples_leaf': 3, 'min_samples_split': 4},\n",
       " mean: 0.88450, std: 0.00950, params: {'max_depth': 37, 'max_features': 16, 'min_samples_leaf': 1, 'min_samples_split': 2},\n",
       " mean: 0.88070, std: 0.00875, params: {'max_depth': 37, 'max_features': 16, 'min_samples_leaf': 1, 'min_samples_split': 3},\n",
       " mean: 0.88260, std: 0.00939, params: {'max_depth': 37, 'max_features': 16, 'min_samples_leaf': 1, 'min_samples_split': 4},\n",
       " mean: 0.87160, std: 0.01158, params: {'max_depth': 37, 'max_features': 16, 'min_samples_leaf': 2, 'min_samples_split': 2},\n",
       " mean: 0.87395, std: 0.01072, params: {'max_depth': 37, 'max_features': 16, 'min_samples_leaf': 2, 'min_samples_split': 3},\n",
       " mean: 0.87290, std: 0.00962, params: {'max_depth': 37, 'max_features': 16, 'min_samples_leaf': 2, 'min_samples_split': 4},\n",
       " mean: 0.87150, std: 0.00882, params: {'max_depth': 37, 'max_features': 16, 'min_samples_leaf': 3, 'min_samples_split': 2},\n",
       " mean: 0.87165, std: 0.00891, params: {'max_depth': 37, 'max_features': 16, 'min_samples_leaf': 3, 'min_samples_split': 3},\n",
       " mean: 0.87255, std: 0.00810, params: {'max_depth': 37, 'max_features': 16, 'min_samples_leaf': 3, 'min_samples_split': 4}]"
      ]
     },
     "execution_count": 111,
     "metadata": {},
     "output_type": "execute_result"
    }
   ],
   "source": [
    "grid.grid_scores_"
   ]
  },
  {
   "cell_type": "code",
   "execution_count": 112,
   "metadata": {},
   "outputs": [
    {
     "data": {
      "text/plain": [
       "DecisionTreeClassifier(class_weight=None, criterion='gini', max_depth=35,\n",
       "            max_features=16, max_leaf_nodes=None,\n",
       "            min_impurity_decrease=0.0, min_impurity_split=None,\n",
       "            min_samples_leaf=1, min_samples_split=2,\n",
       "            min_weight_fraction_leaf=0.0, presort=False, random_state=None,\n",
       "            splitter='best')"
      ]
     },
     "execution_count": 112,
     "metadata": {},
     "output_type": "execute_result"
    }
   ],
   "source": [
    "grid.best_estimator_"
   ]
  },
  {
   "cell_type": "code",
   "execution_count": 113,
   "metadata": {},
   "outputs": [
    {
     "data": {
      "text/plain": [
       "0.88555"
      ]
     },
     "execution_count": 113,
     "metadata": {},
     "output_type": "execute_result"
    }
   ],
   "source": [
    "grid.best_score_"
   ]
  },
  {
   "cell_type": "markdown",
   "metadata": {},
   "source": [
    "## Lets try K Nearest Neighbours "
   ]
  },
  {
   "cell_type": "code",
   "execution_count": 71,
   "metadata": {
    "collapsed": true
   },
   "outputs": [],
   "source": [
    "from sklearn.neighbors import KNeighborsClassifier\n",
    "from sklearn.model_selection import cross_val_score"
   ]
  },
  {
   "cell_type": "code",
   "execution_count": 16,
   "metadata": {
    "collapsed": true
   },
   "outputs": [],
   "source": [
    "knn = KNeighborsClassifier()\n",
    "scores = cross_val_score(knn,X,y,cv = 10, scoring='accuracy')"
   ]
  },
  {
   "cell_type": "code",
   "execution_count": 17,
   "metadata": {},
   "outputs": [
    {
     "name": "stdout",
     "output_type": "stream",
     "text": [
      "[0.95976155 0.95477137 0.95920398 0.95359281 0.96251874 0.94544545\n",
      " 0.95636911 0.95983936 0.95022624 0.95168596]\n"
     ]
    }
   ],
   "source": [
    "print(scores)"
   ]
  },
  {
   "cell_type": "code",
   "execution_count": 18,
   "metadata": {},
   "outputs": [
    {
     "data": {
      "text/plain": [
       "KNeighborsClassifier(algorithm='auto', leaf_size=30, metric='minkowski',\n",
       "           metric_params=None, n_jobs=1, n_neighbors=5, p=2,\n",
       "           weights='uniform')"
      ]
     },
     "execution_count": 18,
     "metadata": {},
     "output_type": "execute_result"
    }
   ],
   "source": [
    "knn"
   ]
  },
  {
   "cell_type": "code",
   "execution_count": 19,
   "metadata": {},
   "outputs": [
    {
     "name": "stdout",
     "output_type": "stream",
     "text": [
      "0.9553414570068091\n"
     ]
    }
   ],
   "source": [
    "print(scores.mean())"
   ]
  },
  {
   "cell_type": "code",
   "execution_count": 20,
   "metadata": {},
   "outputs": [
    {
     "name": "stdout",
     "output_type": "stream",
     "text": [
      "[0.959952534107979, 0.946909276835739, 0.9555502549647394, 0.9531973877899942, 0.9553414570068091, 0.9528965829448669, 0.9526989366345269, 0.9513490841469687, 0.9504472927530465, 0.9484556438295074, 0.947547389907761, 0.9464481293696221, 0.9453451388232408, 0.9442002450061763, 0.9432049840266441, 0.9422032862175813, 0.9402024847283459, 0.9386495597612109, 0.9376975773992771, 0.9357483376597315, 0.9352485300649048, 0.9335005942351984, 0.9325950540605603, 0.9309966925317104, 0.9292498694561235, 0.9275979546996164, 0.9265502831210904, 0.9256966589569322, 0.9242471638217868, 0.9226000486633363, 0.9216505832282836]\n"
     ]
    }
   ],
   "source": [
    "# search for optimal value of k for knn\n",
    "k_range = range(1,32)\n",
    "k_scores = []\n",
    "for k in k_range:\n",
    "    knn = KNeighborsClassifier(n_neighbors= k)\n",
    "    scores = cross_val_score(knn,X,y,cv = 10, scoring='accuracy')\n",
    "    k_scores.append(scores.mean())\n",
    "\n",
    "print(k_scores)"
   ]
  },
  {
   "cell_type": "code",
   "execution_count": 21,
   "metadata": {},
   "outputs": [
    {
     "data": {
      "text/plain": [
       "Text(0,0.5,'Cross-Validated Accuracy')"
      ]
     },
     "execution_count": 21,
     "metadata": {},
     "output_type": "execute_result"
    },
    {
     "data": {
      "image/png": "[encoded data removed]",
      "text/plain": [
       "<Figure size 432x288 with 1 Axes>"
      ]
     },
     "metadata": {
      "needs_background": "light"
     },
     "output_type": "display_data"
    }
   ],
   "source": [
    "plt.plot(k_range, k_scores)\n",
    "plt.xlabel('Value of K for KNN')\n",
    "plt.ylabel('Cross-Validated Accuracy')"
   ]
  },
  {
   "cell_type": "code",
   "execution_count": null,
   "metadata": {
    "collapsed": true
   },
   "outputs": [],
   "source": []
  },
  {
   "cell_type": "code",
   "execution_count": null,
   "metadata": {
    "collapsed": true
   },
   "outputs": [],
   "source": []
  },
  {
   "cell_type": "code",
   "execution_count": null,
   "metadata": {
    "collapsed": true
   },
   "outputs": [],
   "source": []
  },
  {
   "cell_type": "code",
   "execution_count": null,
   "metadata": {
    "collapsed": true
   },
   "outputs": [],
   "source": []
  },
  {
   "cell_type": "markdown",
   "metadata": {},
   "source": [
    "### Support Vector Machines"
   ]
  },
  {
   "cell_type": "code",
   "execution_count": 33,
   "metadata": {
    "collapsed": true
   },
   "outputs": [],
   "source": [
    "from sklearn.svm import SVC\n",
    "from sklearn.model_selection import GridSearchCV"
   ]
  },
  {
   "cell_type": "code",
   "execution_count": 34,
   "metadata": {},
   "outputs": [
    {
     "name": "stdout",
     "output_type": "stream",
     "text": [
      "0.9694\n"
     ]
    }
   ],
   "source": [
    "svc = SVC()\n",
    "svc.fit(X_train,y_train)\n",
    "# make class prediction for the testing data set\n",
    "y_pred_class = svc.predict(X_test)\n",
    "\n",
    "#calculate accuracy\n",
    "from sklearn import metrics\n",
    "print(metrics.accuracy_score(y_test, y_pred_class))"
   ]
  },
  {
   "cell_type": "code",
   "execution_count": 35,
   "metadata": {},
   "outputs": [
    {
     "data": {
      "text/plain": [
       "array([[201,   0,   0,   0,   0,   0,   0,   0,   0,   0,   0,   0,   0,\n",
       "          0,   0,   0,   0,   0,   0,   0,   0,   0,   0,   0,   1,   0],\n",
       "       [  0, 197,   0,   0,   0,   0,   0,   0,   0,   0,   0,   0,   0,\n",
       "          0,   0,   0,   0,   0,   1,   0,   0,   0,   0,   2,   0,   0],\n",
       "       [  0,   0, 181,   0,   0,   0,   0,   0,   0,   0,   0,   1,   0,\n",
       "          0,   0,   0,   0,   0,   0,   0,   0,   0,   0,   0,   0,   0],\n",
       "       [  0,   1,   0, 192,   0,   0,   1,   1,   0,   0,   0,   0,   0,\n",
       "          0,   2,   0,   0,   0,   0,   0,   0,   0,   0,   0,   0,   0],\n",
       "       [  0,   1,   0,   0, 173,   0,   1,   0,   0,   0,   0,   1,   0,\n",
       "          0,   0,   0,   0,   0,   0,   0,   0,   0,   0,   0,   0,   2],\n",
       "       [  0,   0,   0,   0,   2, 170,   0,   0,   1,   0,   0,   0,   0,\n",
       "          0,   0,   3,   0,   0,   0,   1,   0,   0,   0,   0,   0,   0],\n",
       "       [  0,   1,   0,   1,   0,   0, 182,   0,   0,   0,   0,   0,   1,\n",
       "          0,   1,   0,   0,   0,   0,   0,   0,   1,   1,   0,   0,   0],\n",
       "       [  0,   3,   0,   3,   0,   0,   1, 166,   0,   0,   2,   0,   1,\n",
       "          0,   0,   0,   0,   4,   0,   0,   1,   0,   0,   0,   0,   0],\n",
       "       [  0,   0,   0,   0,   0,   0,   0,   0, 164,   5,   0,   0,   0,\n",
       "          0,   0,   0,   0,   0,   0,   0,   0,   0,   0,   1,   0,   0],\n",
       "       [  0,   0,   0,   0,   0,   0,   0,   2,   9, 162,   0,   0,   0,\n",
       "          1,   0,   0,   0,   0,   0,   0,   0,   0,   0,   0,   0,   0],\n",
       "       [  0,   0,   0,   0,   0,   0,   0,   1,   0,   0, 155,   0,   0,\n",
       "          0,   0,   0,   0,   4,   0,   0,   0,   0,   0,   4,   0,   0],\n",
       "       [  0,   1,   0,   0,   1,   0,   0,   1,   0,   0,   0, 169,   0,\n",
       "          0,   0,   0,   0,   0,   0,   0,   0,   0,   0,   2,   0,   0],\n",
       "       [  0,   2,   0,   0,   0,   0,   1,   0,   0,   0,   0,   0, 184,\n",
       "          0,   0,   0,   0,   0,   0,   0,   0,   0,   1,   0,   0,   0],\n",
       "       [  0,   0,   0,   1,   0,   0,   0,   2,   0,   0,   0,   0,   0,\n",
       "        191,   1,   0,   0,   5,   0,   0,   0,   0,   0,   0,   0,   0],\n",
       "       [  0,   1,   1,   3,   0,   0,   0,   0,   0,   0,   0,   0,   0,\n",
       "          0, 209,   0,   2,   0,   0,   0,   1,   0,   1,   0,   0,   0],\n",
       "       [  0,   1,   0,   0,   0,   7,   0,   1,   0,   0,   0,   0,   0,\n",
       "          0,   0, 204,   1,   1,   0,   0,   0,   0,   0,   0,   0,   0],\n",
       "       [  0,   0,   0,   0,   0,   0,   0,   0,   0,   0,   0,   0,   1,\n",
       "          0,   0,   0, 189,   0,   0,   0,   0,   0,   0,   0,   0,   0],\n",
       "       [  0,   7,   0,   0,   1,   0,   0,   1,   0,   0,   6,   0,   0,\n",
       "          1,   0,   0,   1, 176,   0,   0,   0,   0,   0,   0,   0,   0],\n",
       "       [  0,   1,   0,   0,   1,   0,   0,   0,   0,   0,   0,   0,   0,\n",
       "          0,   0,   0,   0,   1, 209,   0,   0,   0,   0,   0,   0,   0],\n",
       "       [  0,   0,   0,   1,   0,   0,   0,   0,   0,   0,   0,   1,   0,\n",
       "          0,   0,   1,   0,   0,   0, 211,   0,   0,   0,   0,   1,   0],\n",
       "       [  0,   0,   0,   0,   0,   0,   0,   2,   0,   0,   0,   0,   1,\n",
       "          0,   0,   0,   0,   0,   0,   0, 205,   0,   0,   0,   0,   0],\n",
       "       [  0,   7,   0,   0,   0,   0,   0,   1,   0,   0,   0,   0,   0,\n",
       "          0,   0,   0,   0,   1,   0,   0,   0, 174,   0,   0,   0,   0],\n",
       "       [  0,   0,   0,   0,   0,   0,   0,   0,   0,   0,   0,   0,   0,\n",
       "          0,   0,   0,   0,   0,   0,   0,   0,   0, 193,   0,   0,   0],\n",
       "       [  0,   0,   0,   1,   0,   0,   0,   0,   0,   0,   2,   0,   0,\n",
       "          0,   0,   0,   1,   0,   0,   0,   0,   0,   0, 199,   0,   0],\n",
       "       [  0,   0,   0,   0,   0,   0,   0,   0,   0,   0,   0,   0,   0,\n",
       "          0,   0,   0,   0,   0,   0,   1,   1,   0,   0,   0, 198,   0],\n",
       "       [  0,   0,   0,   0,   0,   0,   0,   0,   0,   0,   0,   0,   0,\n",
       "          0,   0,   0,   1,   0,   1,   0,   0,   0,   0,   0,   0, 193]])"
      ]
     },
     "execution_count": 35,
     "metadata": {},
     "output_type": "execute_result"
    }
   ],
   "source": [
    "#IMPORTANT: first argument is true value, second argument is predicted values\n",
    "\n",
    "metrics.confusion_matrix(y_test,y_pred_class)"
   ]
  },
  {
   "cell_type": "code",
   "execution_count": 38,
   "metadata": {
    "collapsed": true
   },
   "outputs": [],
   "source": [
    "conf_matrix = pd.DataFrame(metrics.confusion_matrix(y_test,y_pred_class), columns=[\"a\",\"b\",\"c\",\"d\",\"e\",\"f\",\"g\",\"h\",\"i\"\n",
    "                                                                                   ,\"j\",\"k\",\"l\",\"m\",\"n\", \"o\", \"p\" ,\"q\",\n",
    "                                                                                   \"r\", \"s\", \"t\",\"u\",\"v\",\"w\", \"x\", \"y\",\n",
    "                                                                                   \"z\"],\n",
    "                          index = [\"a\",\"b\",\"c\",\"d\",\"e\",\"f\",\"g\",\"h\",\"i\",\"j\",\"k\",\"l\",\"m\",\"n\", \"o\", \"p\" ,\"q\", \"r\", \"s\",\n",
    "                                   \"t\",\"u\",\"v\",\"w\", \"x\", \"y\", \"z\"])"
   ]
  },
  {
   "cell_type": "code",
   "execution_count": 39,
   "metadata": {},
   "outputs": [
    {
     "data": {
      "text/plain": [
       "<matplotlib.axes._subplots.AxesSubplot at 0xfcca208>"
      ]
     },
     "execution_count": 39,
     "metadata": {},
     "output_type": "execute_result"
    },
    {
     "data": {
      "image/png": "[encoded data removed]",
      "text/plain": [
       "<matplotlib.figure.Figure at 0xfd61978>"
      ]
     },
     "metadata": {},
     "output_type": "display_data"
    }
   ],
   "source": [
    "# plot using a color palette\n",
    "sns.heatmap(conf_matrix, cmap=\"YlGnBu\")"
   ]
  },
  {
   "cell_type": "code",
   "execution_count": 42,
   "metadata": {},
   "outputs": [
    {
     "data": {
      "text/plain": [
       "0.97479807970621601"
      ]
     },
     "execution_count": 42,
     "metadata": {},
     "output_type": "execute_result"
    }
   ],
   "source": [
    "cross_val_score(svc, X,y,cv = 10, scoring = \"accuracy\").mean()"
   ]
  },
  {
   "cell_type": "code",
   "execution_count": 43,
   "metadata": {},
   "outputs": [
    {
     "data": {
      "text/plain": [
       "SVC(C=1.0, cache_size=200, class_weight=None, coef0=0.0,\n",
       "  decision_function_shape=None, degree=3, gamma='auto', kernel='rbf',\n",
       "  max_iter=-1, probability=False, random_state=None, shrinking=True,\n",
       "  tol=0.001, verbose=False)"
      ]
     },
     "execution_count": 43,
     "metadata": {},
     "output_type": "execute_result"
    }
   ],
   "source": [
    "svc"
   ]
  },
  {
   "cell_type": "code",
   "execution_count": 50,
   "metadata": {
    "collapsed": true
   },
   "outputs": [],
   "source": [
    "c_range = [0.5,1.,2.,2.5,3,3.5]\n",
    "kernel_options = ['rbf','poly','linear']\n",
    "\n",
    "param_grid = dict(C = c_range,\n",
    "                  kernel = kernel_options )"
   ]
  },
  {
   "cell_type": "code",
   "execution_count": 51,
   "metadata": {
    "collapsed": true
   },
   "outputs": [],
   "source": [
    "svc = SVC()\n",
    "\n",
    "grid = GridSearchCV(svc, param_grid, cv = 10, scoring = 'accuracy', n_jobs=-1)"
   ]
  },
  {
   "cell_type": "code",
   "execution_count": 52,
   "metadata": {},
   "outputs": [
    {
     "data": {
      "text/plain": [
       "GridSearchCV(cv=10, error_score='raise',\n",
       "       estimator=SVC(C=1.0, cache_size=200, class_weight=None, coef0=0.0,\n",
       "  decision_function_shape=None, degree=3, gamma='auto', kernel='rbf',\n",
       "  max_iter=-1, probability=False, random_state=None, shrinking=True,\n",
       "  tol=0.001, verbose=False),\n",
       "       fit_params={}, iid=True, n_jobs=-1,\n",
       "       param_grid={'C': [0.5, 1.0, 2.0, 2.5, 3, 3.5], 'kernel': ['rbf', 'poly', 'linear']},\n",
       "       pre_dispatch='2*n_jobs', refit=True, return_train_score=True,\n",
       "       scoring='accuracy', verbose=0)"
      ]
     },
     "execution_count": 52,
     "metadata": {},
     "output_type": "execute_result"
    }
   ],
   "source": [
    "grid.fit(X,y)"
   ]
  },
  {
   "cell_type": "code",
   "execution_count": 53,
   "metadata": {},
   "outputs": [
    {
     "name": "stderr",
     "output_type": "stream",
     "text": [
      "C:\\ProgramData\\Anaconda3\\lib\\site-packages\\sklearn\\model_selection\\_search.py:667: DeprecationWarning: The grid_scores_ attribute was deprecated in version 0.18 in favor of the more elaborate cv_results_ attribute. The grid_scores_ attribute will not be available from 0.20\n",
      "  DeprecationWarning)\n"
     ]
    },
    {
     "data": {
      "text/plain": [
       "[mean: 0.96645, std: 0.00502, params: {'C': 0.5, 'kernel': 'rbf'},\n",
       " mean: 0.95495, std: 0.00530, params: {'C': 0.5, 'kernel': 'poly'},\n",
       " mean: 0.85260, std: 0.01160, params: {'C': 0.5, 'kernel': 'linear'},\n",
       " mean: 0.97480, std: 0.00486, params: {'C': 1.0, 'kernel': 'rbf'},\n",
       " mean: 0.95480, std: 0.00542, params: {'C': 1.0, 'kernel': 'poly'},\n",
       " mean: 0.85250, std: 0.01318, params: {'C': 1.0, 'kernel': 'linear'},\n",
       " mean: 0.97820, std: 0.00468, params: {'C': 2.0, 'kernel': 'rbf'},\n",
       " mean: 0.95475, std: 0.00543, params: {'C': 2.0, 'kernel': 'poly'},\n",
       " mean: 0.85260, std: 0.01234, params: {'C': 2.0, 'kernel': 'linear'},\n",
       " mean: 0.97880, std: 0.00476, params: {'C': 2.5, 'kernel': 'rbf'},\n",
       " mean: 0.95475, std: 0.00543, params: {'C': 2.5, 'kernel': 'poly'},\n",
       " mean: 0.85275, std: 0.01278, params: {'C': 2.5, 'kernel': 'linear'},\n",
       " mean: 0.97985, std: 0.00488, params: {'C': 3, 'kernel': 'rbf'},\n",
       " mean: 0.95475, std: 0.00543, params: {'C': 3, 'kernel': 'poly'},\n",
       " mean: 0.85225, std: 0.01283, params: {'C': 3, 'kernel': 'linear'},\n",
       " mean: 0.98005, std: 0.00475, params: {'C': 3.5, 'kernel': 'rbf'},\n",
       " mean: 0.95475, std: 0.00543, params: {'C': 3.5, 'kernel': 'poly'},\n",
       " mean: 0.85245, std: 0.01332, params: {'C': 3.5, 'kernel': 'linear'}]"
      ]
     },
     "execution_count": 53,
     "metadata": {},
     "output_type": "execute_result"
    }
   ],
   "source": [
    "grid.grid_scores_"
   ]
  },
  {
   "cell_type": "code",
   "execution_count": 48,
   "metadata": {},
   "outputs": [
    {
     "data": {
      "text/plain": [
       "0.97819999999999996"
      ]
     },
     "execution_count": 48,
     "metadata": {},
     "output_type": "execute_result"
    }
   ],
   "source": [
    "grid.best_score_"
   ]
  },
  {
   "cell_type": "code",
   "execution_count": 49,
   "metadata": {},
   "outputs": [
    {
     "data": {
      "text/plain": [
       "SVC(C=2.0, cache_size=200, class_weight=None, coef0=0.0,\n",
       "  decision_function_shape=None, degree=3, gamma='auto', kernel='rbf',\n",
       "  max_iter=-1, probability=False, random_state=None, shrinking=True,\n",
       "  tol=0.001, verbose=False)"
      ]
     },
     "execution_count": 49,
     "metadata": {},
     "output_type": "execute_result"
    }
   ],
   "source": [
    "grid.best_estimator_"
   ]
  },
  {
   "cell_type": "code",
   "execution_count": null,
   "metadata": {
    "collapsed": true
   },
   "outputs": [],
   "source": []
  },
  {
   "cell_type": "code",
   "execution_count": null,
   "metadata": {
    "collapsed": true
   },
   "outputs": [],
   "source": []
  },
  {
   "cell_type": "code",
   "execution_count": null,
   "metadata": {
    "collapsed": true
   },
   "outputs": [],
   "source": []
  },
  {
   "cell_type": "markdown",
   "metadata": {},
   "source": [
    "### Neural Networks"
   ]
  },
  {
   "cell_type": "code",
   "execution_count": 54,
   "metadata": {
    "collapsed": true
   },
   "outputs": [],
   "source": [
    "from sklearn.neural_network import MLPClassifier"
   ]
  },
  {
   "cell_type": "code",
   "execution_count": 56,
   "metadata": {},
   "outputs": [
    {
     "name": "stdout",
     "output_type": "stream",
     "text": [
      "0.9246\n"
     ]
    }
   ],
   "source": [
    "mlp = MLPClassifier()\n",
    "mlp.fit(X_train,y_train)\n",
    "# make class prediction for the testing data set\n",
    "y_pred_class = mlp.predict(X_test)\n",
    "\n",
    "#calculate accuracy\n",
    "from sklearn import metrics\n",
    "print(metrics.accuracy_score(y_test, y_pred_class))"
   ]
  },
  {
   "cell_type": "code",
   "execution_count": 57,
   "metadata": {},
   "outputs": [
    {
     "data": {
      "text/plain": [
       "array([[197,   0,   0,   0,   0,   0,   0,   0,   0,   0,   0,   1,   0,\n",
       "          1,   0,   0,   0,   0,   0,   0,   0,   0,   0,   0,   3,   0],\n",
       "       [  0, 184,   0,   5,   2,   0,   0,   0,   0,   0,   1,   0,   0,\n",
       "          0,   0,   1,   1,   2,   2,   0,   0,   0,   0,   2,   0,   0],\n",
       "       [  0,   0, 169,   2,   8,   0,   1,   0,   0,   0,   0,   0,   0,\n",
       "          0,   1,   0,   0,   0,   1,   0,   0,   0,   0,   0,   0,   0],\n",
       "       [  0,   3,   0, 185,   0,   0,   1,   1,   0,   0,   0,   0,   1,\n",
       "          2,   2,   0,   0,   0,   0,   1,   0,   0,   0,   1,   0,   0],\n",
       "       [  0,   1,   1,   0, 164,   0,   8,   0,   0,   0,   0,   0,   0,\n",
       "          0,   0,   0,   0,   0,   2,   0,   0,   0,   0,   1,   0,   1],\n",
       "       [  0,   0,   0,   0,   4, 160,   0,   1,   2,   0,   0,   0,   0,\n",
       "          2,   0,   3,   0,   0,   0,   5,   0,   0,   0,   0,   0,   0],\n",
       "       [  0,   0,   2,   2,   4,   1, 170,   0,   1,   0,   0,   1,   2,\n",
       "          0,   1,   0,   0,   1,   0,   0,   0,   1,   2,   0,   0,   0],\n",
       "       [  0,   1,   1,   7,   1,   0,   1, 154,   0,   0,   0,   1,   2,\n",
       "          2,   0,   1,   1,   4,   0,   0,   1,   1,   1,   0,   2,   0],\n",
       "       [  0,   0,   0,   0,   0,   0,   0,   0, 164,   2,   0,   0,   0,\n",
       "          0,   0,   1,   0,   0,   0,   1,   0,   0,   0,   1,   0,   1],\n",
       "       [  0,   0,   0,   0,   1,   0,   0,   2,  16, 151,   0,   0,   0,\n",
       "          1,   2,   0,   0,   0,   1,   0,   0,   0,   0,   0,   0,   0],\n",
       "       [  0,   1,   0,   0,   4,   0,   0,   2,   0,   0, 150,   1,   0,\n",
       "          0,   0,   0,   0,   4,   0,   0,   0,   0,   0,   2,   0,   0],\n",
       "       [  0,   1,   0,   0,   4,   0,   1,   1,   0,   0,   0, 161,   1,\n",
       "          0,   0,   0,   0,   1,   2,   0,   0,   0,   0,   0,   0,   2],\n",
       "       [  0,   1,   0,   0,   0,   0,   0,   2,   0,   0,   0,   0, 182,\n",
       "          1,   0,   0,   0,   0,   0,   0,   1,   0,   1,   0,   0,   0],\n",
       "       [  0,   3,   0,   2,   0,   0,   0,   3,   0,   0,   2,   0,   2,\n",
       "        181,   4,   0,   0,   1,   0,   0,   0,   1,   1,   0,   0,   0],\n",
       "       [  0,   0,   3,   5,   0,   0,   1,   2,   0,   0,   0,   0,   3,\n",
       "          0, 185,   1,   8,   1,   0,   2,   3,   0,   4,   0,   0,   0],\n",
       "       [  0,   1,   0,   2,   0,   6,   0,   1,   0,   0,   1,   0,   0,\n",
       "          0,   1, 195,   3,   1,   1,   0,   0,   1,   0,   0,   2,   0],\n",
       "       [  0,   0,   0,   0,   0,   0,   1,   1,   0,   0,   0,   2,   0,\n",
       "          0,   1,   0, 184,   0,   0,   0,   0,   0,   0,   1,   0,   0],\n",
       "       [  0,   8,   0,   4,   5,   0,   3,   8,   0,   0,   1,   2,   1,\n",
       "          4,   0,   0,   1, 154,   0,   0,   0,   0,   0,   2,   0,   0],\n",
       "       [  0,   3,   0,   1,   2,   2,   0,   0,   0,   0,   0,   0,   0,\n",
       "          0,   1,   0,   1,   1, 198,   1,   0,   0,   0,   1,   0,   1],\n",
       "       [  0,   0,   0,   0,   3,   1,   1,   0,   0,   0,   1,   1,   0,\n",
       "          0,   0,   0,   0,   0,   1, 207,   0,   0,   0,   0,   0,   0],\n",
       "       [  0,   0,   0,   0,   0,   0,   0,   0,   0,   0,   0,   0,   1,\n",
       "          0,   1,   0,   0,   0,   0,   0, 202,   0,   4,   0,   0,   0],\n",
       "       [  0,   6,   0,   1,   0,   0,   0,   1,   0,   0,   0,   0,   0,\n",
       "          0,   1,   0,   0,   0,   0,   0,   0, 170,   0,   1,   3,   0],\n",
       "       [  0,   0,   0,   0,   0,   0,   0,   0,   0,   0,   0,   0,   2,\n",
       "          0,   0,   0,   0,   0,   0,   0,   0,   0, 191,   0,   0,   0],\n",
       "       [  0,   0,   1,   1,   2,   1,   0,   0,   2,   0,   8,   1,   0,\n",
       "          0,   0,   0,   1,   0,   1,   1,   0,   0,   0, 183,   1,   0],\n",
       "       [  0,   0,   0,   0,   0,   0,   0,   0,   0,   0,   0,   0,   0,\n",
       "          0,   0,   0,   0,   0,   1,   1,   1,   0,   0,   1, 196,   0],\n",
       "       [  0,   0,   0,   0,   5,   0,   0,   0,   0,   0,   0,   1,   0,\n",
       "          0,   0,   0,   0,   1,   2,   0,   0,   0,   0,   0,   0, 186]])"
      ]
     },
     "execution_count": 57,
     "metadata": {},
     "output_type": "execute_result"
    }
   ],
   "source": [
    "metrics.confusion_matrix(y_test,y_pred_class)\n"
   ]
  },
  {
   "cell_type": "code",
   "execution_count": 58,
   "metadata": {
    "collapsed": true
   },
   "outputs": [],
   "source": [
    "conf_matrix = pd.DataFrame(metrics.confusion_matrix(y_test,y_pred_class), columns=[\"a\",\"b\",\"c\",\"d\",\"e\",\"f\",\"g\",\"h\",\"i\"\n",
    "                                                                                   ,\"j\",\"k\",\"l\",\"m\",\"n\", \"o\", \"p\" ,\"q\",\n",
    "                                                                                   \"r\", \"s\", \"t\",\"u\",\"v\",\"w\", \"x\", \"y\",\n",
    "                                                                                   \"z\"],\n",
    "                          index = [\"a\",\"b\",\"c\",\"d\",\"e\",\"f\",\"g\",\"h\",\"i\",\"j\",\"k\",\"l\",\"m\",\"n\", \"o\", \"p\" ,\"q\", \"r\", \"s\",\n",
    "                                   \"t\",\"u\",\"v\",\"w\", \"x\", \"y\", \"z\"])"
   ]
  },
  {
   "cell_type": "code",
   "execution_count": 59,
   "metadata": {},
   "outputs": [
    {
     "data": {
      "text/plain": [
       "<matplotlib.axes._subplots.AxesSubplot at 0x120f35f8>"
      ]
     },
     "execution_count": 59,
     "metadata": {},
     "output_type": "execute_result"
    },
    {
     "data": {
      "image/png": "[encoded data removed]",
      "text/plain": [
       "<matplotlib.figure.Figure at 0x11f29780>"
      ]
     },
     "metadata": {},
     "output_type": "display_data"
    }
   ],
   "source": [
    "# plot using a color palette\n",
    "sns.heatmap(conf_matrix, cmap=\"YlGnBu\")"
   ]
  },
  {
   "cell_type": "code",
   "execution_count": 60,
   "metadata": {},
   "outputs": [
    {
     "data": {
      "text/plain": [
       "0.90718148425856704"
      ]
     },
     "execution_count": 60,
     "metadata": {},
     "output_type": "execute_result"
    }
   ],
   "source": [
    "cross_val_score(mlp, X,y,cv = 10, scoring = \"accuracy\").mean()"
   ]
  },
  {
   "cell_type": "code",
   "execution_count": 61,
   "metadata": {},
   "outputs": [
    {
     "data": {
      "text/plain": [
       "MLPClassifier(activation='relu', alpha=0.0001, batch_size='auto', beta_1=0.9,\n",
       "       beta_2=0.999, early_stopping=False, epsilon=1e-08,\n",
       "       hidden_layer_sizes=(100,), learning_rate='constant',\n",
       "       learning_rate_init=0.001, max_iter=200, momentum=0.9,\n",
       "       nesterovs_momentum=True, power_t=0.5, random_state=None,\n",
       "       shuffle=True, solver='adam', tol=0.0001, validation_fraction=0.1,\n",
       "       verbose=False, warm_start=False)"
      ]
     },
     "execution_count": 61,
     "metadata": {},
     "output_type": "execute_result"
    }
   ],
   "source": [
    "mlp"
   ]
  },
  {
   "cell_type": "code",
   "execution_count": 62,
   "metadata": {},
   "outputs": [],
   "source": [
    "hidden_layers = [(100,),(200,),(100,64,32,), (200,100,64,32,)]\n",
    "#solver_options = ['lbfgs', 'sgd', 'adam' ]\n",
    "#learning_rate_options =  ['constant', 'invscaling', 'adaptive'] \n",
    "\n",
    "param_grid = dict(solver = solver_options, hidden_layer_sizes = hidden_layers, learning_rate = learning_rate_options )"
   ]
  },
  {
   "cell_type": "code",
   "execution_count": 63,
   "metadata": {
    "collapsed": true
   },
   "outputs": [],
   "source": [
    "mlp = MLPClassifier()\n",
    "\n",
    "grid = GridSearchCV(mlp, param_grid, cv = 10, scoring = 'accuracy', n_jobs=-1)"
   ]
  },
  {
   "cell_type": "code",
   "execution_count": 64,
   "metadata": {},
   "outputs": [
    {
     "data": {
      "text/plain": [
       "GridSearchCV(cv=10, error_score='raise',\n",
       "       estimator=MLPClassifier(activation='relu', alpha=0.0001, batch_size='auto', beta_1=0.9,\n",
       "       beta_2=0.999, early_stopping=False, epsilon=1e-08,\n",
       "       hidden_layer_sizes=(100,), learning_rate='constant',\n",
       "       learning_rate_init=0.001, max_iter=200, momentum=0.9,\n",
       "       nesterovs_momentum=True, power_t=0.5, random_state=None,\n",
       "       shuffle=True, solver='adam', tol=0.0001, validation_fraction=0.1,\n",
       "       verbose=False, warm_start=False),\n",
       "       fit_params={}, iid=True, n_jobs=-1,\n",
       "       param_grid={'solver': ['lbfgs', 'sgd', 'adam'], 'hidden_layer_sizes': [(32, 16, 8), (64, 32, 16, 8)], 'learning_rate': ['constant', 'invscaling', 'adaptive']},\n",
       "       pre_dispatch='2*n_jobs', refit=True, return_train_score=True,\n",
       "       scoring='accuracy', verbose=0)"
      ]
     },
     "execution_count": 64,
     "metadata": {},
     "output_type": "execute_result"
    }
   ],
   "source": [
    "grid.fit(X,y)"
   ]
  },
  {
   "cell_type": "code",
   "execution_count": 65,
   "metadata": {},
   "outputs": [
    {
     "name": "stderr",
     "output_type": "stream",
     "text": [
      "C:\\ProgramData\\Anaconda3\\lib\\site-packages\\sklearn\\model_selection\\_search.py:667: DeprecationWarning: The grid_scores_ attribute was deprecated in version 0.18 in favor of the more elaborate cv_results_ attribute. The grid_scores_ attribute will not be available from 0.20\n",
      "  DeprecationWarning)\n"
     ]
    },
    {
     "data": {
      "text/plain": [
       "[mean: 0.46220, std: 0.16643, params: {'hidden_layer_sizes': (32, 16, 8), 'learning_rate': 'constant', 'solver': 'lbfgs'},\n",
       " mean: 0.73935, std: 0.04714, params: {'hidden_layer_sizes': (32, 16, 8), 'learning_rate': 'constant', 'solver': 'sgd'},\n",
       " mean: 0.80190, std: 0.02705, params: {'hidden_layer_sizes': (32, 16, 8), 'learning_rate': 'constant', 'solver': 'adam'},\n",
       " mean: 0.48415, std: 0.10847, params: {'hidden_layer_sizes': (32, 16, 8), 'learning_rate': 'invscaling', 'solver': 'lbfgs'},\n",
       " mean: 0.05280, std: 0.02556, params: {'hidden_layer_sizes': (32, 16, 8), 'learning_rate': 'invscaling', 'solver': 'sgd'},\n",
       " mean: 0.80335, std: 0.03358, params: {'hidden_layer_sizes': (32, 16, 8), 'learning_rate': 'invscaling', 'solver': 'adam'},\n",
       " mean: 0.31080, std: 0.19825, params: {'hidden_layer_sizes': (32, 16, 8), 'learning_rate': 'adaptive', 'solver': 'lbfgs'},\n",
       " mean: 0.77495, std: 0.03301, params: {'hidden_layer_sizes': (32, 16, 8), 'learning_rate': 'adaptive', 'solver': 'sgd'},\n",
       " mean: 0.80655, std: 0.03035, params: {'hidden_layer_sizes': (32, 16, 8), 'learning_rate': 'adaptive', 'solver': 'adam'},\n",
       " mean: 0.40110, std: 0.17764, params: {'hidden_layer_sizes': (64, 32, 16, 8), 'learning_rate': 'constant', 'solver': 'lbfgs'},\n",
       " mean: 0.76850, std: 0.09020, params: {'hidden_layer_sizes': (64, 32, 16, 8), 'learning_rate': 'constant', 'solver': 'sgd'},\n",
       " mean: 0.86190, std: 0.02599, params: {'hidden_layer_sizes': (64, 32, 16, 8), 'learning_rate': 'constant', 'solver': 'adam'},\n",
       " mean: 0.44190, std: 0.18895, params: {'hidden_layer_sizes': (64, 32, 16, 8), 'learning_rate': 'invscaling', 'solver': 'lbfgs'},\n",
       " mean: 0.05835, std: 0.01509, params: {'hidden_layer_sizes': (64, 32, 16, 8), 'learning_rate': 'invscaling', 'solver': 'sgd'},\n",
       " mean: 0.85275, std: 0.03456, params: {'hidden_layer_sizes': (64, 32, 16, 8), 'learning_rate': 'invscaling', 'solver': 'adam'},\n",
       " mean: 0.43785, std: 0.15714, params: {'hidden_layer_sizes': (64, 32, 16, 8), 'learning_rate': 'adaptive', 'solver': 'lbfgs'},\n",
       " mean: 0.81265, std: 0.04328, params: {'hidden_layer_sizes': (64, 32, 16, 8), 'learning_rate': 'adaptive', 'solver': 'sgd'},\n",
       " mean: 0.84990, std: 0.02816, params: {'hidden_layer_sizes': (64, 32, 16, 8), 'learning_rate': 'adaptive', 'solver': 'adam'}]"
      ]
     },
     "execution_count": 65,
     "metadata": {},
     "output_type": "execute_result"
    }
   ],
   "source": [
    "grid.grid_scores_"
   ]
  },
  {
   "cell_type": "code",
   "execution_count": 66,
   "metadata": {},
   "outputs": [
    {
     "data": {
      "text/plain": [
       "0.8619"
      ]
     },
     "execution_count": 66,
     "metadata": {},
     "output_type": "execute_result"
    }
   ],
   "source": [
    "grid.best_score_"
   ]
  },
  {
   "cell_type": "code",
   "execution_count": 67,
   "metadata": {},
   "outputs": [
    {
     "data": {
      "text/plain": [
       "MLPClassifier(activation='relu', alpha=0.0001, batch_size='auto', beta_1=0.9,\n",
       "       beta_2=0.999, early_stopping=False, epsilon=1e-08,\n",
       "       hidden_layer_sizes=(64, 32, 16, 8), learning_rate='constant',\n",
       "       learning_rate_init=0.001, max_iter=200, momentum=0.9,\n",
       "       nesterovs_momentum=True, power_t=0.5, random_state=None,\n",
       "       shuffle=True, solver='adam', tol=0.0001, validation_fraction=0.1,\n",
       "       verbose=False, warm_start=False)"
      ]
     },
     "execution_count": 67,
     "metadata": {},
     "output_type": "execute_result"
    }
   ],
   "source": [
    "grid.best_estimator_"
   ]
  },
  {
   "cell_type": "code",
   "execution_count": null,
   "metadata": {
    "collapsed": true
   },
   "outputs": [],
   "source": []
  },
  {
   "cell_type": "code",
   "execution_count": null,
   "metadata": {
    "collapsed": true
   },
   "outputs": [],
   "source": []
  },
  {
   "cell_type": "code",
   "execution_count": null,
   "metadata": {
    "collapsed": true
   },
   "outputs": [],
   "source": []
  },
  {
   "cell_type": "markdown",
   "metadata": {},
   "source": [
    "### Model comparision \n",
    "\n",
    "To compare these models let's take best estimators for each approach and calculate the following metrics \n",
    " - test accuracy\n",
    " - training time\n"
   ]
  },
  {
   "cell_type": "code",
   "execution_count": 72,
   "metadata": {},
   "outputs": [],
   "source": [
    "models = []\n",
    "\n",
    "models.append(DecisionTreeClassifier(min_samples_leaf=1, min_samples_split=2))\n",
    "models.append(KNeighborsClassifier(n_neighbors=5))\n",
    "models.append(SVC(C=2.0,kernel='rbf'))\n",
    "models.append(MLPClassifier(hidden_layer_sizes=(64, 32, 16, 8)))"
   ]
  },
  {
   "cell_type": "code",
   "execution_count": 74,
   "metadata": {
    "collapsed": true
   },
   "outputs": [],
   "source": [
    "test_scores = []\n",
    "training_time = []\n",
    "\n",
    "for m in models:\n",
    "    start = time.time()\n",
    "    s = cross_val_score(m, X,y,cv = 10, scoring = \"accuracy\")\n",
    "    end = time.time()\n",
    "    test_scores.append(s)\n",
    "    training_time.append(end-start)\n",
    "    "
   ]
  },
  {
   "cell_type": "code",
   "execution_count": 75,
   "metadata": {},
   "outputs": [
    {
     "data": {
      "text/plain": [
       "[array([ 0.90014903,  0.86978131,  0.87363184,  0.88972056,  0.88105947,\n",
       "         0.87587588,  0.89618857,  0.88403614,  0.87883358,  0.87116256]),\n",
       " array([ 0.95976155,  0.95477137,  0.95920398,  0.95359281,  0.96251874,\n",
       "         0.94544545,  0.95636911,  0.95983936,  0.95022624,  0.95168596]),\n",
       " array([ 0.98062593,  0.97166998,  0.97661692,  0.98253493,  0.98350825,\n",
       "         0.97097097,  0.97342026,  0.98293173,  0.98290598,  0.97684952]),\n",
       " array([ 0.89120715,  0.87425447,  0.86716418,  0.84481038,  0.86556722,\n",
       "         0.81681682,  0.87211635,  0.83283133,  0.87883358,  0.83794665])]"
      ]
     },
     "execution_count": 75,
     "metadata": {},
     "output_type": "execute_result"
    }
   ],
   "source": [
    "test_scores"
   ]
  },
  {
   "cell_type": "code",
   "execution_count": 76,
   "metadata": {},
   "outputs": [
    {
     "data": {
      "text/plain": [
       "[1.8629446029663086, 6.792802095413208, 146.01319813728333, 161.44543838500977]"
      ]
     },
     "execution_count": 76,
     "metadata": {},
     "output_type": "execute_result"
    }
   ],
   "source": [
    "training_time"
   ]
  },
  {
   "cell_type": "code",
   "execution_count": 77,
   "metadata": {
    "collapsed": true
   },
   "outputs": [],
   "source": [
    "Models = ['Tree','KNN','SVM','NN']"
   ]
  },
  {
   "cell_type": "code",
   "execution_count": 100,
   "metadata": {
    "collapsed": true
   },
   "outputs": [],
   "source": [
    "sns.set(rc={'figure.figsize':(11.7,8.27)})"
   ]
  },
  {
   "cell_type": "code",
   "execution_count": 102,
   "metadata": {},
   "outputs": [
    {
     "data": {
      "text/plain": [
       "<matplotlib.text.Text at 0xf4ac518>"
      ]
     },
     "execution_count": 102,
     "metadata": {},
     "output_type": "execute_result"
    },
    {
     "data": {
      "image/png": "[encoded data removed]",
      "text/plain": [
       "<matplotlib.figure.Figure at 0x11e3c390>"
      ]
     },
     "metadata": {},
     "output_type": "display_data"
    }
   ],
   "source": [
    "sns.barplot(Models,training_time)\n",
    "plt.xlabel('Models used ')\n",
    "plt.ylabel('Training time in(s)')"
   ]
  },
  {
   "cell_type": "code",
   "execution_count": 82,
   "metadata": {},
   "outputs": [],
   "source": [
    "models_df = ['Tree']*10 + ['KNN']*10 +['SVM']*10 +['NN']*10"
   ]
  },
  {
   "cell_type": "code",
   "execution_count": 96,
   "metadata": {},
   "outputs": [],
   "source": [
    "val_df = np.array(test_scores).ravel()"
   ]
  },
  {
   "cell_type": "code",
   "execution_count": 97,
   "metadata": {},
   "outputs": [],
   "source": [
    "eval_df = pd.DataFrame({\"Models\": models_df, \"Test Scores\": val_df})"
   ]
  },
  {
   "cell_type": "code",
   "execution_count": 101,
   "metadata": {},
   "outputs": [
    {
     "data": {
      "image/png": "[encoded data removed]",
      "text/plain": [
       "<matplotlib.figure.Figure at 0x127cb6d8>"
      ]
     },
     "metadata": {},
     "output_type": "display_data"
    }
   ],
   "source": [
    "ax = sns.boxplot(x='Models', y='Test Scores', data=eval_df)"
   ]
  },
  {
   "cell_type": "code",
   "execution_count": null,
   "metadata": {
    "collapsed": true
   },
   "outputs": [],
   "source": []
  }
 ],
 "metadata": {
  "kernelspec": {
   "display_name": "Python 3",
   "language": "python",
   "name": "python3"
  },
  "language_info": {
   "codemirror_mode": {
    "name": "ipython",
    "version": 3
   },
   "file_extension": ".py",
   "mimetype": "text/x-python",
   "name": "python",
   "nbconvert_exporter": "python",
   "pygments_lexer": "ipython3",
   "version": "3.6.1"
  }
 },
 "nbformat": 4,
 "nbformat_minor": 2
}
